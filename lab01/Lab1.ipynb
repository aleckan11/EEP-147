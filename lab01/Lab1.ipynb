{
 "cells": [
  {
   "cell_type": "markdown",
   "metadata": {},
   "source": [
    " # <font color = #254117>[EEP 147]: Introduction to Programming and the ESG</font>"
   ]
  },
  {
   "cell_type": "markdown",
   "metadata": {},
   "source": [
    "<img src=\"huntington_beach.jpg\" alt=\"drawing\" width=\"500\"/>"
   ]
  },
  {
   "cell_type": "markdown",
   "metadata": {},
   "source": [
    "## <font color = #254117>Before we begin...</font>\n",
    "Please help us better establish the audience that we are reaching by filling out the following form:<br />\n",
    "*insert link here!*"
   ]
  },
  {
   "cell_type": "markdown",
   "metadata": {},
   "source": [
    " # <font color = #254117>Python Basics</font>"
   ]
  },
  {
   "cell_type": "markdown",
   "metadata": {},
   "source": [
    "In this notebook, we will go over simple techniques in Python and Matplotlib that you can use to generate graphs that will help you in analyzing the ESG!\n",
    "\n",
    "\n",
    "First on our agenda is to import **<font color = ##008700>dependencies</font>** -- or packages in Python that add to the basic functions in Python. Kind of like accessorizing! For example, `matplotlib` allows us to generate the graphs we will be using.\n",
    "\n",
    "The format is as follows: <code><font color = ##008700><b>from</b></font> (package) <font color = ##008700><b>import</b></font> (stuff)</code>, where the \"stuff\" we're importing can range from a specific function in that package to a whole library of functions, as is the case when we type <code><font color = ##008700><b>import</b></font> (package) <font color = ##008700><b>as</b></font> (name)</code>."
   ]
  },
  {
   "cell_type": "code",
   "execution_count": 70,
   "metadata": {},
   "outputs": [],
   "source": [
    "from datascience import *\n",
    "import matplotlib.pyplot as plt\n",
    "%matplotlib inline\n",
    "import numpy as np\n",
    "import pandas as pd\n",
    "plt.style.use('fivethirtyeight')"
   ]
  },
  {
   "cell_type": "markdown",
   "metadata": {},
   "source": [
    "## <font color = #254117> Section 1: Math in Python </font>\n",
    "\n",
    "Python is the programming language that we will use in this lab. Although this lab will go over some basics, should you be more interested in learning Python feel free to check out the following resources:\n",
    "\n",
    "* **[Python Tutorial](https://docs.python.org/3.5/tutorial/)**: Introduction to Python from the creators of Python\n",
    "* **[Composing Programs](http://composingprograms.com/pages/11-getting-started.html)**: An introduction to programming with Python from CS 61A"
   ]
  },
  {
   "cell_type": "markdown",
   "metadata": {},
   "source": [
    "**<font color = #254117>Mathematical Expressions</font>**\n",
    "In Python, we can carry out all the mathematical processes you know and love:\n",
    "\n",
    "* Add using `+`\n",
    "* Subtract using `-`\n",
    "* Multiply using `*`\n",
    "* Divide using `/`\n",
    "* Exponentiate using `**`\n",
    "* Floor divide using `//`\n",
    "* Take the remainder / modulo using `%`\n",
    "\n",
    "The most of these you should be familiar with, but let's go over some of the more obscure processes while beginning to implement some python code!\n",
    "\n",
    "To submit the following cells and run the code, press Shift + Enter/Return!"
   ]
  },
  {
   "cell_type": "code",
   "execution_count": 2,
   "metadata": {},
   "outputs": [
    {
     "data": {
      "text/plain": [
       "3"
      ]
     },
     "execution_count": 2,
     "metadata": {},
     "output_type": "execute_result"
    }
   ],
   "source": [
    "# So what exactly does floor divide do?\n",
    "10 // 3"
   ]
  },
  {
   "cell_type": "code",
   "execution_count": 3,
   "metadata": {},
   "outputs": [
    {
     "data": {
      "text/plain": [
       "1"
      ]
     },
     "execution_count": 3,
     "metadata": {},
     "output_type": "execute_result"
    }
   ],
   "source": [
    "# What about modulo?\n",
    "10 % 3"
   ]
  },
  {
   "cell_type": "markdown",
   "metadata": {},
   "source": [
    "Very cool! Now we'll let you try, and notice that we can use parentheses to organize our order of operations.\n",
    "\n",
    "**<font color = ##008700>Exercise</font>**: Take the product of *three* and *three to the power of six* and subtract 169."
   ]
  },
  {
   "cell_type": "code",
   "execution_count": 4,
   "metadata": {
    "collapsed": true
   },
   "outputs": [],
   "source": [
    "# Insert your code where the dots are:\n",
    "..."
   ]
  },
  {
   "cell_type": "markdown",
   "metadata": {},
   "source": [
    "Awesome job! Feel free to add more cells using the + button in the upper left hand corner of the lab and play around with more mathematical expressions later! In the meantime, let's move on to the next section."
   ]
  },
  {
   "cell_type": "markdown",
   "metadata": {},
   "source": [
    "## <font color = #254117>Section 2: Variables</font>\n",
    "\n",
    "As you might recall, a name that is used to denote a value is called a variable. In python, variables can be declared and values can be assigned. Here are a few examples of variables and their assignment:"
   ]
  },
  {
   "cell_type": "code",
   "execution_count": 5,
   "metadata": {},
   "outputs": [
    {
     "data": {
      "text/plain": [
       "10"
      ]
     },
     "execution_count": 5,
     "metadata": {},
     "output_type": "execute_result"
    }
   ],
   "source": [
    "x = 2\n",
    "m = 3\n",
    "b = 4\n",
    "y = m*x + b\n",
    "# Look familiar? Press shift + enter to see the value!\n",
    "y"
   ]
  },
  {
   "cell_type": "markdown",
   "metadata": {},
   "source": [
    "**<font color = #254117>Output and Printing</font>**\n",
    "\n",
    "As you might have noticed at the end, there is a difference between returning and printing:\n",
    "\n",
    "* **Return**: A value that is not necessarily printed, but is stored away inside a computer if we assign or bind it to a name.\n",
    "* **Printing**: A value that pops up on our screen.\n",
    "We print using a **print** function and return a value using the **return** function.\n",
    "\n",
    "**<font color = #254117>Functions?</font>**\n",
    "\n",
    "You might recall that a function receives input and correspondingly will output something. In Python, we have numerous functions, such as:\n",
    "\n",
    "* `print`: The command `print('hi')` will print 'hi' out to the screen.\n",
    "* `sum`: The command `sum(2,3,4)` will sum up the values enclosed in the parentheses and return the value.\n",
    "* And more!\n",
    "\n",
    "The best thing about functions is that, in Python, we can make our own functions! We will discuss this more in depth later, but for now just remember that to call a function, we write the name of the function, like `print()` and we place our <font color = ##008700>arguments</font> inside the parentheses. \n",
    "\n",
    "Let's try it for ourselves!\n",
    "\n",
    "**<font color = ##008700>Exercise</font>**: Try printing out the phrase 'Hello World!'"
   ]
  },
  {
   "cell_type": "code",
   "execution_count": 6,
   "metadata": {},
   "outputs": [
    {
     "data": {
      "text/plain": [
       "Ellipsis"
      ]
     },
     "execution_count": 6,
     "metadata": {},
     "output_type": "execute_result"
    }
   ],
   "source": [
    "..."
   ]
  },
  {
   "cell_type": "markdown",
   "metadata": {},
   "source": [
    "## <font color = #254117>Section 3: Functions and Loops\n",
    "\n",
    "A function is a block of organized, reusable code that is used to perform a single, related action. Take for example a factorial, denoted `x!`, which takes the initial value `x` and multiplies it by `x-1` and `x-2` and so on and so forth until it gets to 1! Typing this all out would look something like this:"
   ]
  },
  {
   "cell_type": "code",
   "execution_count": 7,
   "metadata": {},
   "outputs": [
    {
     "data": {
      "text/plain": [
       "120"
      ]
     },
     "execution_count": 7,
     "metadata": {},
     "output_type": "execute_result"
    }
   ],
   "source": [
    "# Let's pick a random value for x:\n",
    "x = 5\n",
    "factorial = 5 * 4 * 3 * 2 * 1\n",
    "factorial"
   ]
  },
  {
   "cell_type": "markdown",
   "metadata": {},
   "source": [
    "This might not seem too troublesome now, but imagine doing this by hand for a larger number like 123! Instead, let's consider writing a function that can take in any value (such as 123) and output the factorial!\n",
    "\n",
    "**<font color = #254117>Function Structure</font>**\n",
    "\n",
    "So how can we begin writing a function? Well there is a very simple structure to them:\n",
    "\n",
    "<code>**<font color = ##008700>def</font>** function_name(arguments):\n",
    "    [function procedures]\n",
    "    **<font color = ##008700>return</font>** [output]</code>\n",
    "    \n",
    "There are some aspects of a function that are required no matter what kind of function you are writing. You will always begin writing a function by writing **<font color = ##008700>def</font>**, followed by the name of your function. Following the name of your function, you will want to specify your inputs by using parentheses and giving your inputs names. These names can be anything you'd like, but generally you'd like them to be memorable and symbolic of what you're trying to do.\n",
    "\n",
    "Before typing in your functions procedure in the **<font color = ##008700>body</font>** of your function, you'll want to end the first line with a `:`. Then you're ready to proceed to the body and second line of your function! You will want to indent (press tab or space 4 times) and write what you'd like your function to do.\n",
    "\n",
    "Lastly, you'll want to end the function by writing what you'd like your function to **<font color = ##008700>return</font>**.\n",
    "\n",
    "**<font color = ##008700>Example</font>**: Let's look at what a factorial function would look like!"
   ]
  },
  {
   "cell_type": "code",
   "execution_count": 8,
   "metadata": {},
   "outputs": [
    {
     "data": {
      "text/plain": [
       "120"
      ]
     },
     "execution_count": 8,
     "metadata": {},
     "output_type": "execute_result"
    }
   ],
   "source": [
    "def factorial_func(x):\n",
    "    product = 1\n",
    "    while x > 0:\n",
    "        product = product * x\n",
    "        x = x - 1\n",
    "    return product\n",
    "\n",
    "# Now let's test out our new factorial function!\n",
    "factorial_func(5)"
   ]
  },
  {
   "cell_type": "code",
   "execution_count": 9,
   "metadata": {},
   "outputs": [
    {
     "data": {
      "text/plain": [
       "12146304367025329675766243241881295855454217088483382315328918161829235892362167668831156960612640202170735835221294047782591091570411651472186029519906261646730733907419814952960000000000000000000000000000"
      ]
     },
     "execution_count": 9,
     "metadata": {},
     "output_type": "execute_result"
    }
   ],
   "source": [
    "# Try calculating the factorial value for the big number from before:\n",
    "factorial_func(123)"
   ]
  },
  {
   "cell_type": "markdown",
   "metadata": {},
   "source": [
    "Amazing! However, you might have noticed there were some new features used, which brings us to our next small topic.\n",
    "\n",
    "**<font color = #254117>Loops</font>**\n",
    "\n",
    "Something that came in handy for this equation was a loop. A loop is a piece of code that repeats a block of code **<font color = ##008700>while</font>** a condition is true or **<font color = ##008700>for</font>** a certain number of times. Like we just not-so-subtly hinted, there are two very important kinds of loops: for loops and while loops. In the case of our function above, the code under the while loop was repeated **while** `x > 0`. On the other hand, a for loop will continue looping **for** a specified number of times."
   ]
  },
  {
   "cell_type": "markdown",
   "metadata": {},
   "source": [
    "## <font color = #254117>Section 4: Data Structures</font>\n",
    "\n",
    "So now that we know how to calculate things and create functions to do so, how can we organize large amounts of information?\n",
    "\n",
    "The solution to our problem is a data structure! A data structures is simply a means by which to contain and organize our data or information. They include:\n",
    "* **<font color = ##008700>List</font>**: A list holds an ordered collection of items similar to a grocery list.\n",
    "* **<font color = ##008700>Dictionary</font>**: Like an addressbook in which keys are associated with values (similar to names and phone numbers in addressbooks).\n",
    "* **<font color = ##008700>Set</font>**: An unordered collection of items, and they operate similar to how Venn Diagrams do.\n",
    "\n",
    "Here is how we can use lists:"
   ]
  },
  {
   "cell_type": "code",
   "execution_count": 10,
   "metadata": {},
   "outputs": [
    {
     "data": {
      "text/plain": [
       "['Helen', 'Nadeem', 'Alma', 'Nika']"
      ]
     },
     "execution_count": 10,
     "metadata": {},
     "output_type": "execute_result"
    }
   ],
   "source": [
    "# Creating a list using brackets and commas in between:\n",
    "names = ['Helen', 'Nadeem', 'Alma', 'Nika']\n",
    "names"
   ]
  },
  {
   "cell_type": "code",
   "execution_count": 11,
   "metadata": {},
   "outputs": [
    {
     "data": {
      "text/plain": [
       "'Helen'"
      ]
     },
     "execution_count": 11,
     "metadata": {},
     "output_type": "execute_result"
    }
   ],
   "source": [
    "# The first name in our list, located at position 0:\n",
    "names[0]"
   ]
  },
  {
   "cell_type": "code",
   "execution_count": 12,
   "metadata": {},
   "outputs": [
    {
     "data": {
      "text/plain": [
       "['Helen', 'Nadeem', 'Alma', 'Nika', 'Sam']"
      ]
     },
     "execution_count": 12,
     "metadata": {},
     "output_type": "execute_result"
    }
   ],
   "source": [
    "# Adding a name, feel free to change the name to yours!\n",
    "names.append('Sam')\n",
    "names"
   ]
  },
  {
   "cell_type": "markdown",
   "metadata": {},
   "source": [
    "**<font color = ##008700>Exercise</font>**: Now you try creating a list with the names of some of your friends or pets!"
   ]
  },
  {
   "cell_type": "code",
   "execution_count": 13,
   "metadata": {
    "collapsed": true
   },
   "outputs": [],
   "source": [
    "# Create your list below:\n",
    "..."
   ]
  },
  {
   "cell_type": "markdown",
   "metadata": {},
   "source": [
    "As opposed to a list (or array), a dictionary contains **<font color = ##008700>keys</font>** and **<font color = ##008700>values</font>** that, when defined, are separated by a colon. Take a look at the example below:"
   ]
  },
  {
   "cell_type": "code",
   "execution_count": 14,
   "metadata": {
    "collapsed": true
   },
   "outputs": [],
   "source": [
    "# Creating a dictionary\n",
    "dictionary = {'Helen': 'Math', 'Nadeem': 'Physics', 'Alma': 'Data Science', 'Nika': 'MCB'}"
   ]
  },
  {
   "cell_type": "markdown",
   "metadata": {},
   "source": [
    "To call a certain value in a dictionary, we use the corresponding key:"
   ]
  },
  {
   "cell_type": "code",
   "execution_count": 15,
   "metadata": {},
   "outputs": [
    {
     "data": {
      "text/plain": [
       "'Math'"
      ]
     },
     "execution_count": 15,
     "metadata": {},
     "output_type": "execute_result"
    }
   ],
   "source": [
    "dictionary['Helen']"
   ]
  },
  {
   "cell_type": "markdown",
   "metadata": {},
   "source": [
    "Calling an index won't work here! Feel free to play around with the dictionary or create your own. One thing to note is that in a given dictionary, the keys must be unique, but values do not have to be."
   ]
  },
  {
   "cell_type": "markdown",
   "metadata": {},
   "source": [
    "In addition to the data structures listed above, we can also organize our information in a table. Similar to Google Sheets or Microsoft Excel, we will be organzing our data into nice-looking tables."
   ]
  },
  {
   "cell_type": "markdown",
   "metadata": {},
   "source": [
    "## <font color = #254117>Section 5: Tables</font>\n",
    "In this section, we'll cover some basic table functions. In order to begin filtering through information stored in a table, we'll have to \"read in\" the information. Most of the time, information to be displayed as a table is stored as a `.csv` file which stands for **<font color = ##008700>comma separated values</font>**.\n",
    "\n",
    "To read in a file, we use the following command:\n",
    "\n",
    "`Table.read_table('file_name.csv')`\n",
    "\n",
    "and in order to store it, we'll assign it a name or label. We'll begin by reading in the file that you'll be using for the remainder of the lab:"
   ]
  },
  {
   "cell_type": "code",
   "execution_count": 16,
   "metadata": {
    "collapsed": true
   },
   "outputs": [],
   "source": [
    "# Just run this code block!\n",
    "ESG_table = Table.read_table('ESGPorfolios_forcsv.csv')"
   ]
  },
  {
   "cell_type": "code",
   "execution_count": 30,
   "metadata": {
    "scrolled": true
   },
   "outputs": [
    {
     "data": {
      "text/html": [
       "<table border=\"1\" class=\"dataframe\">\n",
       "    <thead>\n",
       "        <tr>\n",
       "            <th>Group</th> <th>Group_num</th> <th>UNIT NAME</th> <th>Capacity_MW</th> <th>Heat_Rate_MMBTUperMWh</th> <th>Fuel_Price_USDperMMBTU</th> <th>Fuel_Cost_USDperMWH</th> <th>Var_OandM_USDperMWH</th> <th>Total_Var_Cost_USDperMWH</th> <th>Carbon_tonsperMWH</th> <th>FixedCst_OandM_perDay</th> <th>Unnamed: 11</th> <th>Unnamed: 12</th> <th>Unnamed: 13</th>\n",
       "        </tr>\n",
       "    </thead>\n",
       "    <tbody>\n",
       "        <tr>\n",
       "            <td>Big Coal</td> <td>1        </td> <td>FOUR CORNERS        </td> <td>1900       </td> <td>11.67                </td> <td>3                     </td> <td>35                 </td> <td>1.5                </td> <td>36.5                    </td> <td>1.1              </td> <td>$8,000               </td> <td>nan        </td> <td>nan        </td> <td>nan        </td>\n",
       "        </tr>\n",
       "    </tbody>\n",
       "        <tr>\n",
       "            <td>Big Coal</td> <td>1        </td> <td>ALAMITOS 7          </td> <td>250        </td> <td>16.05                </td> <td>4.5                   </td> <td>72.22              </td> <td>1.5                </td> <td>73.72                   </td> <td>0.85             </td> <td>$0                   </td> <td>nan        </td> <td>nan        </td> <td>nan        </td>\n",
       "        </tr>\n",
       "    </tbody>\n",
       "        <tr>\n",
       "            <td>Big Coal</td> <td>1        </td> <td>HUNTINGTON BEACH 1&2</td> <td>300        </td> <td>8.67                 </td> <td>4.5                   </td> <td>39                 </td> <td>1.5                </td> <td>40.5                    </td> <td>0.46             </td> <td>$2,000               </td> <td>nan        </td> <td>nan        </td> <td>nan        </td>\n",
       "        </tr>\n",
       "    </tbody>\n",
       "        <tr>\n",
       "            <td>Big Coal</td> <td>1        </td> <td>HUNTINGTON BEACH 5  </td> <td>150        </td> <td>14.44                </td> <td>4.5                   </td> <td>65                 </td> <td>1.5                </td> <td>66.5                    </td> <td>0.77             </td> <td>$2,000               </td> <td>nan        </td> <td>nan        </td> <td>nan        </td>\n",
       "        </tr>\n",
       "    </tbody>\n",
       "        <tr>\n",
       "            <td>Big Coal</td> <td>1        </td> <td>REDONDO 5&6         </td> <td>350        </td> <td>8.99                 </td> <td>4.5                   </td> <td>40.44              </td> <td>1.5                </td> <td>41.94                   </td> <td>0.48             </td> <td>$3,000               </td> <td>nan        </td> <td>nan        </td> <td>nan        </td>\n",
       "        </tr>\n",
       "    </tbody>\n",
       "        <tr>\n",
       "            <td>Big Coal</td> <td>1        </td> <td>REDONDO 7&8         </td> <td>950        </td> <td>8.99                 </td> <td>4.5                   </td> <td>40.44              </td> <td>1.5                </td> <td>41.94                   </td> <td>0.48             </td> <td>$5,000               </td> <td>nan        </td> <td>nan        </td> <td>nan        </td>\n",
       "        </tr>\n",
       "    </tbody>\n",
       "        <tr>\n",
       "            <td>Big Gas </td> <td>2        </td> <td>EL SEGUNDO 1&2      </td> <td>400        </td> <td>9.63                 </td> <td>4.5                   </td> <td>43.33              </td> <td>1.5                </td> <td>44.83                   </td> <td>0.51             </td> <td>$1,000               </td> <td>nan        </td> <td>nan        </td> <td>nan        </td>\n",
       "        </tr>\n",
       "    </tbody>\n",
       "        <tr>\n",
       "            <td>Big Gas </td> <td>2        </td> <td>EL SEGUNDO 3&4      </td> <td>650        </td> <td>8.83                 </td> <td>4.5                   </td> <td>39.72              </td> <td>1.5                </td> <td>41.22                   </td> <td>0.47             </td> <td>$1,000               </td> <td>nan        </td> <td>nan        </td> <td>nan        </td>\n",
       "        </tr>\n",
       "    </tbody>\n",
       "        <tr>\n",
       "            <td>Big Gas </td> <td>2        </td> <td>LONG BEACH          </td> <td>550        </td> <td>11.56                </td> <td>4.5                   </td> <td>52                 </td> <td>0.5                </td> <td>52.5                    </td> <td>0.61             </td> <td>$2,000               </td> <td>nan        </td> <td>nan        </td> <td>nan        </td>\n",
       "        </tr>\n",
       "    </tbody>\n",
       "        <tr>\n",
       "            <td>Big Gas </td> <td>2        </td> <td>NORTH ISLAND        </td> <td>150        </td> <td>14.44                </td> <td>4.5                   </td> <td>65                 </td> <td>0.5                </td> <td>65.5                    </td> <td>0.77             </td> <td>$0                   </td> <td>nan        </td> <td>nan        </td> <td>nan        </td>\n",
       "        </tr>\n",
       "    </tbody>\n",
       "</table>\n",
       "<p>... (32 rows omitted)</p>"
      ],
      "text/plain": [
       "Group    | Group_num | UNIT NAME            | Capacity_MW | Heat_Rate_MMBTUperMWh | Fuel_Price_USDperMMBTU | Fuel_Cost_USDperMWH | Var_OandM_USDperMWH | Total_Var_Cost_USDperMWH | Carbon_tonsperMWH | FixedCst_OandM_perDay | Unnamed: 11 | Unnamed: 12 | Unnamed: 13\n",
       "Big Coal | 1         | FOUR CORNERS         | 1900        | 11.67                 | 3                      | 35                  | 1.5                 | 36.5                     | 1.1               | $8,000                | nan         | nan         | nan\n",
       "Big Coal | 1         | ALAMITOS 7           | 250         | 16.05                 | 4.5                    | 72.22               | 1.5                 | 73.72                    | 0.85              | $0                    | nan         | nan         | nan\n",
       "Big Coal | 1         | HUNTINGTON BEACH 1&2 | 300         | 8.67                  | 4.5                    | 39                  | 1.5                 | 40.5                     | 0.46              | $2,000                | nan         | nan         | nan\n",
       "Big Coal | 1         | HUNTINGTON BEACH 5   | 150         | 14.44                 | 4.5                    | 65                  | 1.5                 | 66.5                     | 0.77              | $2,000                | nan         | nan         | nan\n",
       "Big Coal | 1         | REDONDO 5&6          | 350         | 8.99                  | 4.5                    | 40.44               | 1.5                 | 41.94                    | 0.48              | $3,000                | nan         | nan         | nan\n",
       "Big Coal | 1         | REDONDO 7&8          | 950         | 8.99                  | 4.5                    | 40.44               | 1.5                 | 41.94                    | 0.48              | $5,000                | nan         | nan         | nan\n",
       "Big Gas  | 2         | EL SEGUNDO 1&2       | 400         | 9.63                  | 4.5                    | 43.33               | 1.5                 | 44.83                    | 0.51              | $1,000                | nan         | nan         | nan\n",
       "Big Gas  | 2         | EL SEGUNDO 3&4       | 650         | 8.83                  | 4.5                    | 39.72               | 1.5                 | 41.22                    | 0.47              | $1,000                | nan         | nan         | nan\n",
       "Big Gas  | 2         | LONG BEACH           | 550         | 11.56                 | 4.5                    | 52                  | 0.5                 | 52.5                     | 0.61              | $2,000                | nan         | nan         | nan\n",
       "Big Gas  | 2         | NORTH ISLAND         | 150         | 14.44                 | 4.5                    | 65                  | 0.5                 | 65.5                     | 0.77              | $0                    | nan         | nan         | nan\n",
       "... (32 rows omitted)"
      ]
     },
     "execution_count": 30,
     "metadata": {},
     "output_type": "execute_result"
    }
   ],
   "source": [
    "ESG_table"
   ]
  },
  {
   "cell_type": "markdown",
   "metadata": {},
   "source": [
    "**<font color = #254117>Table Manipulations</font>**\n",
    "\n",
    "One of the many manipulations you can make on a table is to sort it by some value. When do you think this might be helpful?\n",
    "\n",
    "In order to sort, we will use the following table method:\n",
    "\n",
    "`table.sort(\"column_to_sort_by\", descending = False)` in which `table` is the table you are working with, `.sort` is the table method, and `\"column_to_sort_by\"` is the column label that you'd like to use when sorting your table. The label must be placed in quotation marks as it is a string or phrase. Lastly, an optional second command can be passed in following the comma.\n",
    "\n",
    "Something important to note is the second entry in the table method `table.sort`. This second argument is optional and decides whether the table will be sorted in either the ascending or descending manner. You are perfectly able to use the `table.sort` method without specifying an order.\n",
    "\n",
    "The following code sorts the different groups in ascending order by their Total_Var_Cost and assigns this sorted table to a new name. Here we've specified ascending order manually, however the default for the method, given that you didn't specify anything will always be `descending = False`."
   ]
  },
  {
   "cell_type": "code",
   "execution_count": 31,
   "metadata": {
    "collapsed": true
   },
   "outputs": [],
   "source": [
    "ESG_sorted =  ESG_table.sort(\"Total_Var_Cost_USDperMWH\", descending = False)"
   ]
  },
  {
   "cell_type": "code",
   "execution_count": 32,
   "metadata": {},
   "outputs": [
    {
     "data": {
      "text/html": [
       "<table border=\"1\" class=\"dataframe\">\n",
       "    <thead>\n",
       "        <tr>\n",
       "            <th>Group</th> <th>Group_num</th> <th>UNIT NAME</th> <th>Capacity_MW</th> <th>Heat_Rate_MMBTUperMWh</th> <th>Fuel_Price_USDperMMBTU</th> <th>Fuel_Cost_USDperMWH</th> <th>Var_OandM_USDperMWH</th> <th>Total_Var_Cost_USDperMWH</th> <th>Carbon_tonsperMWH</th> <th>FixedCst_OandM_perDay</th> <th>Unnamed: 11</th> <th>Unnamed: 12</th> <th>Unnamed: 13</th>\n",
       "        </tr>\n",
       "    </thead>\n",
       "    <tbody>\n",
       "        <tr>\n",
       "            <td>Old Timers  </td> <td>7        </td> <td>BIG CREEK      </td> <td>1000       </td> <td>nan                  </td> <td>0                     </td> <td>0                  </td> <td>0                  </td> <td>0                       </td> <td>0                </td> <td>$15,000              </td> <td>nan        </td> <td>nan        </td> <td>nan        </td>\n",
       "        </tr>\n",
       "    </tbody>\n",
       "        <tr>\n",
       "            <td>Fossil Light</td> <td>8        </td> <td>HELMS          </td> <td>800        </td> <td>nan                  </td> <td>0                     </td> <td>0                  </td> <td>0.5                </td> <td>0.5                     </td> <td>0                </td> <td>$15,000              </td> <td>nan        </td> <td>nan        </td> <td>nan        </td>\n",
       "        </tr>\n",
       "    </tbody>\n",
       "        <tr>\n",
       "            <td>Fossil Light</td> <td>8        </td> <td>DIABLO CANYON 1</td> <td>1000       </td> <td>1                    </td> <td>7.5                   </td> <td>7.5                </td> <td>4                  </td> <td>11.5                    </td> <td>0                </td> <td>$20,000              </td> <td>nan        </td> <td>nan        </td> <td>nan        </td>\n",
       "        </tr>\n",
       "    </tbody>\n",
       "        <tr>\n",
       "            <td>Bay Views   </td> <td>4        </td> <td>MOSS LANDING 6 </td> <td>750        </td> <td>6.9                  </td> <td>4.5                   </td> <td>31.06              </td> <td>1.5                </td> <td>32.56                   </td> <td>0.37             </td> <td>$8,000               </td> <td>nan        </td> <td>nan        </td> <td>nan        </td>\n",
       "        </tr>\n",
       "    </tbody>\n",
       "        <tr>\n",
       "            <td>Bay Views   </td> <td>4        </td> <td>MOSS LANDING 7 </td> <td>750        </td> <td>6.9                  </td> <td>4.5                   </td> <td>31.06              </td> <td>1.5                </td> <td>32.56                   </td> <td>0.37             </td> <td>$8,000               </td> <td>nan        </td> <td>nan        </td> <td>nan        </td>\n",
       "        </tr>\n",
       "    </tbody>\n",
       "        <tr>\n",
       "            <td>Old Timers  </td> <td>7        </td> <td>MOHAVE 1       </td> <td>750        </td> <td>10                   </td> <td>3                     </td> <td>30                 </td> <td>4.5                </td> <td>34.5                    </td> <td>0.94             </td> <td>$15,000              </td> <td>nan        </td> <td>nan        </td> <td>nan        </td>\n",
       "        </tr>\n",
       "    </tbody>\n",
       "        <tr>\n",
       "            <td>Old Timers  </td> <td>7        </td> <td>MOHAVE 2       </td> <td>750        </td> <td>10                   </td> <td>3                     </td> <td>30                 </td> <td>4.5                </td> <td>34.5                    </td> <td>0.94             </td> <td>$15,000              </td> <td>nan        </td> <td>nan        </td> <td>nan        </td>\n",
       "        </tr>\n",
       "    </tbody>\n",
       "        <tr>\n",
       "            <td>Big Coal    </td> <td>1        </td> <td>FOUR CORNERS   </td> <td>1900       </td> <td>11.67                </td> <td>3                     </td> <td>35                 </td> <td>1.5                </td> <td>36.5                    </td> <td>1.1              </td> <td>$8,000               </td> <td>nan        </td> <td>nan        </td> <td>nan        </td>\n",
       "        </tr>\n",
       "    </tbody>\n",
       "        <tr>\n",
       "            <td>Bay Views   </td> <td>4        </td> <td>MORRO BAY 3&4  </td> <td>665        </td> <td>8.02                 </td> <td>4.5                   </td> <td>36.11              </td> <td>0.5                </td> <td>36.61                   </td> <td>0.43             </td> <td>$4,000               </td> <td>nan        </td> <td>nan        </td> <td>nan        </td>\n",
       "        </tr>\n",
       "    </tbody>\n",
       "        <tr>\n",
       "            <td>East Bay    </td> <td>6        </td> <td>PITTSBURGH 5&6 </td> <td>650        </td> <td>8.02                 </td> <td>4.5                   </td> <td>36.11              </td> <td>0.5                </td> <td>36.61                   </td> <td>0.43             </td> <td>$2,500               </td> <td>nan        </td> <td>nan        </td> <td>nan        </td>\n",
       "        </tr>\n",
       "    </tbody>\n",
       "</table>\n",
       "<p>... (32 rows omitted)</p>"
      ],
      "text/plain": [
       "Group        | Group_num | UNIT NAME       | Capacity_MW | Heat_Rate_MMBTUperMWh | Fuel_Price_USDperMMBTU | Fuel_Cost_USDperMWH | Var_OandM_USDperMWH | Total_Var_Cost_USDperMWH | Carbon_tonsperMWH | FixedCst_OandM_perDay | Unnamed: 11 | Unnamed: 12 | Unnamed: 13\n",
       "Old Timers   | 7         | BIG CREEK       | 1000        | nan                   | 0                      | 0                   | 0                   | 0                        | 0                 | $15,000               | nan         | nan         | nan\n",
       "Fossil Light | 8         | HELMS           | 800         | nan                   | 0                      | 0                   | 0.5                 | 0.5                      | 0                 | $15,000               | nan         | nan         | nan\n",
       "Fossil Light | 8         | DIABLO CANYON 1 | 1000        | 1                     | 7.5                    | 7.5                 | 4                   | 11.5                     | 0                 | $20,000               | nan         | nan         | nan\n",
       "Bay Views    | 4         | MOSS LANDING 6  | 750         | 6.9                   | 4.5                    | 31.06               | 1.5                 | 32.56                    | 0.37              | $8,000                | nan         | nan         | nan\n",
       "Bay Views    | 4         | MOSS LANDING 7  | 750         | 6.9                   | 4.5                    | 31.06               | 1.5                 | 32.56                    | 0.37              | $8,000                | nan         | nan         | nan\n",
       "Old Timers   | 7         | MOHAVE 1        | 750         | 10                    | 3                      | 30                  | 4.5                 | 34.5                     | 0.94              | $15,000               | nan         | nan         | nan\n",
       "Old Timers   | 7         | MOHAVE 2        | 750         | 10                    | 3                      | 30                  | 4.5                 | 34.5                     | 0.94              | $15,000               | nan         | nan         | nan\n",
       "Big Coal     | 1         | FOUR CORNERS    | 1900        | 11.67                 | 3                      | 35                  | 1.5                 | 36.5                     | 1.1               | $8,000                | nan         | nan         | nan\n",
       "Bay Views    | 4         | MORRO BAY 3&4   | 665         | 8.02                  | 4.5                    | 36.11               | 0.5                 | 36.61                    | 0.43              | $4,000                | nan         | nan         | nan\n",
       "East Bay     | 6         | PITTSBURGH 5&6  | 650         | 8.02                  | 4.5                    | 36.11               | 0.5                 | 36.61                    | 0.43              | $2,500                | nan         | nan         | nan\n",
       "... (32 rows omitted)"
      ]
     },
     "execution_count": 32,
     "metadata": {},
     "output_type": "execute_result"
    }
   ],
   "source": [
    "# Run this code block to view the sorted table; compare it to the first one that we looked at:\n",
    "ESG_sorted"
   ]
  },
  {
   "cell_type": "markdown",
   "metadata": {},
   "source": [
    "So we've seen how to sort in ascending order, but what if we wanted the most expensive group first? We can simply run the same command but use the optional input, `descending = True`. Try it out in the code block below:"
   ]
  },
  {
   "cell_type": "code",
   "execution_count": 95,
   "metadata": {},
   "outputs": [
    {
     "data": {
      "text/html": [
       "<table border=\"1\" class=\"dataframe\">\n",
       "    <thead>\n",
       "        <tr>\n",
       "            <th>Group</th> <th>Group_num</th> <th>UNIT NAME</th> <th>Capacity_MW</th> <th>Heat_Rate_MMBTUperMWh</th> <th>Fuel_Price_USDperMMBTU</th> <th>Fuel_Cost_USDperMWH</th> <th>Var_OandM_USDperMWH</th> <th>Total_Var_Cost_USDperMWH</th> <th>Carbon_tonsperMWH</th> <th>FixedCst_OandM_perDay</th> <th>Unnamed: 11</th> <th>Unnamed: 12</th> <th>Unnamed: 13</th>\n",
       "        </tr>\n",
       "    </thead>\n",
       "    <tbody>\n",
       "        <tr>\n",
       "            <td>Big Gas     </td> <td>2        </td> <td>KEARNY            </td> <td>200        </td> <td>19.9                 </td> <td>4.5                   </td> <td>89.56              </td> <td>0.5                </td> <td>90.06                   </td> <td>1.06             </td> <td>$0                   </td> <td>nan        </td> <td>nan        </td> <td>nan        </td>\n",
       "        </tr>\n",
       "    </tbody>\n",
       "        <tr>\n",
       "            <td>Fossil Light</td> <td>8        </td> <td>HUNTERS POINT 4   </td> <td>250        </td> <td>16.53                </td> <td>4.5                   </td> <td>74.39              </td> <td>1.5                </td> <td>75.89                   </td> <td>0.88             </td> <td>$1,000               </td> <td>nan        </td> <td>nan        </td> <td>nan        </td>\n",
       "        </tr>\n",
       "    </tbody>\n",
       "        <tr>\n",
       "            <td>Beachfront  </td> <td>5        </td> <td>ELLWOOD           </td> <td>300        </td> <td>16.69                </td> <td>4.5                   </td> <td>75.11              </td> <td>0.5                </td> <td>75.61                   </td> <td>0.89             </td> <td>$0                   </td> <td>nan        </td> <td>nan        </td> <td>nan        </td>\n",
       "        </tr>\n",
       "    </tbody>\n",
       "        <tr>\n",
       "            <td>Big Coal    </td> <td>1        </td> <td>ALAMITOS 7        </td> <td>250        </td> <td>16.05                </td> <td>4.5                   </td> <td>72.22              </td> <td>1.5                </td> <td>73.72                   </td> <td>0.85             </td> <td>$0                   </td> <td>nan        </td> <td>nan        </td> <td>nan        </td>\n",
       "        </tr>\n",
       "    </tbody>\n",
       "        <tr>\n",
       "            <td>East Bay    </td> <td>6        </td> <td>POTRERO HILL      </td> <td>150        </td> <td>15.41                </td> <td>4.5                   </td> <td>69.33              </td> <td>0.5                </td> <td>69.83                   </td> <td>0.82             </td> <td>$0                   </td> <td>nan        </td> <td>nan        </td> <td>nan        </td>\n",
       "        </tr>\n",
       "    </tbody>\n",
       "        <tr>\n",
       "            <td>Big Coal    </td> <td>1        </td> <td>HUNTINGTON BEACH 5</td> <td>150        </td> <td>14.44                </td> <td>4.5                   </td> <td>65                 </td> <td>1.5                </td> <td>66.5                    </td> <td>0.77             </td> <td>$2,000               </td> <td>nan        </td> <td>nan        </td> <td>nan        </td>\n",
       "        </tr>\n",
       "    </tbody>\n",
       "        <tr>\n",
       "            <td>Big Gas     </td> <td>2        </td> <td>NORTH ISLAND      </td> <td>150        </td> <td>14.44                </td> <td>4.5                   </td> <td>65                 </td> <td>0.5                </td> <td>65.5                    </td> <td>0.77             </td> <td>$0                   </td> <td>nan        </td> <td>nan        </td> <td>nan        </td>\n",
       "        </tr>\n",
       "    </tbody>\n",
       "        <tr>\n",
       "            <td>Beachfront  </td> <td>5        </td> <td>ETIWANDA 5        </td> <td>150        </td> <td>13.64                </td> <td>4.5                   </td> <td>61.39              </td> <td>1.5                </td> <td>62.89                   </td> <td>0.72             </td> <td>$1,000               </td> <td>nan        </td> <td>nan        </td> <td>nan        </td>\n",
       "        </tr>\n",
       "    </tbody>\n",
       "        <tr>\n",
       "            <td>Bay Views   </td> <td>4        </td> <td>OAKLAND           </td> <td>150        </td> <td>13.48                </td> <td>4.5                   </td> <td>60.67              </td> <td>0.5                </td> <td>61.17                   </td> <td>0.72             </td> <td>$0                   </td> <td>nan        </td> <td>nan        </td> <td>nan        </td>\n",
       "        </tr>\n",
       "    </tbody>\n",
       "        <tr>\n",
       "            <td>East Bay    </td> <td>6        </td> <td>PITTSBURGH 7      </td> <td>700        </td> <td>13.16                </td> <td>4.5                   </td> <td>59.22              </td> <td>0.5                </td> <td>59.72                   </td> <td>0.7              </td> <td>$4,000               </td> <td>nan        </td> <td>nan        </td> <td>nan        </td>\n",
       "        </tr>\n",
       "    </tbody>\n",
       "</table>\n",
       "<p>... (32 rows omitted)</p>"
      ],
      "text/plain": [
       "Group        | Group_num | UNIT NAME          | Capacity_MW | Heat_Rate_MMBTUperMWh | Fuel_Price_USDperMMBTU | Fuel_Cost_USDperMWH | Var_OandM_USDperMWH | Total_Var_Cost_USDperMWH | Carbon_tonsperMWH | FixedCst_OandM_perDay | Unnamed: 11 | Unnamed: 12 | Unnamed: 13\n",
       "Big Gas      | 2         | KEARNY             | 200         | 19.9                  | 4.5                    | 89.56               | 0.5                 | 90.06                    | 1.06              | $0                    | nan         | nan         | nan\n",
       "Fossil Light | 8         | HUNTERS POINT 4    | 250         | 16.53                 | 4.5                    | 74.39               | 1.5                 | 75.89                    | 0.88              | $1,000                | nan         | nan         | nan\n",
       "Beachfront   | 5         | ELLWOOD            | 300         | 16.69                 | 4.5                    | 75.11               | 0.5                 | 75.61                    | 0.89              | $0                    | nan         | nan         | nan\n",
       "Big Coal     | 1         | ALAMITOS 7         | 250         | 16.05                 | 4.5                    | 72.22               | 1.5                 | 73.72                    | 0.85              | $0                    | nan         | nan         | nan\n",
       "East Bay     | 6         | POTRERO HILL       | 150         | 15.41                 | 4.5                    | 69.33               | 0.5                 | 69.83                    | 0.82              | $0                    | nan         | nan         | nan\n",
       "Big Coal     | 1         | HUNTINGTON BEACH 5 | 150         | 14.44                 | 4.5                    | 65                  | 1.5                 | 66.5                     | 0.77              | $2,000                | nan         | nan         | nan\n",
       "Big Gas      | 2         | NORTH ISLAND       | 150         | 14.44                 | 4.5                    | 65                  | 0.5                 | 65.5                     | 0.77              | $0                    | nan         | nan         | nan\n",
       "Beachfront   | 5         | ETIWANDA 5         | 150         | 13.64                 | 4.5                    | 61.39               | 1.5                 | 62.89                    | 0.72              | $1,000                | nan         | nan         | nan\n",
       "Bay Views    | 4         | OAKLAND            | 150         | 13.48                 | 4.5                    | 60.67               | 0.5                 | 61.17                    | 0.72              | $0                    | nan         | nan         | nan\n",
       "East Bay     | 6         | PITTSBURGH 7       | 700         | 13.16                 | 4.5                    | 59.22               | 0.5                 | 59.72                    | 0.7               | $4,000                | nan         | nan         | nan\n",
       "... (32 rows omitted)"
      ]
     },
     "execution_count": 95,
     "metadata": {},
     "output_type": "execute_result"
    }
   ],
   "source": [
    "# Replace the ellipsis below with the correct command:\n",
    "ESG_table.sort(\"Total_Var_Cost_USDperMWH\", ... )"
   ]
  },
  {
   "cell_type": "markdown",
   "metadata": {},
   "source": [
    "There are a wide variety of table methods, but here are the highlights, followed with examples:\n",
    "\n",
    "* `table.where(column, value_you_want)`, where *column* is the column you'd like to select from and *value_you_want* is the item you're searching for. The output will be a table that only contains elements that are the value you want for the column you specified.\n",
    "* `table.column(column)`, where *column* is again the column you'd like to select. However, this method returns the entire column as an **<font color = ##008700>array</font>** of the items in that column!\n",
    "\n",
    "Note that when specifying a column, you can use either the string label or the index of the column. And don't forget that in python, we begin counting (or indexing) at 0. Below are some examples:"
   ]
  },
  {
   "cell_type": "code",
   "execution_count": 34,
   "metadata": {},
   "outputs": [
    {
     "data": {
      "text/html": [
       "<table border=\"1\" class=\"dataframe\">\n",
       "    <thead>\n",
       "        <tr>\n",
       "            <th>Group</th> <th>Group_num</th> <th>UNIT NAME</th> <th>Capacity_MW</th> <th>Heat_Rate_MMBTUperMWh</th> <th>Fuel_Price_USDperMMBTU</th> <th>Fuel_Cost_USDperMWH</th> <th>Var_OandM_USDperMWH</th> <th>Total_Var_Cost_USDperMWH</th> <th>Carbon_tonsperMWH</th> <th>FixedCst_OandM_perDay</th> <th>Unnamed: 11</th> <th>Unnamed: 12</th> <th>Unnamed: 13</th>\n",
       "        </tr>\n",
       "    </thead>\n",
       "    <tbody>\n",
       "        <tr>\n",
       "            <td>Big Coal</td> <td>1        </td> <td>FOUR CORNERS        </td> <td>1900       </td> <td>11.67                </td> <td>3                     </td> <td>35                 </td> <td>1.5                </td> <td>36.5                    </td> <td>1.1              </td> <td>$8,000               </td> <td>nan        </td> <td>nan        </td> <td>nan        </td>\n",
       "        </tr>\n",
       "    </tbody>\n",
       "        <tr>\n",
       "            <td>Big Coal</td> <td>1        </td> <td>HUNTINGTON BEACH 1&2</td> <td>300        </td> <td>8.67                 </td> <td>4.5                   </td> <td>39                 </td> <td>1.5                </td> <td>40.5                    </td> <td>0.46             </td> <td>$2,000               </td> <td>nan        </td> <td>nan        </td> <td>nan        </td>\n",
       "        </tr>\n",
       "    </tbody>\n",
       "        <tr>\n",
       "            <td>Big Coal</td> <td>1        </td> <td>REDONDO 5&6         </td> <td>350        </td> <td>8.99                 </td> <td>4.5                   </td> <td>40.44              </td> <td>1.5                </td> <td>41.94                   </td> <td>0.48             </td> <td>$3,000               </td> <td>nan        </td> <td>nan        </td> <td>nan        </td>\n",
       "        </tr>\n",
       "    </tbody>\n",
       "        <tr>\n",
       "            <td>Big Coal</td> <td>1        </td> <td>REDONDO 7&8         </td> <td>950        </td> <td>8.99                 </td> <td>4.5                   </td> <td>40.44              </td> <td>1.5                </td> <td>41.94                   </td> <td>0.48             </td> <td>$5,000               </td> <td>nan        </td> <td>nan        </td> <td>nan        </td>\n",
       "        </tr>\n",
       "    </tbody>\n",
       "        <tr>\n",
       "            <td>Big Coal</td> <td>1        </td> <td>HUNTINGTON BEACH 5  </td> <td>150        </td> <td>14.44                </td> <td>4.5                   </td> <td>65                 </td> <td>1.5                </td> <td>66.5                    </td> <td>0.77             </td> <td>$2,000               </td> <td>nan        </td> <td>nan        </td> <td>nan        </td>\n",
       "        </tr>\n",
       "    </tbody>\n",
       "        <tr>\n",
       "            <td>Big Coal</td> <td>1        </td> <td>ALAMITOS 7          </td> <td>250        </td> <td>16.05                </td> <td>4.5                   </td> <td>72.22              </td> <td>1.5                </td> <td>73.72                   </td> <td>0.85             </td> <td>$0                   </td> <td>nan        </td> <td>nan        </td> <td>nan        </td>\n",
       "        </tr>\n",
       "    </tbody>\n",
       "</table>"
      ],
      "text/plain": [
       "Group    | Group_num | UNIT NAME            | Capacity_MW | Heat_Rate_MMBTUperMWh | Fuel_Price_USDperMMBTU | Fuel_Cost_USDperMWH | Var_OandM_USDperMWH | Total_Var_Cost_USDperMWH | Carbon_tonsperMWH | FixedCst_OandM_perDay | Unnamed: 11 | Unnamed: 12 | Unnamed: 13\n",
       "Big Coal | 1         | FOUR CORNERS         | 1900        | 11.67                 | 3                      | 35                  | 1.5                 | 36.5                     | 1.1               | $8,000                | nan         | nan         | nan\n",
       "Big Coal | 1         | HUNTINGTON BEACH 1&2 | 300         | 8.67                  | 4.5                    | 39                  | 1.5                 | 40.5                     | 0.46              | $2,000                | nan         | nan         | nan\n",
       "Big Coal | 1         | REDONDO 5&6          | 350         | 8.99                  | 4.5                    | 40.44               | 1.5                 | 41.94                    | 0.48              | $3,000                | nan         | nan         | nan\n",
       "Big Coal | 1         | REDONDO 7&8          | 950         | 8.99                  | 4.5                    | 40.44               | 1.5                 | 41.94                    | 0.48              | $5,000                | nan         | nan         | nan\n",
       "Big Coal | 1         | HUNTINGTON BEACH 5   | 150         | 14.44                 | 4.5                    | 65                  | 1.5                 | 66.5                     | 0.77              | $2,000                | nan         | nan         | nan\n",
       "Big Coal | 1         | ALAMITOS 7           | 250         | 16.05                 | 4.5                    | 72.22               | 1.5                 | 73.72                    | 0.85              | $0                    | nan         | nan         | nan"
      ]
     },
     "execution_count": 34,
     "metadata": {},
     "output_type": "execute_result"
    }
   ],
   "source": [
    "Big_Coal= ESG_sorted.where(\"Group\",\"Big Coal\")\n",
    "Big_Coal"
   ]
  },
  {
   "cell_type": "markdown",
   "metadata": {},
   "source": [
    "From the original table, we extract information about one particular group: Big Coal. In the following code blocks we create 2 arrays, **<font color = ##008700>width_coal</font>** and **<font color = ##008700>height_coal</font>**. The items of the **<font color = ##008700>width_coal</font>** array are basically the capacity of Big Coal plants in MWH while **<font color = ##008700>height_coal</font>** contains their cost in USD per MWH."
   ]
  },
  {
   "cell_type": "code",
   "execution_count": 35,
   "metadata": {},
   "outputs": [
    {
     "name": "stdout",
     "output_type": "stream",
     "text": [
      "width_coal:  [1900  300  350  950  150  250]\n",
      "height_coal:  [ 36.5   40.5   41.94  41.94  66.5   73.72]\n"
     ]
    }
   ],
   "source": [
    "# Here we select the appropriate columns:\n",
    "width_coal = Big_Coal.column(\"Capacity_MW\")\n",
    "height_coal = Big_Coal.column(\"Total_Var_Cost_USDperMWH\")\n",
    "\n",
    "# Don't worry about the following code, we are simply making it 'look nice':\n",
    "print(\"width_coal: \", width_coal)\n",
    "print(\"height_coal: \", height_coal)"
   ]
  },
  {
   "cell_type": "markdown",
   "metadata": {},
   "source": [
    "### <center><font color = #254117>Congratulations! You've successfully completed the Intro to Python section!</font></center>\n",
    "\n",
    "<center>We will now move onto the application of these techniques. Make sure you understand the tables we created as we will be using these in the parts that follow.</center>"
   ]
  },
  {
   "cell_type": "markdown",
   "metadata": {},
   "source": [
    "# <font color = #254117>Application to the Electricity Strategy Game</font>"
   ]
  },
  {
   "cell_type": "markdown",
   "metadata": {},
   "source": [
    "Next, we will use the widths we generated from the sorted ESG table and create an array of x positions used to graph the Variable Cost vs Capacity_MW bar graph with the **<font color = ##008700>find_x_pos</font>** function."
   ]
  },
  {
   "cell_type": "code",
   "execution_count": 36,
   "metadata": {
    "collapsed": true
   },
   "outputs": [],
   "source": [
    "def find_x_pos(widths):\n",
    "    cumulative_widths = [0]\n",
    "    cumulative_widths.extend(np.cumsum(widths))\n",
    "    half_widths = [i/2 for i in widths]\n",
    "    x_pos = []\n",
    "    for i in range(0, len(half_widths)):\n",
    "        x_pos.append(half_widths[i] + cumulative_widths[i])\n",
    "    return x_pos\n"
   ]
  },
  {
   "cell_type": "code",
   "execution_count": 37,
   "metadata": {},
   "outputs": [
    {
     "data": {
      "text/plain": [
       "[950.0, 2050.0, 2375.0, 3025.0, 3575.0, 3775.0]"
      ]
     },
     "execution_count": 37,
     "metadata": {},
     "output_type": "execute_result"
    }
   ],
   "source": [
    "new_x_coal = find_x_pos(width_coal)\n",
    "new_x_coal"
   ]
  },
  {
   "cell_type": "markdown",
   "metadata": {},
   "source": [
    "Now we make a bar plot of the data we have collected so far, with **<font color = ##008700>new_x_coal</font>** on the x axis and **<font color = ##008700>height_coal</font>** on the y axis."
   ]
  },
  {
   "cell_type": "code",
   "execution_count": 97,
   "metadata": {
    "scrolled": true
   },
   "outputs": [
    {
     "data": {
      "image/png": "[encoded data removed]",
      "text/plain": [
       "<Figure size 432x288 with 1 Axes>"
      ]
     },
     "metadata": {},
     "output_type": "display_data"
    }
   ],
   "source": [
    "# Make the plot\n",
    "plt.bar(new_x_coal, height_coal, width=width_coal, edgecolor = \"black\")\n",
    "# Add title and axis names\n",
    "plt.title('Big Coal')\n",
    "plt.xlabel('Capacity_MW')\n",
    "plt.ylabel('Variable Cost')\n",
    "\n",
    "plt.show()"
   ]
  },
  {
   "cell_type": "markdown",
   "metadata": {},
   "source": [
    "Repeat the same process, this time for all the energy sources. Since we are not concerned with any one particular group here, we use the original **<font color = ##008700>ESG_sorted</font>** table."
   ]
  },
  {
   "cell_type": "code",
   "execution_count": 39,
   "metadata": {},
   "outputs": [
    {
     "data": {
      "text/plain": [
       "array([  0.  ,   0.5 ,  11.5 ,  32.56,  32.56,  34.5 ,  34.5 ,  36.5 ,\n",
       "        36.61,  36.61,  38.06,  38.06,  38.78,  39.06,  39.5 ,  40.5 ,\n",
       "        40.94,  41.22,  41.67,  41.94,  41.94,  42.39,  42.67,  43.83,\n",
       "        44.83,  47.44,  49.17,  49.61,  52.06,  52.5 ,  53.94,  58.28,\n",
       "        59.72,  61.17,  62.89,  65.5 ,  66.5 ,  69.83,  73.72,  75.61,\n",
       "        75.89,  90.06])"
      ]
     },
     "execution_count": 39,
     "metadata": {},
     "output_type": "execute_result"
    }
   ],
   "source": [
    "width = ESG_sorted.column(\"Capacity_MW\")\n",
    "width\n",
    "height = ESG_sorted.column(\"Total_Var_Cost_USDperMWH\")\n",
    "height"
   ]
  },
  {
   "cell_type": "code",
   "execution_count": 40,
   "metadata": {},
   "outputs": [
    {
     "data": {
      "text/plain": [
       "[500.0,\n",
       " 1400.0,\n",
       " 2300.0,\n",
       " 3175.0,\n",
       " 3925.0,\n",
       " 4675.0,\n",
       " 5425.0,\n",
       " 6750.0,\n",
       " 8032.5,\n",
       " 8690.0,\n",
       " 9365.0,\n",
       " 10065.0,\n",
       " 10582.5,\n",
       " 10900.0,\n",
       " 11400.0,\n",
       " 11900.0,\n",
       " 12375.0,\n",
       " 13025.0,\n",
       " 13825.0,\n",
       " 14475.0,\n",
       " 15125.0,\n",
       " 15925.0,\n",
       " 16675.0,\n",
       " 17450.0,\n",
       " 18000.0,\n",
       " 18275.0,\n",
       " 18425.0,\n",
       " 18575.0,\n",
       " 18725.0,\n",
       " 19075.0,\n",
       " 19400.0,\n",
       " 19525.0,\n",
       " 19950.0,\n",
       " 20375.0,\n",
       " 20525.0,\n",
       " 20675.0,\n",
       " 20825.0,\n",
       " 20975.0,\n",
       " 21175.0,\n",
       " 21450.0,\n",
       " 21725.0,\n",
       " 21950.0]"
      ]
     },
     "execution_count": 40,
     "metadata": {},
     "output_type": "execute_result"
    }
   ],
   "source": [
    "new_x = find_x_pos(width)\n",
    "new_x"
   ]
  },
  {
   "cell_type": "code",
   "execution_count": 71,
   "metadata": {},
   "outputs": [
    {
     "data": {
      "image/png": "[encoded data removed]",
      "text/plain": [
       "<Figure size 432x288 with 1 Axes>"
      ]
     },
     "metadata": {},
     "output_type": "display_data"
    }
   ],
   "source": [
    "# Make the plot\n",
    "plt.bar(new_x, height, width=width, edgecolor = \"black\")\n",
    "#plt.xticks(y_pos, bars)\n",
    "# Add title and axis names\n",
    "plt.title('All Energy Sources')\n",
    "plt.xlabel('Capacity_MW')\n",
    "plt.ylabel('Variable Cost')\n",
    "\n",
    "plt.show()"
   ]
  },
  {
   "cell_type": "markdown",
   "metadata": {},
   "source": [
    "Our aim now is to make a plot which shows all the different groups with unique colors. The first step in doing this is creating a dictionary called **<font color = ##008700>energy_colors_dict</font>** in which the groups and colors are a key-value pair. We use the following code to accomplish this:"
   ]
  },
  {
   "cell_type": "code",
   "execution_count": 72,
   "metadata": {
    "collapsed": true
   },
   "outputs": [],
   "source": [
    "energy_colors_dict = {}\n",
    "count = 0\n",
    "colors = ['#EC5F67', '#F29056', '#F9C863', '#99C794', '#5FB3B3', '#6699CC', '#C594C5']\n",
    "for i in set(ESG_sorted['Group']):\n",
    "    energy_colors_dict[i] = colors[count]\n",
    "    count += 1"
   ]
  },
  {
   "cell_type": "markdown",
   "metadata": {},
   "source": [
    "Now, we just map the colors from our dictionary to a series which contains all the groups. Our resultant list will have the same length as the **<font color = ##008700>ESG_sorted</font>** table."
   ]
  },
  {
   "cell_type": "code",
   "execution_count": 73,
   "metadata": {
    "collapsed": true,
    "scrolled": true
   },
   "outputs": [],
   "source": [
    "colors_mapped = list(pd.Series(ESG_sorted['Group']).map(energy_colors_dict))"
   ]
  },
  {
   "cell_type": "markdown",
   "metadata": {},
   "source": [
    "Finally, we add that array as a column to our original table."
   ]
  },
  {
   "cell_type": "code",
   "execution_count": 74,
   "metadata": {
    "collapsed": true
   },
   "outputs": [],
   "source": [
    "ESG_sorted = ESG_sorted.with_column('Color', colors_mapped)"
   ]
  },
  {
   "cell_type": "markdown",
   "metadata": {},
   "source": [
    "Our plot now shows the Variable Cost and Capacity for each group in a different color."
   ]
  },
  {
   "cell_type": "code",
   "execution_count": 75,
   "metadata": {},
   "outputs": [
    {
     "data": {
      "image/png": "[encoded data removed]",
      "text/plain": [
       "<Figure size 432x288 with 1 Axes>"
      ]
     },
     "metadata": {},
     "output_type": "display_data"
    }
   ],
   "source": [
    "# Make the plot\n",
    "plt.bar(new_x, height, width=width, color=ESG_sorted['Color'], edgecolor = \"black\")\n",
    "#plt.xticks(y_pos, bars)\n",
    "# Add title and axis names\n",
    "plt.title('All Energy Sources')\n",
    "plt.xlabel('Capacity_MW')\n",
    "plt.ylabel('Variable Cost')\n",
    "\n",
    "plt.show()"
   ]
  },
  {
   "cell_type": "markdown",
   "metadata": {},
   "source": [
    "To determine how many plants will produce, we will take into account the demand for energy production. We will set this variable below."
   ]
  },
  {
   "cell_type": "code",
   "execution_count": 76,
   "metadata": {
    "collapsed": true
   },
   "outputs": [],
   "source": [
    "demand = 20000"
   ]
  },
  {
   "cell_type": "markdown",
   "metadata": {},
   "source": [
    "The functions below will calculate the maximum variable cost companies can have in order to make profit based on the demand above. For this part we will make the assumption that plants are willing to sell at a price proportional to their variable cost."
   ]
  },
  {
   "cell_type": "code",
   "execution_count": 77,
   "metadata": {
    "collapsed": true
   },
   "outputs": [],
   "source": [
    "def price_calc(demand, sorted_table):\n",
    "    sum_cap = 0\n",
    "    for i in range(0,len(sorted_table['Capacity_MW'])):\n",
    "        if sum_cap + sorted_table['Capacity_MW'][i] > demand:\n",
    "            global price\n",
    "            price = sorted_table['Total_Var_Cost_USDperMWH'][i]\n",
    "            break\n",
    "        else:\n",
    "            sum_cap += sorted_table['Capacity_MW'][i]"
   ]
  },
  {
   "cell_type": "code",
   "execution_count": 78,
   "metadata": {
    "collapsed": true
   },
   "outputs": [],
   "source": [
    "def price_line_plot():\n",
    "    global price\n",
    "    plt.axhline(y=price, color='r', linewidth = 2)\n",
    "    print(\"Price: \" + str(price))"
   ]
  },
  {
   "cell_type": "code",
   "execution_count": 79,
   "metadata": {
    "collapsed": true
   },
   "outputs": [],
   "source": [
    "def demand_plot():\n",
    "    global demand\n",
    "    plt.axvline(x=demand, color='r', linewidth = 2)\n",
    "    print(\"Capacity: \" + str(demand))"
   ]
  },
  {
   "cell_type": "markdown",
   "metadata": {},
   "source": [
    "Next we will add the vertical line for demand and horizontal line for variable cost cap into the graph. Since we have our plants graphed in order of lowest variable cost to highest variable cost, we can see that the companies to the left of the vertical demand line will produce energy while the companies to the right of the vertical demand line will not. This is because the public will purchase from the plants that have the cheapest prices, and we have graphed the cumulative energy production of companies ordered by increasing variable cost of production."
   ]
  },
  {
   "cell_type": "code",
   "execution_count": 80,
   "metadata": {},
   "outputs": [
    {
     "name": "stdout",
     "output_type": "stream",
     "text": [
      "Price: 59.72\n",
      "Capacity: 20000\n"
     ]
    },
    {
     "data": {
      "image/png": "[encoded data removed]",
      "text/plain": [
       "<Figure size 432x288 with 1 Axes>"
      ]
     },
     "metadata": {},
     "output_type": "display_data"
    }
   ],
   "source": [
    "# Make the plot\n",
    "plt.bar(new_x, height, width=width, color=ESG_sorted['Color'], edgecolor = \"black\")\n",
    "plt.title('All Energy Sources')\n",
    "plt.xlabel('Capacity_MW')\n",
    "plt.ylabel('Variable Cost')\n",
    "price_calc(demand ,ESG_sorted)\n",
    "price_line_plot()\n",
    "demand_plot()\n",
    "\n",
    "plt.show()"
   ]
  },
  {
   "cell_type": "markdown",
   "metadata": {},
   "source": [
    "Now we will graph our variable cost cap with just the Big Coal plants."
   ]
  },
  {
   "cell_type": "code",
   "execution_count": 81,
   "metadata": {},
   "outputs": [
    {
     "name": "stdout",
     "output_type": "stream",
     "text": [
      "Price: 59.72\n"
     ]
    },
    {
     "data": {
      "image/png": "[encoded data removed]",
      "text/plain": [
       "<Figure size 432x288 with 1 Axes>"
      ]
     },
     "metadata": {},
     "output_type": "display_data"
    }
   ],
   "source": [
    "# Make the plot\n",
    "plt.bar(new_x_coal, height_coal, width=width_coal, edgecolor = \"black\")\n",
    "plt.title('Big Coal')\n",
    "plt.xlabel('Capacity_MW')\n",
    "plt.ylabel('Variable Cost')\n",
    "price_line_plot()\n",
    "\n",
    "plt.show()"
   ]
  },
  {
   "cell_type": "markdown",
   "metadata": {},
   "source": [
    "Lastly, we calculate the profit that our plants can make. Here we first calculate the revenue for the plant, by multiplying the capacity that will be produced by the market price. Next, we subtract the cost of production for each plant that is operating, and get our estimate for profit!"
   ]
  },
  {
   "cell_type": "code",
   "execution_count": 82,
   "metadata": {},
   "outputs": [
    {
     "data": {
      "text/plain": [
       "3500"
      ]
     },
     "execution_count": 82,
     "metadata": {},
     "output_type": "execute_result"
    }
   ],
   "source": [
    "sum(Big_Coal.where(\"Total_Var_Cost_USDperMWH\", are.below(price))[\"Capacity_MW\"])"
   ]
  },
  {
   "cell_type": "code",
   "execution_count": 93,
   "metadata": {
    "collapsed": true
   },
   "outputs": [],
   "source": [
    "def profit(sorted_table):\n",
    "    global price\n",
    "    global capacity\n",
    "    capacity_subset = sum(sorted_table.where(\"Total_Var_Cost_USDperMWH\", are.below(price))[\"Capacity_MW\"])\n",
    "    revenue = capacity_subset * price\n",
    "    cost = 0\n",
    "    for i in range(len(sorted_table.where(\"Total_Var_Cost_USDperMWH\", are.below(price))[\"Total_Var_Cost_USDperMWH\"])):\n",
    "        cost += sorted_table.where(\"Total_Var_Cost_USDperMWH\", are.below(price))[\"Total_Var_Cost_USDperMWH\"][i]\\\n",
    "        * sorted_table.where(\"Total_Var_Cost_USDperMWH\", are.below(price))[\"Capacity_MW\"][i]\n",
    "    return revenue - cost"
   ]
  },
  {
   "cell_type": "code",
   "execution_count": 94,
   "metadata": {},
   "outputs": [
    {
     "data": {
      "text/plain": [
       "72998.0"
      ]
     },
     "execution_count": 94,
     "metadata": {},
     "output_type": "execute_result"
    }
   ],
   "source": [
    "profit(Big_Coal)"
   ]
  },
  {
   "cell_type": "markdown",
   "metadata": {},
   "source": [
    "So now we have the ability to estimate the amount of profit our plants will generate based on a given amount of demand. However, there is a caveat in what we have done. The graphs above are generated by using the marginal cost. In reality, you (and every other team) can choose to price their plants however they wish, so there is no guarantee that any of these estimates are accurate."
   ]
  }
 ],
 "metadata": {
  "kernelspec": {
   "display_name": "Python 3",
   "language": "python",
   "name": "python3"
  },
  "language_info": {
   "codemirror_mode": {
    "name": "ipython",
    "version": 3
   },
   "file_extension": ".py",
   "mimetype": "text/x-python",
   "name": "python",
   "nbconvert_exporter": "python",
   "pygments_lexer": "ipython3",
   "version": "3.5.4"
  }
 },
 "nbformat": 4,
 "nbformat_minor": 2
}
