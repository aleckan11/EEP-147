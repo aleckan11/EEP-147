{
 "cells": [
  {
   "cell_type": "code",
   "execution_count": 30,
   "metadata": {
    "collapsed": true
   },
   "outputs": [],
   "source": [
    "from datascience import *\n",
    "import matplotlib.pyplot as plt\n",
    "%matplotlib inline\n",
    "import numpy as np\n",
    "import pandas as pd"
   ]
  },
  {
   "cell_type": "code",
   "execution_count": 3,
   "metadata": {
    "collapsed": true
   },
   "outputs": [],
   "source": [
    "ESG_table = Table.read_table('ESGPorfolios_forcsv.csv')\n",
    "ESG_sorted =  ESG_table.sort(\"Total_Var_Cost_USDperMWH\")"
   ]
  },
  {
   "cell_type": "code",
   "execution_count": 4,
   "metadata": {},
   "outputs": [
    {
     "data": {
      "text/html": [
       "<table border=\"1\" class=\"dataframe\">\n",
       "    <thead>\n",
       "        <tr>\n",
       "            <th>Group</th> <th>Group_num</th> <th>UNIT NAME</th> <th>Capacity_MW</th> <th>Heat_Rate_MMBTUperMWh</th> <th>Fuel_Price_USDperMMBTU</th> <th>Fuel_Cost_USDperMWH</th> <th>Var_OandM_USDperMWH</th> <th>Total_Var_Cost_USDperMWH</th> <th>Carbon_tonsperMWH</th> <th>FixedCst_OandM_perDay</th> <th>Unnamed: 11</th> <th>Unnamed: 12</th> <th>Unnamed: 13</th>\n",
       "        </tr>\n",
       "    </thead>\n",
       "    <tbody>\n",
       "        <tr>\n",
       "            <td>Old Timers  </td> <td>7        </td> <td>BIG CREEK      </td> <td>1000       </td> <td>nan                  </td> <td>0                     </td> <td>0                  </td> <td>0                  </td> <td>0                       </td> <td>0                </td> <td>$15,000              </td> <td>nan        </td> <td>nan        </td> <td>nan        </td>\n",
       "        </tr>\n",
       "    </tbody>\n",
       "        <tr>\n",
       "            <td>Fossil Light</td> <td>8        </td> <td>HELMS          </td> <td>800        </td> <td>nan                  </td> <td>0                     </td> <td>0                  </td> <td>0.5                </td> <td>0.5                     </td> <td>0                </td> <td>$15,000              </td> <td>nan        </td> <td>nan        </td> <td>nan        </td>\n",
       "        </tr>\n",
       "    </tbody>\n",
       "        <tr>\n",
       "            <td>Fossil Light</td> <td>8        </td> <td>DIABLO CANYON 1</td> <td>1000       </td> <td>1                    </td> <td>7.5                   </td> <td>7.5                </td> <td>4                  </td> <td>11.5                    </td> <td>0                </td> <td>$20,000              </td> <td>nan        </td> <td>nan        </td> <td>nan        </td>\n",
       "        </tr>\n",
       "    </tbody>\n",
       "        <tr>\n",
       "            <td>Bay Views   </td> <td>4        </td> <td>MOSS LANDING 6 </td> <td>750        </td> <td>6.9                  </td> <td>4.5                   </td> <td>31.06              </td> <td>1.5                </td> <td>32.56                   </td> <td>0.37             </td> <td>$8,000               </td> <td>nan        </td> <td>nan        </td> <td>nan        </td>\n",
       "        </tr>\n",
       "    </tbody>\n",
       "        <tr>\n",
       "            <td>Bay Views   </td> <td>4        </td> <td>MOSS LANDING 7 </td> <td>750        </td> <td>6.9                  </td> <td>4.5                   </td> <td>31.06              </td> <td>1.5                </td> <td>32.56                   </td> <td>0.37             </td> <td>$8,000               </td> <td>nan        </td> <td>nan        </td> <td>nan        </td>\n",
       "        </tr>\n",
       "    </tbody>\n",
       "        <tr>\n",
       "            <td>Old Timers  </td> <td>7        </td> <td>MOHAVE 1       </td> <td>750        </td> <td>10                   </td> <td>3                     </td> <td>30                 </td> <td>4.5                </td> <td>34.5                    </td> <td>0.94             </td> <td>$15,000              </td> <td>nan        </td> <td>nan        </td> <td>nan        </td>\n",
       "        </tr>\n",
       "    </tbody>\n",
       "        <tr>\n",
       "            <td>Old Timers  </td> <td>7        </td> <td>MOHAVE 2       </td> <td>750        </td> <td>10                   </td> <td>3                     </td> <td>30                 </td> <td>4.5                </td> <td>34.5                    </td> <td>0.94             </td> <td>$15,000              </td> <td>nan        </td> <td>nan        </td> <td>nan        </td>\n",
       "        </tr>\n",
       "    </tbody>\n",
       "        <tr>\n",
       "            <td>Big Coal    </td> <td>1        </td> <td>FOUR CORNERS   </td> <td>1900       </td> <td>11.67                </td> <td>3                     </td> <td>35                 </td> <td>1.5                </td> <td>36.5                    </td> <td>1.1              </td> <td>$8,000               </td> <td>nan        </td> <td>nan        </td> <td>nan        </td>\n",
       "        </tr>\n",
       "    </tbody>\n",
       "        <tr>\n",
       "            <td>Bay Views   </td> <td>4        </td> <td>MORRO BAY 3&4  </td> <td>665        </td> <td>8.02                 </td> <td>4.5                   </td> <td>36.11              </td> <td>0.5                </td> <td>36.61                   </td> <td>0.43             </td> <td>$4,000               </td> <td>nan        </td> <td>nan        </td> <td>nan        </td>\n",
       "        </tr>\n",
       "    </tbody>\n",
       "        <tr>\n",
       "            <td>East Bay    </td> <td>6        </td> <td>PITTSBURGH 5&6 </td> <td>650        </td> <td>8.02                 </td> <td>4.5                   </td> <td>36.11              </td> <td>0.5                </td> <td>36.61                   </td> <td>0.43             </td> <td>$2,500               </td> <td>nan        </td> <td>nan        </td> <td>nan        </td>\n",
       "        </tr>\n",
       "    </tbody>\n",
       "</table>\n",
       "<p>... (32 rows omitted)</p>"
      ],
      "text/plain": [
       "Group        | Group_num | UNIT NAME       | Capacity_MW | Heat_Rate_MMBTUperMWh | Fuel_Price_USDperMMBTU | Fuel_Cost_USDperMWH | Var_OandM_USDperMWH | Total_Var_Cost_USDperMWH | Carbon_tonsperMWH | FixedCst_OandM_perDay | Unnamed: 11 | Unnamed: 12 | Unnamed: 13\n",
       "Old Timers   | 7         | BIG CREEK       | 1000        | nan                   | 0                      | 0                   | 0                   | 0                        | 0                 | $15,000               | nan         | nan         | nan\n",
       "Fossil Light | 8         | HELMS           | 800         | nan                   | 0                      | 0                   | 0.5                 | 0.5                      | 0                 | $15,000               | nan         | nan         | nan\n",
       "Fossil Light | 8         | DIABLO CANYON 1 | 1000        | 1                     | 7.5                    | 7.5                 | 4                   | 11.5                     | 0                 | $20,000               | nan         | nan         | nan\n",
       "Bay Views    | 4         | MOSS LANDING 6  | 750         | 6.9                   | 4.5                    | 31.06               | 1.5                 | 32.56                    | 0.37              | $8,000                | nan         | nan         | nan\n",
       "Bay Views    | 4         | MOSS LANDING 7  | 750         | 6.9                   | 4.5                    | 31.06               | 1.5                 | 32.56                    | 0.37              | $8,000                | nan         | nan         | nan\n",
       "Old Timers   | 7         | MOHAVE 1        | 750         | 10                    | 3                      | 30                  | 4.5                 | 34.5                     | 0.94              | $15,000               | nan         | nan         | nan\n",
       "Old Timers   | 7         | MOHAVE 2        | 750         | 10                    | 3                      | 30                  | 4.5                 | 34.5                     | 0.94              | $15,000               | nan         | nan         | nan\n",
       "Big Coal     | 1         | FOUR CORNERS    | 1900        | 11.67                 | 3                      | 35                  | 1.5                 | 36.5                     | 1.1               | $8,000                | nan         | nan         | nan\n",
       "Bay Views    | 4         | MORRO BAY 3&4   | 665         | 8.02                  | 4.5                    | 36.11               | 0.5                 | 36.61                    | 0.43              | $4,000                | nan         | nan         | nan\n",
       "East Bay     | 6         | PITTSBURGH 5&6  | 650         | 8.02                  | 4.5                    | 36.11               | 0.5                 | 36.61                    | 0.43              | $2,500                | nan         | nan         | nan\n",
       "... (32 rows omitted)"
      ]
     },
     "execution_count": 4,
     "metadata": {},
     "output_type": "execute_result"
    }
   ],
   "source": [
    "ESG_sorted"
   ]
  },
  {
   "cell_type": "code",
   "execution_count": 5,
   "metadata": {},
   "outputs": [
    {
     "data": {
      "text/plain": [
       "array([ 36.5 ,  40.5 ,  41.94,  41.94,  66.5 ,  73.72])"
      ]
     },
     "execution_count": 5,
     "metadata": {},
     "output_type": "execute_result"
    }
   ],
   "source": [
    "Big_Coal= ESG_sorted.where(\"Group\",\"Big Coal\")\n",
    "Big_Coal\n",
    "width = Big_Coal.column(\"Capacity_MW\")\n",
    "width\n",
    "height = Big_Coal.column(\"Total_Var_Cost_USDperMWH\")\n",
    "height"
   ]
  },
  {
   "cell_type": "code",
   "execution_count": 6,
   "metadata": {
    "collapsed": true
   },
   "outputs": [],
   "source": [
    "\"\"\"\n",
    "Given widths sorted in ascending order, returns the y_positions used to graph the capacity vs variable costs bar graph\n",
    "\"\"\"\n",
    "\n",
    "def find_y_pos(widths):\n",
    "    cumulative_widths = [0]\n",
    "    cumulative_widths.extend(np.cumsum(width))\n",
    "    half_widths = [i/2 for i in widths]\n",
    "    y_pos = []\n",
    "    for i in range(0, len(half_widths)):\n",
    "        y_pos.append(half_widths[i] + cumulative_widths[i])\n",
    "    return y_pos\n"
   ]
  },
  {
   "cell_type": "code",
   "execution_count": 7,
   "metadata": {},
   "outputs": [
    {
     "data": {
      "text/plain": [
       "[950.0, 2050.0, 2375.0, 3025.0, 3575.0, 3775.0]"
      ]
     },
     "execution_count": 7,
     "metadata": {},
     "output_type": "execute_result"
    }
   ],
   "source": [
    "new_y = find_y_pos(width)\n",
    "new_y"
   ]
  },
  {
   "cell_type": "code",
   "execution_count": 8,
   "metadata": {
    "scrolled": true
   },
   "outputs": [
    {
     "data": {
      "image/png": "[encoded data removed]",
      "text/plain": [
       "<Figure size 432x288 with 1 Axes>"
      ]
     },
     "metadata": {},
     "output_type": "display_data"
    }
   ],
   "source": [
    "# Make the plot\n",
    "plt.bar(new_y, height, width=width)\n",
    "#plt.xticks(y_pos, bars)\n",
    "# Add title and axis names\n",
    "plt.title('Big Coal')\n",
    "plt.xlabel('Capacity_MW')\n",
    "plt.ylabel('Variable Cost')\n",
    "\n",
    "plt.show()"
   ]
  },
  {
   "cell_type": "code",
   "execution_count": 9,
   "metadata": {},
   "outputs": [
    {
     "data": {
      "text/plain": [
       "array([  0.  ,   0.5 ,  11.5 ,  32.56,  32.56,  34.5 ,  34.5 ,  36.5 ,\n",
       "        36.61,  36.61,  38.06,  38.06,  38.78,  39.06,  39.5 ,  40.5 ,\n",
       "        40.94,  41.22,  41.67,  41.94,  41.94,  42.39,  42.67,  43.83,\n",
       "        44.83,  47.44,  49.17,  49.61,  52.06,  52.5 ,  53.94,  58.28,\n",
       "        59.72,  61.17,  62.89,  65.5 ,  66.5 ,  69.83,  73.72,  75.61,\n",
       "        75.89,  90.06])"
      ]
     },
     "execution_count": 9,
     "metadata": {},
     "output_type": "execute_result"
    }
   ],
   "source": [
    "width = ESG_sorted.column(\"Capacity_MW\")\n",
    "width\n",
    "height = ESG_sorted.column(\"Total_Var_Cost_USDperMWH\")\n",
    "height"
   ]
  },
  {
   "cell_type": "code",
   "execution_count": 10,
   "metadata": {},
   "outputs": [
    {
     "data": {
      "text/plain": [
       "[500.0,\n",
       " 1400.0,\n",
       " 2300.0,\n",
       " 3175.0,\n",
       " 3925.0,\n",
       " 4675.0,\n",
       " 5425.0,\n",
       " 6750.0,\n",
       " 8032.5,\n",
       " 8690.0,\n",
       " 9365.0,\n",
       " 10065.0,\n",
       " 10582.5,\n",
       " 10900.0,\n",
       " 11400.0,\n",
       " 11900.0,\n",
       " 12375.0,\n",
       " 13025.0,\n",
       " 13825.0,\n",
       " 14475.0,\n",
       " 15125.0,\n",
       " 15925.0,\n",
       " 16675.0,\n",
       " 17450.0,\n",
       " 18000.0,\n",
       " 18275.0,\n",
       " 18425.0,\n",
       " 18575.0,\n",
       " 18725.0,\n",
       " 19075.0,\n",
       " 19400.0,\n",
       " 19525.0,\n",
       " 19950.0,\n",
       " 20375.0,\n",
       " 20525.0,\n",
       " 20675.0,\n",
       " 20825.0,\n",
       " 20975.0,\n",
       " 21175.0,\n",
       " 21450.0,\n",
       " 21725.0,\n",
       " 21950.0]"
      ]
     },
     "execution_count": 10,
     "metadata": {},
     "output_type": "execute_result"
    }
   ],
   "source": [
    "new_y = find_y_pos(width)\n",
    "new_y"
   ]
  },
  {
   "cell_type": "code",
   "execution_count": 58,
   "metadata": {},
   "outputs": [
    {
     "data": {
      "image/png": "[encoded data removed]",
      "text/plain": [
       "<Figure size 432x288 with 1 Axes>"
      ]
     },
     "metadata": {},
     "output_type": "display_data"
    }
   ],
   "source": [
    "# Make the plot\n",
    "plt.bar(new_y, height, width=width)\n",
    "#plt.xticks(y_pos, bars)\n",
    "# Add title and axis names\n",
    "plt.title('All Energy Sources')\n",
    "plt.xlabel('Capacity_MW')\n",
    "plt.ylabel('Variable Cost')\n",
    "\n",
    "plt.show()"
   ]
  },
  {
   "cell_type": "markdown",
   "metadata": {},
   "source": [
    "* Trying to figure out how to make a legend for this and perhaps better colors, but this segments the graph by energy source"
   ]
  },
  {
   "cell_type": "code",
   "execution_count": 59,
   "metadata": {},
   "outputs": [],
   "source": [
    "energy_colors_dict = {}\n",
    "count = 0\n",
    "colors = ['b', 'g', 'r', 'c', 'm', 'y', 'k']\n",
    "for i in set(ESG_sorted['Group']):\n",
    "    energy_colors_dict[i] = colors[count]\n",
    "    count += 1"
   ]
  },
  {
   "cell_type": "code",
   "execution_count": 60,
   "metadata": {
    "scrolled": true
   },
   "outputs": [],
   "source": [
    "colors_mapped = list(pd.Series(ESG_sorted['Group']).map(energy_dict))"
   ]
  },
  {
   "cell_type": "code",
   "execution_count": 61,
   "metadata": {},
   "outputs": [],
   "source": [
    "ESG_sorted = ESG_sorted.with_column('Color', colors_mapped)"
   ]
  },
  {
   "cell_type": "code",
   "execution_count": 87,
   "metadata": {},
   "outputs": [
    {
     "data": {
      "image/png": "[encoded data removed]",
      "text/plain": [
       "<Figure size 432x288 with 1 Axes>"
      ]
     },
     "metadata": {},
     "output_type": "display_data"
    }
   ],
   "source": [
    "# Make the plot\n",
    "plt.bar(new_y, height, width=width, color=ESG_sorted['Color'])\n",
    "#plt.xticks(y_pos, bars)\n",
    "# Add title and axis names\n",
    "plt.title('All Energy Sources')\n",
    "plt.xlabel('Capacity_MW')\n",
    "plt.ylabel('Variable Cost')\n",
    "\n",
    "plt.show()"
   ]
  },
  {
   "cell_type": "code",
   "execution_count": 88,
   "metadata": {
    "collapsed": true
   },
   "outputs": [],
   "source": [
    "def price_line_calc(capacity, sorted_table):\n",
    "    sum_cap = 0\n",
    "    for i in range(0,len(sorted_table['Capacity_MW'])):\n",
    "        if sum_cap + sorted_table['Capacity_MW'][i] > capacity:\n",
    "            plt.axhline(y=sorted_table['Total_Var_Cost_USDperMWH'][i], color='r', linewidth = 2)\n",
    "            plt.axvline(x=capacity, color='r', linewidth = 2)\n",
    "            break\n",
    "        else:\n",
    "            sum_cap += sorted_table['Capacity_MW'][i]"
   ]
  },
  {
   "cell_type": "markdown",
   "metadata": {},
   "source": [
    "*With Lines for price and quantity"
   ]
  },
  {
   "cell_type": "code",
   "execution_count": 90,
   "metadata": {},
   "outputs": [
    {
     "data": {
      "image/png": "[encoded data removed]",
      "text/plain": [
       "<Figure size 432x288 with 1 Axes>"
      ]
     },
     "metadata": {},
     "output_type": "display_data"
    }
   ],
   "source": [
    "# Make the plot\n",
    "plt.bar(new_y, height, width=width, color=ESG_sorted['Color'])\n",
    "#plt.xticks(y_pos, bars)\n",
    "# Add title and axis names\n",
    "plt.title('All Energy Sources')\n",
    "plt.xlabel('Capacity_MW')\n",
    "plt.ylabel('Variable Cost')\n",
    "price_line_calc(5000,ESG_sorted)\n",
    "\n",
    "plt.show()"
   ]
  },
  {
   "cell_type": "code",
   "execution_count": null,
   "metadata": {
    "collapsed": true
   },
   "outputs": [],
   "source": []
  }
 ],
 "metadata": {
  "kernelspec": {
   "display_name": "Python 3",
   "language": "python",
   "name": "python3"
  },
  "language_info": {
   "codemirror_mode": {
    "name": "ipython",
    "version": 3
   },
   "file_extension": ".py",
   "mimetype": "text/x-python",
   "name": "python",
   "nbconvert_exporter": "python",
   "pygments_lexer": "ipython3",
   "version": "3.5.4"
  }
 },
 "nbformat": 4,
 "nbformat_minor": 2
}
