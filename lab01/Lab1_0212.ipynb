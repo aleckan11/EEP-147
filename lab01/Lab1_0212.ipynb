{
 "cells": [
  {
   "cell_type": "markdown",
   "metadata": {},
   "source": [
    " # <font color = #254117>[EEP 147]: Introduction to Python and Programming</font>"
   ]
  },
  {
   "cell_type": "markdown",
   "metadata": {},
   "source": [
    "In this notebook, we will go over simple techniques in Python and Matplotlib that you can use to generate graphs that will help you in analyzing the ESG!\n",
    "\n",
    "\n",
    "First on our agenda is to import **dependencies** -- or packages in Python that add to the basic functions in Python. Kind of like accessorizing! For example, `matplotlib` allows us to generate the graphs we will be using.\n",
    "\n",
    "The format is as follows: <code><font color = ##008700><b>from</b></font> (package) <font color = ##008700><b>import</b></font> (stuff)</code>, where the \"stuff\" we're importing can range from a specific function in that package to a whole library of functions, as is the case when we type <code><font color = ##008700><b>import</b></font> (package) <font color = ##008700><b>as</b></font> (name)</code>."
   ]
  },
  {
   "cell_type": "code",
   "execution_count": 3,
   "metadata": {
    "collapsed": true
   },
   "outputs": [],
   "source": [
    "from datascience import *\n",
    "import matplotlib.pyplot as plt\n",
    "%matplotlib inline\n",
    "import numpy as np\n",
    "import pandas as pd"
   ]
  },
  {
   "cell_type": "markdown",
   "metadata": {},
   "source": [
    "## <font color = #254117>Before we begin...</font>\n",
    "Please help us better establish the audience that we are reaching by filling out the following form:<br />\n",
    "*insert link here!*"
   ]
  },
  {
   "cell_type": "markdown",
   "metadata": {},
   "source": [
    "## <font color = #254117> Section 1: Math in Python </font>\n",
    "\n",
    "Python is the programming language that we will use in this lab. Although this lab will go over some basics, should you be more interested in learning Python feel free to check out the following resources:\n",
    "\n",
    "* **[Python Tutorial](https://docs.python.org/3.5/tutorial/)**: Introduction to Python from the creators of Python\n",
    "* **[Composing Programs](http://composingprograms.com/pages/11-getting-started.html)**: An introduction to programming with Python from CS 61A"
   ]
  },
  {
   "cell_type": "markdown",
   "metadata": {},
   "source": [
    "**<font color = #254117>Mathematical Expressions</font>**\n",
    "In Python, we can carry out all the mathematical processes you know and love:\n",
    "\n",
    "* Add using `+`\n",
    "* Subtract using `-`\n",
    "* Multiply using `*`\n",
    "* Divide using `/`\n",
    "* Exponentiate using `**`\n",
    "* Floor divide using `//`\n",
    "* Take the remainder / modulo using `%`\n",
    "\n",
    "The most of these you should be familiar with, but let's go over some of the more obscure processes while beginning to implement some python code!\n",
    "\n",
    "To submit the following cells and run the code, press Shift + Enter/Return!"
   ]
  },
  {
   "cell_type": "code",
   "execution_count": 1,
   "metadata": {},
   "outputs": [
    {
     "data": {
      "text/plain": [
       "3"
      ]
     },
     "execution_count": 1,
     "metadata": {},
     "output_type": "execute_result"
    }
   ],
   "source": [
    "# So what exactly does floor divide do?\n",
    "10 // 3"
   ]
  },
  {
   "cell_type": "code",
   "execution_count": 2,
   "metadata": {},
   "outputs": [
    {
     "data": {
      "text/plain": [
       "1"
      ]
     },
     "execution_count": 2,
     "metadata": {},
     "output_type": "execute_result"
    }
   ],
   "source": [
    "# What about modulo?\n",
    "10 % 3"
   ]
  },
  {
   "cell_type": "markdown",
   "metadata": {},
   "source": [
    "Very cool! Now we'll let you try, and notice that we can use parentheses to organize our order of operations.\n",
    "\n",
    "**<font color = ##008700>Exercise</font>**: Take the product of *three* and *three to the power of six* and subtract 169."
   ]
  },
  {
   "cell_type": "code",
   "execution_count": null,
   "metadata": {
    "collapsed": true
   },
   "outputs": [],
   "source": [
    "# Insert your code where the dots are:\n",
    "..."
   ]
  },
  {
   "cell_type": "markdown",
   "metadata": {},
   "source": [
    "Awesome job! Feel free to add more cells using the + button in the upper left hand corner of the lab and play around with more mathematical expressions later! In the meantime, let's move on to the next section."
   ]
  },
  {
   "cell_type": "markdown",
   "metadata": {},
   "source": [
    "## <font color = #254117>Section 2: Variables</font>\n",
    "\n",
    "As you might recall, a name that is used to denote a value is called a variable. In python, variables can be declared and values can be assigned. Here are a few examples of variables and their assignment:"
   ]
  },
  {
   "cell_type": "code",
   "execution_count": 3,
   "metadata": {},
   "outputs": [
    {
     "data": {
      "text/plain": [
       "10"
      ]
     },
     "execution_count": 3,
     "metadata": {},
     "output_type": "execute_result"
    }
   ],
   "source": [
    "x = 2\n",
    "m = 3\n",
    "b = 4\n",
    "y = m*x + b\n",
    "# Look familiar? Press shift + enter to see the value!\n",
    "y"
   ]
  },
  {
   "cell_type": "markdown",
   "metadata": {},
   "source": [
    "**<font color = #254117>Output and Printing</font>**\n",
    "\n",
    "As you might have noticed at the end, there is a difference between returning and printing:\n",
    "\n",
    "* **Return**: A value that is not necessarily printed, but is stored away inside a computer if we assign or bind it to a name.\n",
    "* **Printing**: A value that pops up on our screen.\n",
    "We print using a **print** function and return a value using the **return** function.\n",
    "\n",
    "**<font color = #254117>Functions?</font>**\n",
    "\n",
    "You might recall that a function receives input and correspondingly will output something. In Python, we have numerous functions, such as:\n",
    "\n",
    "* `print`: The command `print('hi')` will print 'hi' out to the screen.\n",
    "* `sum`: The command `sum(2,3,4)` will sum up the values enclosed in the parentheses and return the value.\n",
    "* And more!\n",
    "\n",
    "The best thing about functions is that, in Python, we can make our own functions! We will discuss this more in depth later, but for now just remember that to call a function, we write the name of the function, like `print()` and we place our <font color = ##008700>arguments</font> inside the parentheses. \n",
    "\n",
    "Let's try it for ourselves!\n",
    "\n",
    "**<font color = ##008700>Exercise</font>**: Try printing out the phrase 'Hello World!'"
   ]
  },
  {
   "cell_type": "code",
   "execution_count": 6,
   "metadata": {},
   "outputs": [
    {
     "data": {
      "text/plain": [
       "Ellipsis"
      ]
     },
     "execution_count": 6,
     "metadata": {},
     "output_type": "execute_result"
    }
   ],
   "source": [
    "..."
   ]
  },
  {
   "cell_type": "markdown",
   "metadata": {},
   "source": [
    "## <font color = #254117>Section 3: Functions and Loops\n",
    "\n",
    "A function is a block of organized, reusable code that is used to perform a single, related action. Take for example a factorial, denoted `x!`, which takes the initial value `x` and multiplies it by `x-1` and `x-2` and so on and so forth until it gets to 1! Typing this all out would look something like this:"
   ]
  },
  {
   "cell_type": "code",
   "execution_count": 5,
   "metadata": {},
   "outputs": [
    {
     "data": {
      "text/plain": [
       "120"
      ]
     },
     "execution_count": 5,
     "metadata": {},
     "output_type": "execute_result"
    }
   ],
   "source": [
    "# Let's pick a random value for x:\n",
    "x = 5\n",
    "factorial = 5 * 4 * 3 * 2 * 1\n",
    "factorial"
   ]
  },
  {
   "cell_type": "markdown",
   "metadata": {},
   "source": [
    "This might not seem too troublesome now, but imagine doing this by hand for a larger number like 12,345! Instead, let's consider writing a function that can take in any value (such as 12,345) and output the factorial!\n",
    "\n",
    "**<font color = #254117>Function Structure</font>**\n",
    "\n",
    "So how can we begin writing a function? Well there is a very simple structure to them:\n",
    "\n",
    "<code>**<font color = ##008700>def</font>** function_name(arguments):\n",
    "    [function procedures]\n",
    "    **<font color = ##008700>return</font>** [output]</code>\n",
    "    \n",
    "There are some aspects of a function that are required no matter what kind of function you are writing. You will always begin writing a function by writing **<font color = ##008700>def</font>**, followed by the name of your function. Following the name of your function, you will want to specify your inputs by using parentheses and giving your inputs names. These names can be anything you'd like, but generally you'd like them to be memorable and symbolic of what you're trying to do.\n",
    "\n",
    "Before typing in your functions procedure in the **<font color = ##008700>body</font>** of your function, you'll want to end the first line with a `:`. Then you're ready to proceed to the body and second line of your function! You will want to indent (press tab or space 4 times) and write what you'd like your function to do.\n",
    "\n",
    "Lastly, you'll want to end the function by writing what you'd like your function to **<font color = ##008700>return</font>**.\n",
    "\n",
    "**<font color = ##008700>Example</font>**: Let's look at what a factorial function would look like!"
   ]
  },
  {
   "cell_type": "code",
   "execution_count": 7,
   "metadata": {},
   "outputs": [
    {
     "data": {
      "text/plain": [
       "120"
      ]
     },
     "execution_count": 7,
     "metadata": {},
     "output_type": "execute_result"
    }
   ],
   "source": [
    "def factorial_func(x):\n",
    "    product = 1\n",
    "    while x > 0:\n",
    "        product = product * x\n",
    "        x = x - 1\n",
    "    return product\n",
    "\n",
    "# Now let's test out our new factorial function!\n",
    "factorial_func(5)"
   ]
  },
  {
   "cell_type": "code",
   "execution_count": null,
   "metadata": {
    "collapsed": true
   },
   "outputs": [],
   "source": [
    "# Try calculating the factorial value for the crazy big number from before!\n",
    "factorial_func(12345)"
   ]
  },
  {
   "cell_type": "markdown",
   "metadata": {},
   "source": [
    "Amazing! However, you might have noticed there were some new features used, which brings us to our next small topic.\n",
    "\n",
    "**<font color = #254117>Loops</font>**\n",
    "\n",
    "Something that came in handy for this equation was a loop. A loop is a piece of code that repeats a block of code **<font color = ##008700>while</font>** a condition is true or **<font color = ##008700>for</font>** a certain number of times. Like we just not-so-subtly hinted, there are two very important kinds of loops: for loops and while loops. In the case of our function above, the code under the while loop was repeated **while** `x > 0`. On the other hand, a for loop will continue looping **for** a specified number of times."
   ]
  },
  {
   "cell_type": "markdown",
   "metadata": {},
   "source": [
    "## <font color = #254117>Section 4: Data Structures</font>\n",
    "\n",
    "So now that we know how to calculate things and create functions to do so, how can we organize large amounts of information?\n",
    "\n",
    "The solution to our problem is a data structure! A data structures is simply a means by which to contain and organize our data or information. They include:\n",
    "* **<font color = ##008700>List</font>**: A list holds an ordered collection of items similar to a grocery list.\n",
    "* **<font color = ##008700>Dictionary</font>**: Like an addressbook in which keys are associated with values (similar to names and phone numbers in addressbooks).\n",
    "* **<font color = ##008700>Set</font>**: An unordered collection of items, and they operate similar to how Venn Diagrams do.\n",
    "\n",
    "Here is how we can use lists:"
   ]
  },
  {
   "cell_type": "code",
   "execution_count": 29,
   "metadata": {},
   "outputs": [
    {
     "data": {
      "text/plain": [
       "['Helen', 'Nadeem', 'Alma', 'Nika']"
      ]
     },
     "execution_count": 29,
     "metadata": {},
     "output_type": "execute_result"
    }
   ],
   "source": [
    "# Creating a list using brackets and commas in between:\n",
    "names = ['Helen', 'Nadeem', 'Alma', 'Nika']\n",
    "names"
   ]
  },
  {
   "cell_type": "code",
   "execution_count": 30,
   "metadata": {},
   "outputs": [
    {
     "data": {
      "text/plain": [
       "'Helen'"
      ]
     },
     "execution_count": 30,
     "metadata": {},
     "output_type": "execute_result"
    }
   ],
   "source": [
    "# The first name in our list, located at position 0:\n",
    "names[0]"
   ]
  },
  {
   "cell_type": "code",
   "execution_count": 31,
   "metadata": {},
   "outputs": [
    {
     "data": {
      "text/plain": [
       "['Helen', 'Nadeem', 'Alma', 'Nika', 'Sam']"
      ]
     },
     "execution_count": 31,
     "metadata": {},
     "output_type": "execute_result"
    }
   ],
   "source": [
    "# Adding a name, feel free to change the name to yours!\n",
    "names.append('Sam')\n",
    "names"
   ]
  },
  {
   "cell_type": "markdown",
   "metadata": {},
   "source": [
    "**<font color = ##008700>Exercise</font>**: Now you try creating a list with the names of some of your friends or pets!"
   ]
  },
  {
   "cell_type": "code",
   "execution_count": null,
   "metadata": {
    "collapsed": true
   },
   "outputs": [],
   "source": [
    "# Create your list below:\n",
    "..."
   ]
  },
  {
   "cell_type": "markdown",
   "metadata": {},
   "source": [
    "In addition to the data structures listed above, we can also organize our information in a table. Similar to Google Sheets or Microsoft Excel, we will be organzing our data into nice-looking tables. Let's get crackin'!"
   ]
  },
  {
   "cell_type": "markdown",
   "metadata": {},
   "source": [
    "## <font color = #254117>Section 5: Tables</font>\n",
    "\n",
    "# INSERT TABLES INTRO HERE\n",
    "\n",
    "\n",
    "\n"
   ]
  },
  {
   "cell_type": "code",
   "execution_count": 33,
   "metadata": {
    "collapsed": true
   },
   "outputs": [],
   "source": [
    "#####################SEPARATOR######################"
   ]
  },
  {
   "cell_type": "code",
   "execution_count": 8,
   "metadata": {},
   "outputs": [
    {
     "data": {
      "text/plain": [
       "4"
      ]
     },
     "execution_count": 8,
     "metadata": {},
     "output_type": "execute_result"
    }
   ],
   "source": [
    "ESG_table = Table.read_table('ESGPorfolios_forcsv.csv')\n",
    "ESG_sorted =  ESG_table.sort(\"Total_Var_Cost_USDperMWH\")"
   ]
  },
  {
   "cell_type": "code",
   "execution_count": 5,
   "metadata": {},
   "outputs": [
    {
     "data": {
      "text/html": [
       "<table border=\"1\" class=\"dataframe\">\n",
       "    <thead>\n",
       "        <tr>\n",
       "            <th>Group</th> <th>Group_num</th> <th>UNIT NAME</th> <th>Capacity_MW</th> <th>Heat_Rate_MMBTUperMWh</th> <th>Fuel_Price_USDperMMBTU</th> <th>Fuel_Cost_USDperMWH</th> <th>Var_OandM_USDperMWH</th> <th>Total_Var_Cost_USDperMWH</th> <th>Carbon_tonsperMWH</th> <th>FixedCst_OandM_perDay</th> <th>Unnamed: 11</th> <th>Unnamed: 12</th> <th>Unnamed: 13</th>\n",
       "        </tr>\n",
       "    </thead>\n",
       "    <tbody>\n",
       "        <tr>\n",
       "            <td>Old Timers  </td> <td>7        </td> <td>BIG CREEK      </td> <td>1000       </td> <td>nan                  </td> <td>0                     </td> <td>0                  </td> <td>0                  </td> <td>0                       </td> <td>0                </td> <td>$15,000              </td> <td>nan        </td> <td>nan        </td> <td>nan        </td>\n",
       "        </tr>\n",
       "    </tbody>\n",
       "        <tr>\n",
       "            <td>Fossil Light</td> <td>8        </td> <td>HELMS          </td> <td>800        </td> <td>nan                  </td> <td>0                     </td> <td>0                  </td> <td>0.5                </td> <td>0.5                     </td> <td>0                </td> <td>$15,000              </td> <td>nan        </td> <td>nan        </td> <td>nan        </td>\n",
       "        </tr>\n",
       "    </tbody>\n",
       "        <tr>\n",
       "            <td>Fossil Light</td> <td>8        </td> <td>DIABLO CANYON 1</td> <td>1000       </td> <td>1                    </td> <td>7.5                   </td> <td>7.5                </td> <td>4                  </td> <td>11.5                    </td> <td>0                </td> <td>$20,000              </td> <td>nan        </td> <td>nan        </td> <td>nan        </td>\n",
       "        </tr>\n",
       "    </tbody>\n",
       "        <tr>\n",
       "            <td>Bay Views   </td> <td>4        </td> <td>MOSS LANDING 6 </td> <td>750        </td> <td>6.9                  </td> <td>4.5                   </td> <td>31.06              </td> <td>1.5                </td> <td>32.56                   </td> <td>0.37             </td> <td>$8,000               </td> <td>nan        </td> <td>nan        </td> <td>nan        </td>\n",
       "        </tr>\n",
       "    </tbody>\n",
       "        <tr>\n",
       "            <td>Bay Views   </td> <td>4        </td> <td>MOSS LANDING 7 </td> <td>750        </td> <td>6.9                  </td> <td>4.5                   </td> <td>31.06              </td> <td>1.5                </td> <td>32.56                   </td> <td>0.37             </td> <td>$8,000               </td> <td>nan        </td> <td>nan        </td> <td>nan        </td>\n",
       "        </tr>\n",
       "    </tbody>\n",
       "        <tr>\n",
       "            <td>Old Timers  </td> <td>7        </td> <td>MOHAVE 1       </td> <td>750        </td> <td>10                   </td> <td>3                     </td> <td>30                 </td> <td>4.5                </td> <td>34.5                    </td> <td>0.94             </td> <td>$15,000              </td> <td>nan        </td> <td>nan        </td> <td>nan        </td>\n",
       "        </tr>\n",
       "    </tbody>\n",
       "        <tr>\n",
       "            <td>Old Timers  </td> <td>7        </td> <td>MOHAVE 2       </td> <td>750        </td> <td>10                   </td> <td>3                     </td> <td>30                 </td> <td>4.5                </td> <td>34.5                    </td> <td>0.94             </td> <td>$15,000              </td> <td>nan        </td> <td>nan        </td> <td>nan        </td>\n",
       "        </tr>\n",
       "    </tbody>\n",
       "        <tr>\n",
       "            <td>Big Coal    </td> <td>1        </td> <td>FOUR CORNERS   </td> <td>1900       </td> <td>11.67                </td> <td>3                     </td> <td>35                 </td> <td>1.5                </td> <td>36.5                    </td> <td>1.1              </td> <td>$8,000               </td> <td>nan        </td> <td>nan        </td> <td>nan        </td>\n",
       "        </tr>\n",
       "    </tbody>\n",
       "        <tr>\n",
       "            <td>Bay Views   </td> <td>4        </td> <td>MORRO BAY 3&4  </td> <td>665        </td> <td>8.02                 </td> <td>4.5                   </td> <td>36.11              </td> <td>0.5                </td> <td>36.61                   </td> <td>0.43             </td> <td>$4,000               </td> <td>nan        </td> <td>nan        </td> <td>nan        </td>\n",
       "        </tr>\n",
       "    </tbody>\n",
       "        <tr>\n",
       "            <td>East Bay    </td> <td>6        </td> <td>PITTSBURGH 5&6 </td> <td>650        </td> <td>8.02                 </td> <td>4.5                   </td> <td>36.11              </td> <td>0.5                </td> <td>36.61                   </td> <td>0.43             </td> <td>$2,500               </td> <td>nan        </td> <td>nan        </td> <td>nan        </td>\n",
       "        </tr>\n",
       "    </tbody>\n",
       "</table>\n",
       "<p>... (32 rows omitted)</p>"
      ],
      "text/plain": [
       "Group        | Group_num | UNIT NAME       | Capacity_MW | Heat_Rate_MMBTUperMWh | Fuel_Price_USDperMMBTU | Fuel_Cost_USDperMWH | Var_OandM_USDperMWH | Total_Var_Cost_USDperMWH | Carbon_tonsperMWH | FixedCst_OandM_perDay | Unnamed: 11 | Unnamed: 12 | Unnamed: 13\n",
       "Old Timers   | 7         | BIG CREEK       | 1000        | nan                   | 0                      | 0                   | 0                   | 0                        | 0                 | $15,000               | nan         | nan         | nan\n",
       "Fossil Light | 8         | HELMS           | 800         | nan                   | 0                      | 0                   | 0.5                 | 0.5                      | 0                 | $15,000               | nan         | nan         | nan\n",
       "Fossil Light | 8         | DIABLO CANYON 1 | 1000        | 1                     | 7.5                    | 7.5                 | 4                   | 11.5                     | 0                 | $20,000               | nan         | nan         | nan\n",
       "Bay Views    | 4         | MOSS LANDING 6  | 750         | 6.9                   | 4.5                    | 31.06               | 1.5                 | 32.56                    | 0.37              | $8,000                | nan         | nan         | nan\n",
       "Bay Views    | 4         | MOSS LANDING 7  | 750         | 6.9                   | 4.5                    | 31.06               | 1.5                 | 32.56                    | 0.37              | $8,000                | nan         | nan         | nan\n",
       "Old Timers   | 7         | MOHAVE 1        | 750         | 10                    | 3                      | 30                  | 4.5                 | 34.5                     | 0.94              | $15,000               | nan         | nan         | nan\n",
       "Old Timers   | 7         | MOHAVE 2        | 750         | 10                    | 3                      | 30                  | 4.5                 | 34.5                     | 0.94              | $15,000               | nan         | nan         | nan\n",
       "Big Coal     | 1         | FOUR CORNERS    | 1900        | 11.67                 | 3                      | 35                  | 1.5                 | 36.5                     | 1.1               | $8,000                | nan         | nan         | nan\n",
       "Bay Views    | 4         | MORRO BAY 3&4   | 665         | 8.02                  | 4.5                    | 36.11               | 0.5                 | 36.61                    | 0.43              | $4,000                | nan         | nan         | nan\n",
       "East Bay     | 6         | PITTSBURGH 5&6  | 650         | 8.02                  | 4.5                    | 36.11               | 0.5                 | 36.61                    | 0.43              | $2,500                | nan         | nan         | nan\n",
       "... (32 rows omitted)"
      ]
     },
     "execution_count": 5,
     "metadata": {},
     "output_type": "execute_result"
    }
   ],
   "source": [
    "ESG_sorted"
   ]
  },
  {
   "cell_type": "code",
   "execution_count": 6,
   "metadata": {},
   "outputs": [
    {
     "data": {
      "text/plain": [
       "array([ 36.5 ,  40.5 ,  41.94,  41.94,  66.5 ,  73.72])"
      ]
     },
     "execution_count": 6,
     "metadata": {},
     "output_type": "execute_result"
    }
   ],
   "source": [
    "Big_Coal= ESG_sorted.where(\"Group\",\"Big Coal\")\n",
    "Big_Coal\n",
    "width_coal = Big_Coal.column(\"Capacity_MW\")\n",
    "width_coal\n",
    "height_coal = Big_Coal.column(\"Total_Var_Cost_USDperMWH\")\n",
    "height_coal"
   ]
  },
  {
   "cell_type": "code",
   "execution_count": 7,
   "metadata": {
    "collapsed": true
   },
   "outputs": [],
   "source": [
    "\"\"\"\n",
    "Given widths sorted in ascending order, returns the y_positions used to graph the capacity vs variable costs bar graph\n",
    "\"\"\"\n",
    "\n",
    "def find_y_pos(widths):\n",
    "    cumulative_widths = [0]\n",
    "    cumulative_widths.extend(np.cumsum(widths))\n",
    "    half_widths = [i/2 for i in widths]\n",
    "    y_pos = []\n",
    "    for i in range(0, len(half_widths)):\n",
    "        y_pos.append(half_widths[i] + cumulative_widths[i])\n",
    "    return y_pos\n"
   ]
  },
  {
   "cell_type": "code",
   "execution_count": 8,
   "metadata": {},
   "outputs": [
    {
     "data": {
      "text/plain": [
       "[950.0, 2050.0, 2375.0, 3025.0, 3575.0, 3775.0]"
      ]
     },
     "execution_count": 8,
     "metadata": {},
     "output_type": "execute_result"
    }
   ],
   "source": [
    "new_y_coal = find_y_pos(width_coal)\n",
    "new_y_coal"
   ]
  },
  {
   "cell_type": "code",
   "execution_count": 9,
   "metadata": {
    "scrolled": true
   },
   "outputs": [
    {
     "data": {
      "image/png": "[encoded data removed]",
      "text/plain": [
       "<Figure size 432x288 with 1 Axes>"
      ]
     },
     "metadata": {},
     "output_type": "display_data"
    }
   ],
   "source": [
    "# Make the plot\n",
    "plt.bar(new_y_coal, height_coal, width=width_coal)\n",
    "#plt.xticks(y_pos, bars)\n",
    "# Add title and axis names\n",
    "plt.title('Big Coal')\n",
    "plt.xlabel('Capacity_MW')\n",
    "plt.ylabel('Variable Cost')\n",
    "\n",
    "plt.show()"
   ]
  },
  {
   "cell_type": "code",
   "execution_count": 10,
   "metadata": {},
   "outputs": [
    {
     "data": {
      "text/plain": [
       "array([  0.  ,   0.5 ,  11.5 ,  32.56,  32.56,  34.5 ,  34.5 ,  36.5 ,\n",
       "        36.61,  36.61,  38.06,  38.06,  38.78,  39.06,  39.5 ,  40.5 ,\n",
       "        40.94,  41.22,  41.67,  41.94,  41.94,  42.39,  42.67,  43.83,\n",
       "        44.83,  47.44,  49.17,  49.61,  52.06,  52.5 ,  53.94,  58.28,\n",
       "        59.72,  61.17,  62.89,  65.5 ,  66.5 ,  69.83,  73.72,  75.61,\n",
       "        75.89,  90.06])"
      ]
     },
     "execution_count": 10,
     "metadata": {},
     "output_type": "execute_result"
    }
   ],
   "source": [
    "width = ESG_sorted.column(\"Capacity_MW\")\n",
    "width\n",
    "height = ESG_sorted.column(\"Total_Var_Cost_USDperMWH\")\n",
    "height"
   ]
  },
  {
   "cell_type": "code",
   "execution_count": 11,
   "metadata": {},
   "outputs": [
    {
     "data": {
      "text/plain": [
       "[500.0,\n",
       " 1400.0,\n",
       " 2300.0,\n",
       " 3175.0,\n",
       " 3925.0,\n",
       " 4675.0,\n",
       " 5425.0,\n",
       " 6750.0,\n",
       " 8032.5,\n",
       " 8690.0,\n",
       " 9365.0,\n",
       " 10065.0,\n",
       " 10582.5,\n",
       " 10900.0,\n",
       " 11400.0,\n",
       " 11900.0,\n",
       " 12375.0,\n",
       " 13025.0,\n",
       " 13825.0,\n",
       " 14475.0,\n",
       " 15125.0,\n",
       " 15925.0,\n",
       " 16675.0,\n",
       " 17450.0,\n",
       " 18000.0,\n",
       " 18275.0,\n",
       " 18425.0,\n",
       " 18575.0,\n",
       " 18725.0,\n",
       " 19075.0,\n",
       " 19400.0,\n",
       " 19525.0,\n",
       " 19950.0,\n",
       " 20375.0,\n",
       " 20525.0,\n",
       " 20675.0,\n",
       " 20825.0,\n",
       " 20975.0,\n",
       " 21175.0,\n",
       " 21450.0,\n",
       " 21725.0,\n",
       " 21950.0]"
      ]
     },
     "execution_count": 11,
     "metadata": {},
     "output_type": "execute_result"
    }
   ],
   "source": [
    "new_y = find_y_pos(width)\n",
    "new_y"
   ]
  },
  {
   "cell_type": "code",
   "execution_count": 12,
   "metadata": {},
   "outputs": [
    {
     "data": {
      "image/png": "[encoded data removed]",
      "text/plain": [
       "<Figure size 432x288 with 1 Axes>"
      ]
     },
     "metadata": {},
     "output_type": "display_data"
    }
   ],
   "source": [
    "# Make the plot\n",
    "plt.bar(new_y, height, width=width)\n",
    "#plt.xticks(y_pos, bars)\n",
    "# Add title and axis names\n",
    "plt.title('All Energy Sources')\n",
    "plt.xlabel('Capacity_MW')\n",
    "plt.ylabel('Variable Cost')\n",
    "\n",
    "plt.show()"
   ]
  },
  {
   "cell_type": "markdown",
   "metadata": {},
   "source": [
    "* Trying to figure out how to make a legend for this and perhaps better colors, but this segments the graph by energy source"
   ]
  },
  {
   "cell_type": "code",
   "execution_count": 13,
   "metadata": {
    "collapsed": true
   },
   "outputs": [],
   "source": [
    "energy_colors_dict = {}\n",
    "count = 0\n",
    "colors = ['b', 'g', 'r', 'c', 'm', 'y', 'k']\n",
    "for i in set(ESG_sorted['Group']):\n",
    "    energy_colors_dict[i] = colors[count]\n",
    "    count += 1"
   ]
  },
  {
   "cell_type": "code",
   "execution_count": 14,
   "metadata": {
    "collapsed": true,
    "scrolled": true
   },
   "outputs": [],
   "source": [
    "colors_mapped = list(pd.Series(ESG_sorted['Group']).map(energy_colors_dict))"
   ]
  },
  {
   "cell_type": "code",
   "execution_count": 15,
   "metadata": {
    "collapsed": true
   },
   "outputs": [],
   "source": [
    "ESG_sorted = ESG_sorted.with_column('Color', colors_mapped)"
   ]
  },
  {
   "cell_type": "code",
   "execution_count": 16,
   "metadata": {},
   "outputs": [
    {
     "data": {
      "image/png": "[encoded data removed]",
      "text/plain": [
       "<Figure size 432x288 with 1 Axes>"
      ]
     },
     "metadata": {},
     "output_type": "display_data"
    }
   ],
   "source": [
    "# Make the plot\n",
    "plt.bar(new_y, height, width=width, color=ESG_sorted['Color'])\n",
    "#plt.xticks(y_pos, bars)\n",
    "# Add title and axis names\n",
    "plt.title('All Energy Sources')\n",
    "plt.xlabel('Capacity_MW')\n",
    "plt.ylabel('Variable Cost')\n",
    "\n",
    "plt.show()"
   ]
  },
  {
   "cell_type": "code",
   "execution_count": 73,
   "metadata": {
    "collapsed": true
   },
   "outputs": [],
   "source": [
    "#set capacity here\n",
    "capacity = 20000"
   ]
  },
  {
   "cell_type": "code",
   "execution_count": 74,
   "metadata": {
    "collapsed": true
   },
   "outputs": [],
   "source": [
    "price = 0"
   ]
  },
  {
   "cell_type": "code",
   "execution_count": 75,
   "metadata": {
    "collapsed": true
   },
   "outputs": [],
   "source": [
    "def price_calc(capacity, sorted_table):\n",
    "    sum_cap = 0\n",
    "    for i in range(0,len(sorted_table['Capacity_MW'])):\n",
    "        if sum_cap + sorted_table['Capacity_MW'][i] > capacity:\n",
    "            global price\n",
    "            price = sorted_table['Total_Var_Cost_USDperMWH'][i]\n",
    "            break\n",
    "        else:\n",
    "            sum_cap += sorted_table['Capacity_MW'][i]"
   ]
  },
  {
   "cell_type": "code",
   "execution_count": 76,
   "metadata": {
    "collapsed": true
   },
   "outputs": [],
   "source": [
    "def price_line_plot():\n",
    "    global price\n",
    "    plt.axhline(y=price, color='r', linewidth = 2)\n",
    "    print(\"Price: \" + str(price))"
   ]
  },
  {
   "cell_type": "code",
   "execution_count": 77,
   "metadata": {
    "collapsed": true
   },
   "outputs": [],
   "source": [
    "def capacity_plot():\n",
    "    global capacity\n",
    "    plt.axvline(x=capacity, color='r', linewidth = 2)\n",
    "    print(\"Capacity: \" + str(capacity))"
   ]
  },
  {
   "cell_type": "markdown",
   "metadata": {},
   "source": [
    "*With Lines for price and quantity"
   ]
  },
  {
   "cell_type": "code",
   "execution_count": 78,
   "metadata": {},
   "outputs": [
    {
     "name": "stdout",
     "output_type": "stream",
     "text": [
      "Price: 59.72\n",
      "Capacity: 20000\n"
     ]
    },
    {
     "data": {
      "image/png": "[encoded data removed]",
      "text/plain": [
       "<Figure size 432x288 with 1 Axes>"
      ]
     },
     "metadata": {},
     "output_type": "display_data"
    }
   ],
   "source": [
    "# Make the plot\n",
    "plt.bar(new_y, height, width=width, color=ESG_sorted['Color'])\n",
    "#plt.xticks(y_pos, bars)\n",
    "# Add title and axis names\n",
    "plt.title('All Energy Sources')\n",
    "plt.xlabel('Capacity_MW')\n",
    "plt.ylabel('Variable Cost')\n",
    "price_calc(capacity,ESG_sorted)\n",
    "price_line_plot()\n",
    "capacity_plot()\n",
    "\n",
    "plt.show()"
   ]
  },
  {
   "cell_type": "code",
   "execution_count": 79,
   "metadata": {},
   "outputs": [
    {
     "name": "stdout",
     "output_type": "stream",
     "text": [
      "Price: 59.72\n"
     ]
    },
    {
     "data": {
      "image/png": "[encoded data removed]",
      "text/plain": [
       "<Figure size 432x288 with 1 Axes>"
      ]
     },
     "metadata": {},
     "output_type": "display_data"
    }
   ],
   "source": [
    "# Make the plot\n",
    "plt.bar(new_y_coal, height_coal, width=width_coal)\n",
    "#plt.xticks(y_pos, bars)\n",
    "# Add title and axis names\n",
    "plt.title('Big Coal')\n",
    "plt.xlabel('Capacity_MW')\n",
    "plt.ylabel('Variable Cost')\n",
    "price_line_plot()\n",
    "\n",
    "plt.show()"
   ]
  },
  {
   "cell_type": "code",
   "execution_count": 80,
   "metadata": {},
   "outputs": [
    {
     "data": {
      "text/plain": [
       "160.88"
      ]
     },
     "execution_count": 80,
     "metadata": {},
     "output_type": "execute_result"
    }
   ],
   "source": [
    "sum(Big_Coal.where(\"Total_Var_Cost_USDperMWH\", are.below(price))[\"Total_Var_Cost_USDperMWH\"])"
   ]
  },
  {
   "cell_type": "code",
   "execution_count": 81,
   "metadata": {
    "collapsed": true
   },
   "outputs": [],
   "source": [
    "def profit(sorted_table):\n",
    "    global price\n",
    "    global capacity\n",
    "    capacity_subset = sum(sorted_table.where(\"Total_Var_Cost_USDperMWH\", are.below(price))[\"Capacity_MW\"])\n",
    "    revenue = capacity_subset * price\n",
    "    cost = sum(sorted_table.where(\"Total_Var_Cost_USDperMWH\", are.below(price))[\"Total_Var_Cost_USDperMWH\"])\n",
    "    return revenue - cost"
   ]
  },
  {
   "cell_type": "code",
   "execution_count": 82,
   "metadata": {},
   "outputs": [
    {
     "data": {
      "text/plain": [
       "208859.12"
      ]
     },
     "execution_count": 82,
     "metadata": {},
     "output_type": "execute_result"
    }
   ],
   "source": [
    "profit(Big_Coal)"
   ]
  },
  {
   "cell_type": "code",
   "execution_count": null,
   "metadata": {
    "collapsed": true
   },
   "outputs": [],
   "source": []
  }
 ],
 "metadata": {
  "kernelspec": {
   "display_name": "Python 3",
   "language": "python",
   "name": "python3"
  },
  "language_info": {
   "codemirror_mode": {
    "name": "ipython",
    "version": 3
   },
   "file_extension": ".py",
   "mimetype": "text/x-python",
   "name": "python",
   "nbconvert_exporter": "python",
   "pygments_lexer": "ipython3",
   "version": "3.5.4"
  }
 },
 "nbformat": 4,
 "nbformat_minor": 2
}
