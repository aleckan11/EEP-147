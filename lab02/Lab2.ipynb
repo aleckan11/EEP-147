{
 "cells": [
  {
   "cell_type": "code",
   "execution_count": 1,
   "metadata": {},
   "outputs": [],
   "source": [
    "from datascience import *\n",
    "import matplotlib.pyplot as plt\n",
    "%matplotlib inline\n",
    "import numpy as np\n",
    "import pandas as pd"
   ]
  },
  {
   "cell_type": "code",
   "execution_count": 40,
   "metadata": {},
   "outputs": [
    {
     "data": {
      "text/html": [
       "<table border=\"1\" class=\"dataframe\">\n",
       "    <thead>\n",
       "        <tr>\n",
       "            <th>TEAM</th> <th>TEAM_ID</th> <th>PORTFOLIO</th> <th>PORTFOLIO_ID</th> <th>PLANT</th> <th>PLANT_ID</th> <th>PERIOD</th> <th>PRICE1</th> <th>PRICE2</th> <th>PRICE3</th> <th>PRICE4</th>\n",
       "        </tr>\n",
       "    </thead>\n",
       "    <tbody>\n",
       "        <tr>\n",
       "            <td>Coase   </td> <td>3      </td> <td>Old_Timers</td> <td>6           </td> <td>BIG_CREEK           </td> <td>61      </td> <td>5     </td> <td>0     </td> <td>0     </td> <td>0     </td> <td>0     </td>\n",
       "        </tr>\n",
       "        <tr>\n",
       "            <td>Arrow   </td> <td>1      </td> <td>Low_Fossil</td> <td>7           </td> <td>HELMS               </td> <td>72      </td> <td>5     </td> <td>0.5   </td> <td>0.5   </td> <td>0.5   </td> <td>0.5   </td>\n",
       "        </tr>\n",
       "        <tr>\n",
       "            <td>Arrow   </td> <td>1      </td> <td>Low_Fossil</td> <td>7           </td> <td>DIABLO_CANYON_1     </td> <td>75      </td> <td>5     </td> <td>11.5  </td> <td>11.5  </td> <td>11.5  </td> <td>11.5  </td>\n",
       "        </tr>\n",
       "        <tr>\n",
       "            <td>Coase   </td> <td>3      </td> <td>Old_Timers</td> <td>6           </td> <td>MOHAVE_1            </td> <td>62      </td> <td>5     </td> <td>34.5  </td> <td>34.5  </td> <td>34.5  </td> <td>34.5  </td>\n",
       "        </tr>\n",
       "        <tr>\n",
       "            <td>Friedman</td> <td>5      </td> <td>Bay_Views </td> <td>3           </td> <td>MOSS_LANDING_6      </td> <td>33      </td> <td>5     </td> <td>40    </td> <td>40    </td> <td>40    </td> <td>40    </td>\n",
       "        </tr>\n",
       "        <tr>\n",
       "            <td>Friedman</td> <td>5      </td> <td>Bay_Views </td> <td>3           </td> <td>MOSS_LANDING_7      </td> <td>34      </td> <td>5     </td> <td>40    </td> <td>40    </td> <td>40    </td> <td>40    </td>\n",
       "        </tr>\n",
       "        <tr>\n",
       "            <td>Krugman </td> <td>7      </td> <td>Big_Coal  </td> <td>1           </td> <td>HUNTINGTON_BEACH_1-2</td> <td>13      </td> <td>5     </td> <td>40.5  </td> <td>40.5  </td> <td>40.5  </td> <td>40.5  </td>\n",
       "        </tr>\n",
       "        <tr>\n",
       "            <td>Becker  </td> <td>2      </td> <td>Big_Gas   </td> <td>2           </td> <td>EL_SEGUNDO_3-4      </td> <td>22      </td> <td>5     </td> <td>41.97 </td> <td>44.97 </td> <td>61.97 </td> <td>44.97 </td>\n",
       "        </tr>\n",
       "        <tr>\n",
       "            <td>Becker  </td> <td>2      </td> <td>Big_Gas   </td> <td>2           </td> <td>ENCINA              </td> <td>25      </td> <td>5     </td> <td>41.97 </td> <td>44.97 </td> <td>61.97 </td> <td>44.97 </td>\n",
       "        </tr>\n",
       "        <tr>\n",
       "            <td>Krugman </td> <td>7      </td> <td>Big_Coal  </td> <td>1           </td> <td>REDONDO_5-6         </td> <td>15      </td> <td>5     </td> <td>42.3  </td> <td>41.94 </td> <td>41.94 </td> <td>42.3  </td>\n",
       "        </tr>\n",
       "    </tbody>\n",
       "</table>\n",
       "<p>... (32 rows omitted)</p>"
      ],
      "text/plain": [
       "TEAM     | TEAM_ID | PORTFOLIO  | PORTFOLIO_ID | PLANT                | PLANT_ID | PERIOD | PRICE1 | PRICE2 | PRICE3 | PRICE4\n",
       "Coase    | 3       | Old_Timers | 6            | BIG_CREEK            | 61       | 5      | 0      | 0      | 0      | 0\n",
       "Arrow    | 1       | Low_Fossil | 7            | HELMS                | 72       | 5      | 0.5    | 0.5    | 0.5    | 0.5\n",
       "Arrow    | 1       | Low_Fossil | 7            | DIABLO_CANYON_1      | 75       | 5      | 11.5   | 11.5   | 11.5   | 11.5\n",
       "Coase    | 3       | Old_Timers | 6            | MOHAVE_1             | 62       | 5      | 34.5   | 34.5   | 34.5   | 34.5\n",
       "Friedman | 5       | Bay_Views  | 3            | MOSS_LANDING_6       | 33       | 5      | 40     | 40     | 40     | 40\n",
       "Friedman | 5       | Bay_Views  | 3            | MOSS_LANDING_7       | 34       | 5      | 40     | 40     | 40     | 40\n",
       "Krugman  | 7       | Big_Coal   | 1            | HUNTINGTON_BEACH_1-2 | 13       | 5      | 40.5   | 40.5   | 40.5   | 40.5\n",
       "Becker   | 2       | Big_Gas    | 2            | EL_SEGUNDO_3-4       | 22       | 5      | 41.97  | 44.97  | 61.97  | 44.97\n",
       "Becker   | 2       | Big_Gas    | 2            | ENCINA               | 25       | 5      | 41.97  | 44.97  | 61.97  | 44.97\n",
       "Krugman  | 7       | Big_Coal   | 1            | REDONDO_5-6          | 15       | 5      | 42.3   | 41.94  | 41.94  | 42.3\n",
       "... (32 rows omitted)"
      ]
     },
     "execution_count": 40,
     "metadata": {},
     "output_type": "execute_result"
    }
   ],
   "source": [
    "prices = Table.read_table('F2_bids_5.csv').sort('PRICE1')\n",
    "prices"
   ]
  },
  {
   "cell_type": "code",
   "execution_count": 43,
   "metadata": {},
   "outputs": [
    {
     "data": {
      "text/html": [
       "<table border=\"1\" class=\"dataframe\">\n",
       "    <thead>\n",
       "        <tr>\n",
       "            <th>Group</th> <th>Group_num</th> <th>UNIT NAME</th> <th>Capacity_MW</th> <th>Heat_Rate_MMBTUperMWh</th> <th>Fuel_Price_USDperMMBTU</th> <th>Fuel_Cost_USDperMWH</th> <th>Var_OandM_USDperMWH</th> <th>Total_Var_Cost_USDperMWH</th> <th>Carbon_tonsperMWH</th> <th>FixedCst_OandM_perDay</th>\n",
       "        </tr>\n",
       "    </thead>\n",
       "    <tbody>\n",
       "        <tr>\n",
       "            <td>Old_Timers  </td> <td>7        </td> <td>BIG CREEK      </td> <td>1000       </td> <td>nan                  </td> <td>0                     </td> <td>0                  </td> <td>0                  </td> <td>0                       </td> <td>0                </td> <td>$15,000              </td>\n",
       "        </tr>\n",
       "        <tr>\n",
       "            <td>Fossil_Light</td> <td>8        </td> <td>HELMS          </td> <td>800        </td> <td>nan                  </td> <td>0                     </td> <td>0                  </td> <td>0.5                </td> <td>0.5                     </td> <td>0                </td> <td>$15,000              </td>\n",
       "        </tr>\n",
       "        <tr>\n",
       "            <td>Fossil_Light</td> <td>8        </td> <td>DIABLO CANYON 1</td> <td>1000       </td> <td>1                    </td> <td>7.5                   </td> <td>7.5                </td> <td>4                  </td> <td>11.5                    </td> <td>0                </td> <td>$20,000              </td>\n",
       "        </tr>\n",
       "        <tr>\n",
       "            <td>Bay_Views   </td> <td>4        </td> <td>MOSS LANDING 6 </td> <td>750        </td> <td>6.9                  </td> <td>4.5                   </td> <td>31.06              </td> <td>1.5                </td> <td>32.56                   </td> <td>0.37             </td> <td>$8,000               </td>\n",
       "        </tr>\n",
       "        <tr>\n",
       "            <td>Bay_Views   </td> <td>4        </td> <td>MOSS LANDING 7 </td> <td>750        </td> <td>6.9                  </td> <td>4.5                   </td> <td>31.06              </td> <td>1.5                </td> <td>32.56                   </td> <td>0.37             </td> <td>$8,000               </td>\n",
       "        </tr>\n",
       "        <tr>\n",
       "            <td>Old_Timers  </td> <td>7        </td> <td>MOHAVE 1       </td> <td>750        </td> <td>10                   </td> <td>3                     </td> <td>30                 </td> <td>4.5                </td> <td>34.5                    </td> <td>0.94             </td> <td>$15,000              </td>\n",
       "        </tr>\n",
       "        <tr>\n",
       "            <td>Old_Timers  </td> <td>7        </td> <td>MOHAVE 2       </td> <td>750        </td> <td>10                   </td> <td>3                     </td> <td>30                 </td> <td>4.5                </td> <td>34.5                    </td> <td>0.94             </td> <td>$15,000              </td>\n",
       "        </tr>\n",
       "        <tr>\n",
       "            <td>Big_Coal    </td> <td>1        </td> <td>FOUR CORNERS   </td> <td>1900       </td> <td>11.67                </td> <td>3                     </td> <td>35                 </td> <td>1.5                </td> <td>36.5                    </td> <td>1.1              </td> <td>$8,000               </td>\n",
       "        </tr>\n",
       "        <tr>\n",
       "            <td>Bay_Views   </td> <td>4        </td> <td>MORRO BAY 3&4  </td> <td>665        </td> <td>8.02                 </td> <td>4.5                   </td> <td>36.11              </td> <td>0.5                </td> <td>36.61                   </td> <td>0.43             </td> <td>$4,000               </td>\n",
       "        </tr>\n",
       "        <tr>\n",
       "            <td>East_Bay    </td> <td>6        </td> <td>PITTSBURGH 5&6 </td> <td>650        </td> <td>8.02                 </td> <td>4.5                   </td> <td>36.11              </td> <td>0.5                </td> <td>36.61                   </td> <td>0.43             </td> <td>$2,500               </td>\n",
       "        </tr>\n",
       "    </tbody>\n",
       "</table>\n",
       "<p>... (32 rows omitted)</p>"
      ],
      "text/plain": [
       "Group        | Group_num | UNIT NAME       | Capacity_MW | Heat_Rate_MMBTUperMWh | Fuel_Price_USDperMMBTU | Fuel_Cost_USDperMWH | Var_OandM_USDperMWH | Total_Var_Cost_USDperMWH | Carbon_tonsperMWH | FixedCst_OandM_perDay\n",
       "Old_Timers   | 7         | BIG CREEK       | 1000        | nan                   | 0                      | 0                   | 0                   | 0                        | 0                 | $15,000\n",
       "Fossil_Light | 8         | HELMS           | 800         | nan                   | 0                      | 0                   | 0.5                 | 0.5                      | 0                 | $15,000\n",
       "Fossil_Light | 8         | DIABLO CANYON 1 | 1000        | 1                     | 7.5                    | 7.5                 | 4                   | 11.5                     | 0                 | $20,000\n",
       "Bay_Views    | 4         | MOSS LANDING 6  | 750         | 6.9                   | 4.5                    | 31.06               | 1.5                 | 32.56                    | 0.37              | $8,000\n",
       "Bay_Views    | 4         | MOSS LANDING 7  | 750         | 6.9                   | 4.5                    | 31.06               | 1.5                 | 32.56                    | 0.37              | $8,000\n",
       "Old_Timers   | 7         | MOHAVE 1        | 750         | 10                    | 3                      | 30                  | 4.5                 | 34.5                     | 0.94              | $15,000\n",
       "Old_Timers   | 7         | MOHAVE 2        | 750         | 10                    | 3                      | 30                  | 4.5                 | 34.5                     | 0.94              | $15,000\n",
       "Big_Coal     | 1         | FOUR CORNERS    | 1900        | 11.67                 | 3                      | 35                  | 1.5                 | 36.5                     | 1.1               | $8,000\n",
       "Bay_Views    | 4         | MORRO BAY 3&4   | 665         | 8.02                  | 4.5                    | 36.11               | 0.5                 | 36.61                    | 0.43              | $4,000\n",
       "East_Bay     | 6         | PITTSBURGH 5&6  | 650         | 8.02                  | 4.5                    | 36.11               | 0.5                 | 36.61                    | 0.43              | $2,500\n",
       "... (32 rows omitted)"
      ]
     },
     "execution_count": 43,
     "metadata": {},
     "output_type": "execute_result"
    }
   ],
   "source": [
    "ESG = Table.read_table('ESGPorfolios_.csv').sort(\"Total_Var_Cost_USDperMWH\")\n",
    "ESG"
   ]
  },
  {
   "cell_type": "code",
   "execution_count": 38,
   "metadata": {},
   "outputs": [],
   "source": [
    "big_coal = prices.where(\"PORTFOLIO\",\"Big_Coal\")\n",
    "capacities = ESG.where(\"Group\",\"Big Coal\").column('Capacity_MW')"
   ]
  },
  {
   "cell_type": "code",
   "execution_count": null,
   "metadata": {},
   "outputs": [],
   "source": []
  }
 ],
 "metadata": {
  "kernelspec": {
   "display_name": "Python 3",
   "language": "python",
   "name": "python3"
  },
  "language_info": {
   "codemirror_mode": {
    "name": "ipython",
    "version": 3
   },
   "file_extension": ".py",
   "mimetype": "text/x-python",
   "name": "python",
   "nbconvert_exporter": "python",
   "pygments_lexer": "ipython3",
   "version": "3.7.0"
  }
 },
 "nbformat": 4,
 "nbformat_minor": 2
}
