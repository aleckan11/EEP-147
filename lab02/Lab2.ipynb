{
 "cells": [
  {
   "cell_type": "code",
   "execution_count": 1,
   "metadata": {
    "collapsed": true
   },
   "outputs": [],
   "source": [
    "from datascience import *\n",
    "import matplotlib.pyplot as plt\n",
    "%matplotlib inline\n",
    "import numpy as np\n",
    "import pandas as pd"
   ]
  },
  {
   "cell_type": "code",
   "execution_count": 1,
   "metadata": {},
   "outputs": [
    {
     "ename": "NameError",
     "evalue": "name 'Image' is not defined",
     "output_type": "error",
     "traceback": [
      "\u001b[0;31m---------------------------------------------------------------------------\u001b[0m",
      "\u001b[0;31mNameError\u001b[0m                                 Traceback (most recent call last)",
      "\u001b[0;32m<ipython-input-1-622551fa2b9e>\u001b[0m in \u001b[0;36m<module>\u001b[0;34m()\u001b[0m\n\u001b[0;32m----> 1\u001b[0;31m \u001b[0mImage\u001b[0m\u001b[0;34m(\u001b[0m\u001b[0;34m\"img/picture.png\"\u001b[0m\u001b[0;34m)\u001b[0m\u001b[0;34m\u001b[0m\u001b[0m\n\u001b[0m",
      "\u001b[0;31mNameError\u001b[0m: name 'Image' is not defined"
     ]
    }
   ],
   "source": [
    "Image(\"img/picture.png\")"
   ]
  },
  {
   "cell_type": "code",
   "execution_count": 2,
   "metadata": {},
   "outputs": [
    {
     "data": {
      "text/html": [
       "<table border=\"1\" class=\"dataframe\">\n",
       "    <thead>\n",
       "        <tr>\n",
       "            <th>TEAM</th> <th>TEAM_ID</th> <th>PORTFOLIO</th> <th>PORTFOLIO_ID</th> <th>PLANT</th> <th>PLANT_ID</th> <th>PERIOD</th> <th>PRICE1</th> <th>PRICE2</th> <th>PRICE3</th> <th>PRICE4</th>\n",
       "        </tr>\n",
       "    </thead>\n",
       "    <tbody>\n",
       "        <tr>\n",
       "            <td>Friedman</td> <td>5      </td> <td>Bay_Views </td> <td>3           </td> <td>MORRO_BAY_1-2 </td> <td>31      </td> <td>5     </td> <td>47.33 </td> <td>47.33 </td> <td>47.33 </td> <td>47.33 </td>\n",
       "        </tr>\n",
       "        <tr>\n",
       "            <td>Friedman</td> <td>5      </td> <td>Bay_Views </td> <td>3           </td> <td>MORRO_BAY_3-4 </td> <td>32      </td> <td>5     </td> <td>45    </td> <td>45    </td> <td>45    </td> <td>45    </td>\n",
       "        </tr>\n",
       "        <tr>\n",
       "            <td>Friedman</td> <td>5      </td> <td>Bay_Views </td> <td>3           </td> <td>MOSS_LANDING_6</td> <td>33      </td> <td>5     </td> <td>40    </td> <td>40    </td> <td>40    </td> <td>40    </td>\n",
       "        </tr>\n",
       "        <tr>\n",
       "            <td>Friedman</td> <td>5      </td> <td>Bay_Views </td> <td>3           </td> <td>MOSS_LANDING_7</td> <td>34      </td> <td>5     </td> <td>40    </td> <td>40    </td> <td>40    </td> <td>40    </td>\n",
       "        </tr>\n",
       "        <tr>\n",
       "            <td>Friedman</td> <td>5      </td> <td>Bay_Views </td> <td>3           </td> <td>OAKLAND       </td> <td>35      </td> <td>5     </td> <td>150   </td> <td>150   </td> <td>150   </td> <td>150   </td>\n",
       "        </tr>\n",
       "        <tr>\n",
       "            <td>Debreu  </td> <td>4      </td> <td>Beachfront</td> <td>4           </td> <td>COOLWATER     </td> <td>41      </td> <td>5     </td> <td>61.99 </td> <td>61.99 </td> <td>66.89 </td> <td>66.89 </td>\n",
       "        </tr>\n",
       "        <tr>\n",
       "            <td>Debreu  </td> <td>4      </td> <td>Beachfront</td> <td>4           </td> <td>ETIWANDA_1-4  </td> <td>42      </td> <td>5     </td> <td>62.27 </td> <td>62.27 </td> <td>67.16 </td> <td>67.16 </td>\n",
       "        </tr>\n",
       "        <tr>\n",
       "            <td>Debreu  </td> <td>4      </td> <td>Beachfront</td> <td>4           </td> <td>ETIWANDA_5    </td> <td>43      </td> <td>5     </td> <td>91.69 </td> <td>91.69 </td> <td>98.89 </td> <td>98.89 </td>\n",
       "        </tr>\n",
       "        <tr>\n",
       "            <td>Debreu  </td> <td>4      </td> <td>Beachfront</td> <td>4           </td> <td>ELLWOOD       </td> <td>44      </td> <td>5     </td> <td>111.21</td> <td>111.21</td> <td>120.11</td> <td>120.11</td>\n",
       "        </tr>\n",
       "        <tr>\n",
       "            <td>Debreu  </td> <td>4      </td> <td>Beachfront</td> <td>4           </td> <td>MANDALAY_1-2  </td> <td>45      </td> <td>5     </td> <td>56.65 </td> <td>56.65 </td> <td>61.05 </td> <td>61.05 </td>\n",
       "        </tr>\n",
       "    </tbody>\n",
       "</table>\n",
       "<p>... (32 rows omitted)</p>"
      ],
      "text/plain": [
       "TEAM     | TEAM_ID | PORTFOLIO  | PORTFOLIO_ID | PLANT          | PLANT_ID | PERIOD | PRICE1 | PRICE2 | PRICE3 | PRICE4\n",
       "Friedman | 5       | Bay_Views  | 3            | MORRO_BAY_1-2  | 31       | 5      | 47.33  | 47.33  | 47.33  | 47.33\n",
       "Friedman | 5       | Bay_Views  | 3            | MORRO_BAY_3-4  | 32       | 5      | 45     | 45     | 45     | 45\n",
       "Friedman | 5       | Bay_Views  | 3            | MOSS_LANDING_6 | 33       | 5      | 40     | 40     | 40     | 40\n",
       "Friedman | 5       | Bay_Views  | 3            | MOSS_LANDING_7 | 34       | 5      | 40     | 40     | 40     | 40\n",
       "Friedman | 5       | Bay_Views  | 3            | OAKLAND        | 35       | 5      | 150    | 150    | 150    | 150\n",
       "Debreu   | 4       | Beachfront | 4            | COOLWATER      | 41       | 5      | 61.99  | 61.99  | 66.89  | 66.89\n",
       "Debreu   | 4       | Beachfront | 4            | ETIWANDA_1-4   | 42       | 5      | 62.27  | 62.27  | 67.16  | 67.16\n",
       "Debreu   | 4       | Beachfront | 4            | ETIWANDA_5     | 43       | 5      | 91.69  | 91.69  | 98.89  | 98.89\n",
       "Debreu   | 4       | Beachfront | 4            | ELLWOOD        | 44       | 5      | 111.21 | 111.21 | 120.11 | 120.11\n",
       "Debreu   | 4       | Beachfront | 4            | MANDALAY_1-2   | 45       | 5      | 56.65  | 56.65  | 61.05  | 61.05\n",
       "... (32 rows omitted)"
      ]
     },
     "execution_count": 2,
     "metadata": {},
     "output_type": "execute_result"
    }
   ],
   "source": [
    "prices = Table.read_table('F2_bids_5.csv').sort('PORTFOLIO')\n",
    "prices"
   ]
  },
  {
   "cell_type": "code",
   "execution_count": 3,
   "metadata": {},
   "outputs": [
    {
     "data": {
      "text/html": [
       "<table border=\"1\" class=\"dataframe\">\n",
       "    <thead>\n",
       "        <tr>\n",
       "            <th>Group</th> <th>Group_num</th> <th>UNIT NAME</th> <th>Capacity_MW</th> <th>Heat_Rate_MMBTUperMWh</th> <th>Fuel_Price_USDperMMBTU</th> <th>Fuel_Cost_USDperMWH</th> <th>Var_OandM_USDperMWH</th> <th>Total_Var_Cost_USDperMWH</th> <th>Carbon_tonsperMWH</th> <th>FixedCst_OandM_perDay</th>\n",
       "        </tr>\n",
       "    </thead>\n",
       "    <tbody>\n",
       "        <tr>\n",
       "            <td>Bay_Views </td> <td>3        </td> <td>MORRO BAY 1&2 </td> <td>335        </td> <td>8.51                 </td> <td>4.5                   </td> <td>38.28              </td> <td>0.5                </td> <td>38.78                   </td> <td>0.45             </td> <td>$2,000               </td>\n",
       "        </tr>\n",
       "        <tr>\n",
       "            <td>Bay_Views </td> <td>4        </td> <td>MORRO BAY 3&4 </td> <td>665        </td> <td>8.02                 </td> <td>4.5                   </td> <td>36.11              </td> <td>0.5                </td> <td>36.61                   </td> <td>0.43             </td> <td>$4,000               </td>\n",
       "        </tr>\n",
       "        <tr>\n",
       "            <td>Bay_Views </td> <td>4        </td> <td>MOSS LANDING 6</td> <td>750        </td> <td>6.9                  </td> <td>4.5                   </td> <td>31.06              </td> <td>1.5                </td> <td>32.56                   </td> <td>0.37             </td> <td>$8,000               </td>\n",
       "        </tr>\n",
       "        <tr>\n",
       "            <td>Bay_Views </td> <td>4        </td> <td>MOSS LANDING 7</td> <td>750        </td> <td>6.9                  </td> <td>4.5                   </td> <td>31.06              </td> <td>1.5                </td> <td>32.56                   </td> <td>0.37             </td> <td>$8,000               </td>\n",
       "        </tr>\n",
       "        <tr>\n",
       "            <td>Bay_Views </td> <td>4        </td> <td>OAKLAND       </td> <td>150        </td> <td>13.48                </td> <td>4.5                   </td> <td>60.67              </td> <td>0.5                </td> <td>61.17                   </td> <td>0.72             </td> <td>$0                   </td>\n",
       "        </tr>\n",
       "        <tr>\n",
       "            <td>Beachfront</td> <td>5        </td> <td>COOLWATER     </td> <td>650        </td> <td>9.31                 </td> <td>4.5                   </td> <td>41.89              </td> <td>0.5                </td> <td>42.39                   </td> <td>0.49             </td> <td>$2,000               </td>\n",
       "        </tr>\n",
       "        <tr>\n",
       "            <td>Beachfront</td> <td>5        </td> <td>ETIWANDA 1-4  </td> <td>850        </td> <td>9.15                 </td> <td>4.5                   </td> <td>41.17              </td> <td>1.5                </td> <td>42.67                   </td> <td>0.49             </td> <td>$8,000               </td>\n",
       "        </tr>\n",
       "        <tr>\n",
       "            <td>Beachfront</td> <td>5        </td> <td>ETIWANDA 5    </td> <td>150        </td> <td>13.64                </td> <td>4.5                   </td> <td>61.39              </td> <td>1.5                </td> <td>62.89                   </td> <td>0.72             </td> <td>$1,000               </td>\n",
       "        </tr>\n",
       "        <tr>\n",
       "            <td>Beachfront</td> <td>5        </td> <td>ELLWOOD       </td> <td>300        </td> <td>16.69                </td> <td>4.5                   </td> <td>75.11              </td> <td>0.5                </td> <td>75.61                   </td> <td>0.89             </td> <td>$0                   </td>\n",
       "        </tr>\n",
       "        <tr>\n",
       "            <td>Beachfront</td> <td>5        </td> <td>MANDALAY 1&2  </td> <td>300        </td> <td>8.35                 </td> <td>4.5                   </td> <td>37.56              </td> <td>1.5                </td> <td>39.06                   </td> <td>0.44             </td> <td>$1,000               </td>\n",
       "        </tr>\n",
       "    </tbody>\n",
       "</table>\n",
       "<p>... (32 rows omitted)</p>"
      ],
      "text/plain": [
       "Group      | Group_num | UNIT NAME      | Capacity_MW | Heat_Rate_MMBTUperMWh | Fuel_Price_USDperMMBTU | Fuel_Cost_USDperMWH | Var_OandM_USDperMWH | Total_Var_Cost_USDperMWH | Carbon_tonsperMWH | FixedCst_OandM_perDay\n",
       "Bay_Views  | 3         | MORRO BAY 1&2  | 335         | 8.51                  | 4.5                    | 38.28               | 0.5                 | 38.78                    | 0.45              | $2,000\n",
       "Bay_Views  | 4         | MORRO BAY 3&4  | 665         | 8.02                  | 4.5                    | 36.11               | 0.5                 | 36.61                    | 0.43              | $4,000\n",
       "Bay_Views  | 4         | MOSS LANDING 6 | 750         | 6.9                   | 4.5                    | 31.06               | 1.5                 | 32.56                    | 0.37              | $8,000\n",
       "Bay_Views  | 4         | MOSS LANDING 7 | 750         | 6.9                   | 4.5                    | 31.06               | 1.5                 | 32.56                    | 0.37              | $8,000\n",
       "Bay_Views  | 4         | OAKLAND        | 150         | 13.48                 | 4.5                    | 60.67               | 0.5                 | 61.17                    | 0.72              | $0\n",
       "Beachfront | 5         | COOLWATER      | 650         | 9.31                  | 4.5                    | 41.89               | 0.5                 | 42.39                    | 0.49              | $2,000\n",
       "Beachfront | 5         | ETIWANDA 1-4   | 850         | 9.15                  | 4.5                    | 41.17               | 1.5                 | 42.67                    | 0.49              | $8,000\n",
       "Beachfront | 5         | ETIWANDA 5     | 150         | 13.64                 | 4.5                    | 61.39               | 1.5                 | 62.89                    | 0.72              | $1,000\n",
       "Beachfront | 5         | ELLWOOD        | 300         | 16.69                 | 4.5                    | 75.11               | 0.5                 | 75.61                    | 0.89              | $0\n",
       "Beachfront | 5         | MANDALAY 1&2   | 300         | 8.35                  | 4.5                    | 37.56               | 1.5                 | 39.06                    | 0.44              | $1,000\n",
       "... (32 rows omitted)"
      ]
     },
     "execution_count": 3,
     "metadata": {},
     "output_type": "execute_result"
    }
   ],
   "source": [
    "# if you sort both tables by PORTFOLIO and Group respectively, you can see that the columns line up\n",
    "\n",
    "ESG = Table.read_table('ESGPorfolios_.csv').sort(\"Group\")\n",
    "ESG"
   ]
  },
  {
   "cell_type": "code",
   "execution_count": 4,
   "metadata": {
    "collapsed": true
   },
   "outputs": [],
   "source": [
    "# if you sort both tables by PORTFOLIO and Group respectively, you can see that the columns line up\n",
    "\n",
    "big_coal = prices.where(\"PORTFOLIO\",\"Big_Coal\")\n",
    "capacities = ESG.where(\"Group\",\"Big Coal\").column('Capacity_MW')"
   ]
  },
  {
   "cell_type": "code",
   "execution_count": 5,
   "metadata": {
    "collapsed": true
   },
   "outputs": [],
   "source": [
    "def pair_cap_to_price(table1, table2, price_number):\n",
    "    res = []\n",
    "    for i in range(0, table1.num_rows):\n",
    "        res.append((table1.column(\"Capacity_MW\")[i], table2.column(\"PRICE\" + str(price_number))[i]))\n",
    "    return res"
   ]
  },
  {
   "cell_type": "code",
   "execution_count": 6,
   "metadata": {
    "collapsed": true
   },
   "outputs": [],
   "source": [
    "lst = pair_cap_to_price(ESG, prices, 1)"
   ]
  },
  {
   "cell_type": "code",
   "execution_count": 7,
   "metadata": {
    "collapsed": true
   },
   "outputs": [],
   "source": [
    "key = lambda x: x[0]\n",
    "sorted_lst = sorted(lst, key=key)"
   ]
  },
  {
   "cell_type": "code",
   "execution_count": 8,
   "metadata": {},
   "outputs": [
    {
     "data": {
      "image/png": "[encoded data removed]",
      "text/plain": [
       "<Figure size 432x288 with 1 Axes>"
      ]
     },
     "metadata": {
      "needs_background": "light"
     },
     "output_type": "display_data"
    }
   ],
   "source": [
    "x_val = [x[0] for x in sorted_lst]\n",
    "y_val = [x[1] for x in sorted_lst]\n",
    "\n",
    "\n",
    "plt.bar(x_val, y_val)\n",
    "plt.title('Plant Capacity compared to Price')\n",
    "plt.xlabel('Capacity_MW')\n",
    "plt.ylabel('Price 1')\n",
    "plt.show()"
   ]
  },
  {
   "cell_type": "code",
   "execution_count": null,
   "metadata": {
    "collapsed": true
   },
   "outputs": [],
   "source": []
  }
 ],
 "metadata": {
  "kernelspec": {
   "display_name": "Python 3",
   "language": "python",
   "name": "python3"
  },
  "language_info": {
   "codemirror_mode": {
    "name": "ipython",
    "version": 3
   },
   "file_extension": ".py",
   "mimetype": "text/x-python",
   "name": "python",
   "nbconvert_exporter": "python",
   "pygments_lexer": "ipython3",
   "version": "3.5.4"
  }
 },
 "nbformat": 4,
 "nbformat_minor": 2
}
