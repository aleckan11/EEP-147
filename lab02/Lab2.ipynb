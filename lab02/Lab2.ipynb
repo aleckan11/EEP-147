{
 "cells": [
  {
   "cell_type": "code",
   "execution_count": 30,
   "metadata": {},
   "outputs": [],
   "source": [
    "from datascience import *\n",
    "import matplotlib.pyplot as plt\n",
    "%matplotlib inline\n",
    "import numpy as np\n",
    "import pandas as pd"
   ]
  },
  {
   "cell_type": "code",
   "execution_count": 31,
   "metadata": {},
   "outputs": [
    {
     "data": {
      "text/html": [
       "<table border=\"1\" class=\"dataframe\">\n",
       "    <thead>\n",
       "        <tr>\n",
       "            <th>TEAM</th> <th>TEAM_ID</th> <th>PORTFOLIO</th> <th>PORTFOLIO_ID</th> <th>PLANT</th> <th>PLANT_ID</th> <th>PERIOD</th> <th>PRICE1</th> <th>PRICE2</th> <th>PRICE3</th> <th>PRICE4</th>\n",
       "        </tr>\n",
       "    </thead>\n",
       "    <tbody>\n",
       "        <tr>\n",
       "            <td>Krugman</td> <td>7      </td> <td>Big_Coal </td> <td>1           </td> <td>Four Corners        </td> <td>11      </td> <td>5     </td> <td>346.5 </td> <td>36.5  </td> <td>36.5  </td> <td>346.5 </td>\n",
       "        </tr>\n",
       "        <tr>\n",
       "            <td>Krugman</td> <td>7      </td> <td>Big_Coal </td> <td>1           </td> <td>ALAMITOS_7          </td> <td>12      </td> <td>5     </td> <td>75    </td> <td>75    </td> <td>75    </td> <td>75    </td>\n",
       "        </tr>\n",
       "        <tr>\n",
       "            <td>Krugman</td> <td>7      </td> <td>Big_Coal </td> <td>1           </td> <td>HUNTINGTON_BEACH_1-2</td> <td>13      </td> <td>5     </td> <td>40.5  </td> <td>40.5  </td> <td>40.5  </td> <td>40.5  </td>\n",
       "        </tr>\n",
       "        <tr>\n",
       "            <td>Krugman</td> <td>7      </td> <td>Big_Coal </td> <td>1           </td> <td>HUNTINGTON_BEACH_5  </td> <td>14      </td> <td>5     </td> <td>67    </td> <td>67    </td> <td>367   </td> <td>67    </td>\n",
       "        </tr>\n",
       "        <tr>\n",
       "            <td>Krugman</td> <td>7      </td> <td>Big_Coal </td> <td>1           </td> <td>REDONDO_5-6         </td> <td>15      </td> <td>5     </td> <td>42.3  </td> <td>41.94 </td> <td>41.94 </td> <td>42.3  </td>\n",
       "        </tr>\n",
       "        <tr>\n",
       "            <td>Krugman</td> <td>7      </td> <td>Big_Coal </td> <td>1           </td> <td>REDONDO_7-8         </td> <td>16      </td> <td>5     </td> <td>242   </td> <td>242   </td> <td>41.94 </td> <td>242   </td>\n",
       "        </tr>\n",
       "    </tbody>\n",
       "</table>"
      ],
      "text/plain": [
       "TEAM    | TEAM_ID | PORTFOLIO | PORTFOLIO_ID | PLANT                | PLANT_ID | PERIOD | PRICE1 | PRICE2 | PRICE3 | PRICE4\n",
       "Krugman | 7       | Big_Coal  | 1            | Four Corners         | 11       | 5      | 346.5  | 36.5   | 36.5   | 346.5\n",
       "Krugman | 7       | Big_Coal  | 1            | ALAMITOS_7           | 12       | 5      | 75     | 75     | 75     | 75\n",
       "Krugman | 7       | Big_Coal  | 1            | HUNTINGTON_BEACH_1-2 | 13       | 5      | 40.5   | 40.5   | 40.5   | 40.5\n",
       "Krugman | 7       | Big_Coal  | 1            | HUNTINGTON_BEACH_5   | 14       | 5      | 67     | 67     | 367    | 67\n",
       "Krugman | 7       | Big_Coal  | 1            | REDONDO_5-6          | 15       | 5      | 42.3   | 41.94  | 41.94  | 42.3\n",
       "Krugman | 7       | Big_Coal  | 1            | REDONDO_7-8          | 16       | 5      | 242    | 242    | 41.94  | 242"
      ]
     },
     "execution_count": 31,
     "metadata": {},
     "output_type": "execute_result"
    }
   ],
   "source": [
    "prices = Table.read_table('F2_bids_5.csv').sort('PORTFOLIO')\n",
    "prices.where('PORTFOLIO', 'Big_Coal')"
   ]
  },
  {
   "cell_type": "code",
   "execution_count": 32,
   "metadata": {},
   "outputs": [
    {
     "data": {
      "text/html": [
       "<table border=\"1\" class=\"dataframe\">\n",
       "    <thead>\n",
       "        <tr>\n",
       "            <th>Group</th> <th>Group_num</th> <th>UNIT NAME</th> <th>Capacity_MW</th> <th>Heat_Rate_MMBTUperMWh</th> <th>Fuel_Price_USDperMMBTU</th> <th>Fuel_Cost_USDperMWH</th> <th>Var_OandM_USDperMWH</th> <th>Total_Var_Cost_USDperMWH</th> <th>Carbon_tonsperMWH</th> <th>FixedCst_OandM_perDay</th>\n",
       "        </tr>\n",
       "    </thead>\n",
       "    <tbody>\n",
       "        <tr>\n",
       "            <td>Big_Coal</td> <td>1        </td> <td>FOUR CORNERS        </td> <td>1900       </td> <td>11.67                </td> <td>3                     </td> <td>35                 </td> <td>1.5                </td> <td>36.5                    </td> <td>1.1              </td> <td>$8,000               </td>\n",
       "        </tr>\n",
       "        <tr>\n",
       "            <td>Big_Coal</td> <td>1        </td> <td>ALAMITOS 7          </td> <td>250        </td> <td>16.05                </td> <td>4.5                   </td> <td>72.22              </td> <td>1.5                </td> <td>73.72                   </td> <td>0.85             </td> <td>$0                   </td>\n",
       "        </tr>\n",
       "        <tr>\n",
       "            <td>Big_Coal</td> <td>1        </td> <td>HUNTINGTON BEACH 1&2</td> <td>300        </td> <td>8.67                 </td> <td>4.5                   </td> <td>39                 </td> <td>1.5                </td> <td>40.5                    </td> <td>0.46             </td> <td>$2,000               </td>\n",
       "        </tr>\n",
       "        <tr>\n",
       "            <td>Big_Coal</td> <td>1        </td> <td>HUNTINGTON BEACH 5  </td> <td>150        </td> <td>14.44                </td> <td>4.5                   </td> <td>65                 </td> <td>1.5                </td> <td>66.5                    </td> <td>0.77             </td> <td>$2,000               </td>\n",
       "        </tr>\n",
       "        <tr>\n",
       "            <td>Big_Coal</td> <td>1        </td> <td>REDONDO 5&6         </td> <td>350        </td> <td>8.99                 </td> <td>4.5                   </td> <td>40.44              </td> <td>1.5                </td> <td>41.94                   </td> <td>0.48             </td> <td>$3,000               </td>\n",
       "        </tr>\n",
       "        <tr>\n",
       "            <td>Big_Coal</td> <td>1        </td> <td>REDONDO 7&8         </td> <td>950        </td> <td>8.99                 </td> <td>4.5                   </td> <td>40.44              </td> <td>1.5                </td> <td>41.94                   </td> <td>0.48             </td> <td>$5,000               </td>\n",
       "        </tr>\n",
       "    </tbody>\n",
       "</table>"
      ],
      "text/plain": [
       "Group    | Group_num | UNIT NAME            | Capacity_MW | Heat_Rate_MMBTUperMWh | Fuel_Price_USDperMMBTU | Fuel_Cost_USDperMWH | Var_OandM_USDperMWH | Total_Var_Cost_USDperMWH | Carbon_tonsperMWH | FixedCst_OandM_perDay\n",
       "Big_Coal | 1         | FOUR CORNERS         | 1900        | 11.67                 | 3                      | 35                  | 1.5                 | 36.5                     | 1.1               | $8,000\n",
       "Big_Coal | 1         | ALAMITOS 7           | 250         | 16.05                 | 4.5                    | 72.22               | 1.5                 | 73.72                    | 0.85              | $0\n",
       "Big_Coal | 1         | HUNTINGTON BEACH 1&2 | 300         | 8.67                  | 4.5                    | 39                  | 1.5                 | 40.5                     | 0.46              | $2,000\n",
       "Big_Coal | 1         | HUNTINGTON BEACH 5   | 150         | 14.44                 | 4.5                    | 65                  | 1.5                 | 66.5                     | 0.77              | $2,000\n",
       "Big_Coal | 1         | REDONDO 5&6          | 350         | 8.99                  | 4.5                    | 40.44               | 1.5                 | 41.94                    | 0.48              | $3,000\n",
       "Big_Coal | 1         | REDONDO 7&8          | 950         | 8.99                  | 4.5                    | 40.44               | 1.5                 | 41.94                    | 0.48              | $5,000"
      ]
     },
     "execution_count": 32,
     "metadata": {},
     "output_type": "execute_result"
    }
   ],
   "source": [
    "# if you sort both tables by PORTFOLIO and Group respectively, you can see that the columns line up\n",
    "ESG = Table.read_table('ESGPorfolios_.csv').sort(\"Group\")\n",
    "ESG.where('Group', 'Big_Coal')"
   ]
  },
  {
   "cell_type": "code",
   "execution_count": 33,
   "metadata": {},
   "outputs": [],
   "source": [
    "def pair_cap_to_price(table1, table2, price_number):\n",
    "    res = []\n",
    "    for i in range(0, table1.num_rows):\n",
    "        res.append((table1.column(\"Capacity_MW\")[i], table2.column(\"PRICE\" + str(price_number))[i]))\n",
    "    return res\n",
    "\n",
    "def find_x_pos(widths):\n",
    "    cumulative_widths = [0]\n",
    "    cumulative_widths.extend(np.cumsum(widths))\n",
    "    half_widths = [i/2 for i in widths]\n",
    "    x_pos = []\n",
    "    for i in range(0, len(half_widths)):\n",
    "        x_pos.append(half_widths[i] + cumulative_widths[i])\n",
    "    return x_pos"
   ]
  },
  {
   "cell_type": "code",
   "execution_count": 34,
   "metadata": {},
   "outputs": [
    {
     "data": {
      "text/plain": [
       "array([1900,  250,  300,  150,  350,  950])"
      ]
     },
     "execution_count": 34,
     "metadata": {},
     "output_type": "execute_result"
    }
   ],
   "source": [
    "capacities = ESG.where(\"Group\",\"Big_Coal\").column('Capacity_MW')\n",
    "capacities"
   ]
  },
  {
   "cell_type": "code",
   "execution_count": 35,
   "metadata": {},
   "outputs": [
    {
     "data": {
      "text/plain": [
       "[950.0, 2025.0, 2300.0, 2525.0, 2775.0, 3425.0]"
      ]
     },
     "execution_count": 35,
     "metadata": {},
     "output_type": "execute_result"
    }
   ],
   "source": [
    "new_x_coal = find_x_pos(capacities)\n",
    "new_x_coal"
   ]
  },
  {
   "cell_type": "code",
   "execution_count": 36,
   "metadata": {},
   "outputs": [],
   "source": [
    "height_coal = prices.where('PORTFOLIO', 'Big_Coal').column('PRICE1')\n",
    "height_coal = sorted(height_coal)"
   ]
  },
  {
   "cell_type": "code",
   "execution_count": 37,
   "metadata": {},
   "outputs": [],
   "source": [
    "pairs = list(zip(new_x_coal, height_coal, capacities))\n",
    "sorted_pairs = sorted(pairs, key=lambda x: x[0])"
   ]
  },
  {
   "cell_type": "code",
   "execution_count": 38,
   "metadata": {},
   "outputs": [
    {
     "data": {
      "text/plain": [
       "(950.0, 40.5, 1900)"
      ]
     },
     "execution_count": 38,
     "metadata": {},
     "output_type": "execute_result"
    }
   ],
   "source": [
    "sorted_pairs[0]"
   ]
  },
  {
   "cell_type": "code",
   "execution_count": 39,
   "metadata": {},
   "outputs": [],
   "source": [
    "x_val = [x[0] for x in sorted_pairs]\n",
    "y_val = [x[1] for x in sorted_pairs]\n",
    "capacities = [x[2] for x in sorted_pairs]"
   ]
  },
  {
   "cell_type": "code",
   "execution_count": 40,
   "metadata": {},
   "outputs": [
    {
     "data": {
      "text/plain": [
       "(2775.0, 242.0, 350)"
      ]
     },
     "execution_count": 40,
     "metadata": {},
     "output_type": "execute_result"
    }
   ],
   "source": [
    "sorted_pairs[4]"
   ]
  },
  {
   "cell_type": "code",
   "execution_count": 41,
   "metadata": {},
   "outputs": [
    {
     "data": {
      "text/plain": [
       "[40.5, 42.3, 67.0, 75.0, 242.0, 346.5]"
      ]
     },
     "execution_count": 41,
     "metadata": {},
     "output_type": "execute_result"
    }
   ],
   "source": [
    "y_val"
   ]
  },
  {
   "cell_type": "code",
   "execution_count": 42,
   "metadata": {},
   "outputs": [
    {
     "data": {
      "image/png": "[encoded data removed]",
      "text/plain": [
       "<Figure size 432x288 with 1 Axes>"
      ]
     },
     "metadata": {
      "needs_background": "light"
     },
     "output_type": "display_data"
    }
   ],
   "source": [
    "plt.bar(x_val, y_val, width=capacities)\n",
    "plt.title('Plant Capacity compared to Price')\n",
    "plt.xlabel('Capacity_MW')\n",
    "plt.ylabel('Price 1')\n",
    "plt.show()"
   ]
  },
  {
   "cell_type": "code",
   "execution_count": null,
   "metadata": {},
   "outputs": [],
   "source": []
  }
 ],
 "metadata": {
  "kernelspec": {
   "display_name": "Python 3",
   "language": "python",
   "name": "python3"
  },
  "language_info": {
   "codemirror_mode": {
    "name": "ipython",
    "version": 3
   },
   "file_extension": ".py",
   "mimetype": "text/x-python",
   "name": "python",
   "nbconvert_exporter": "python",
   "pygments_lexer": "ipython3",
   "version": "3.7.0"
  }
 },
 "nbformat": 4,
 "nbformat_minor": 2
}
