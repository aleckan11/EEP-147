{
 "cells": [
  {
   "cell_type": "markdown",
   "metadata": {},
   "source": [
    " # <font color = #254117>[EEP 147]: ESG Analysis</font>"
   ]
  },
  {
   "cell_type": "markdown",
   "metadata": {},
   "source": [
    "<div style=\"width:image width px; font-size:80%; text-align:center;\"><img src=\"big_creek.jpg\" alt=\"alternate text\" width=\"500\" height=\"height\" style=\"padding-bottom:0.5em;\" />Big Creek Hydroelectric Project - Southern California Edison</div>"
   ]
  },
  {
   "cell_type": "markdown",
   "metadata": {},
   "source": [
    "This notebook expands upon the concepts used in the tutorial notebook and can be utilized for analysis of rounds in the Electricity Strategy Game. Any of the following code can be changed to create new or different visualizations, but as is, running through the cells will allow you to visualize and calculate the profit that your plants have generated in a given hour.\n",
    "\n",
    "**Note:** This notebook does not currently take into account any loans, interest payments, or carbon credits, and is simply an evaluation of the individual hour you are examining."
   ]
  },
  {
   "cell_type": "markdown",
   "metadata": {},
   "source": [
    "First on our agenda is to import **<font color = ##008700>dependencies</font>** -- packages in Python that add to the basic functions in Python -- same as before."
   ]
  },
  {
   "cell_type": "code",
   "execution_count": 2,
   "metadata": {
    "collapsed": true
   },
   "outputs": [],
   "source": [
    "from datascience import *\n",
    "import matplotlib.pyplot as plt\n",
    "%matplotlib inline\n",
    "import numpy as np\n",
    "import pandas as pd\n",
    "plt.style.use('fivethirtyeight')"
   ]
  },
  {
   "cell_type": "markdown",
   "metadata": {},
   "source": [
    "Next we import our tables, one for each discussion section, and one with individualized information about our plants."
   ]
  },
  {
   "cell_type": "code",
   "execution_count": 3,
   "metadata": {},
   "outputs": [],
   "source": [
    "bids_1 = Table.read_table('S1_bids_0.csv').sort('PORTFOLIO')\n",
    "bids_2 = Table.read_table('S2_bids_0.csv').sort('PORTFOLIO')\n",
    "bids_3 = Table.read_table('S3_bids_0.csv').sort('PORTFOLIO')\n",
    "bids_4 = Table.read_table('S4_bids_0.csv').sort('PORTFOLIO')\n",
    "ESG = Table.read_table('ESGPorfolios_forcsv.csv')"
   ]
  },
  {
   "cell_type": "markdown",
   "metadata": {},
   "source": [
    "Next, let's select your portfolio. In the cell below, assign **section** to the section number that corresponds to your own according to the following table.\n",
    "\n",
    "| Number | Section Time  |\n",
    "|---------|---------------|\n",
    "| 1 | Wednesday 8am |\n",
    "| 2 | Friday 2pm |\n",
    "| 3 | Wednesday 9am |\n",
    "| 4 | Friday 4pm |\n",
    "\n",
    "Assign **YOUR_PORTFOLIO** to the name of your portfolio from the following choices:\n",
    "\n",
    "**'Bay Views',\n",
    " 'Beachfront',\n",
    " 'Big Coal',\n",
    " 'Big Gas',\n",
    " 'East Bay',\n",
    " 'Fossil Light',\n",
    " 'Old Timers'**\n",
    " \n",
    "The variable, **demand**, should be set to the quantity demanded by the market for the given hour, and finally set **hour** to the hour (1-4) that you want to be examining. You can change these at any time, just be sure to rerun all cells after you make changes here."
   ]
  },
  {
   "cell_type": "code",
   "execution_count": 4,
   "metadata": {
    "collapsed": true
   },
   "outputs": [],
   "source": [
    "section = 1\n",
    "YOUR_PORTFOLIO = \"Bay Views\"\n",
    "demand = 16234\n",
    "hour = 2"
   ]
  },
  {
   "cell_type": "markdown",
   "metadata": {},
   "source": [
    "The table below should now display the names and bids that your team and others in your discussion section assigned for each individual plant."
   ]
  },
  {
   "cell_type": "code",
   "execution_count": 5,
   "metadata": {
    "scrolled": false
   },
   "outputs": [
    {
     "data": {
      "text/html": [
       "<table border=\"1\" class=\"dataframe\">\n",
       "    <thead>\n",
       "        <tr>\n",
       "            <th>TEAM</th> <th>TEAM_ID</th> <th>PORTFOLIO</th> <th>PORTFOLIO_ID</th> <th>PLANT</th> <th>PLANT_ID</th> <th>PERIOD</th> <th>PRICE1</th> <th>PRICE2</th> <th>PRICE3</th> <th>PRICE4</th>\n",
       "        </tr>\n",
       "    </thead>\n",
       "    <tbody>\n",
       "        <tr>\n",
       "            <td>Coase   </td> <td>3      </td> <td>Bay_Views </td> <td>3           </td> <td>MORRO_BAY_1-2       </td> <td>31      </td> <td>1     </td> <td>41    </td> <td>43.82 </td> <td>58.28 </td> <td>43    </td>\n",
       "        </tr>\n",
       "    </tbody>\n",
       "        <tr>\n",
       "            <td>Coase   </td> <td>3      </td> <td>Bay_Views </td> <td>3           </td> <td>MORRO_BAY_3-4       </td> <td>32      </td> <td>1     </td> <td>41    </td> <td>43.82 </td> <td>58.28 </td> <td>43    </td>\n",
       "        </tr>\n",
       "    </tbody>\n",
       "        <tr>\n",
       "            <td>Coase   </td> <td>3      </td> <td>Bay_Views </td> <td>3           </td> <td>MOSS_LANDING_6      </td> <td>33      </td> <td>1     </td> <td>41    </td> <td>42.39 </td> <td>52.49 </td> <td>41.67 </td>\n",
       "        </tr>\n",
       "    </tbody>\n",
       "        <tr>\n",
       "            <td>Coase   </td> <td>3      </td> <td>Bay_Views </td> <td>3           </td> <td>MOSS_LANDING_7      </td> <td>34      </td> <td>1     </td> <td>41    </td> <td>42.39 </td> <td>52.49 </td> <td>41.67 </td>\n",
       "        </tr>\n",
       "    </tbody>\n",
       "        <tr>\n",
       "            <td>Coase   </td> <td>3      </td> <td>Bay_Views </td> <td>3           </td> <td>OAKLAND             </td> <td>35      </td> <td>1     </td> <td>61.17 </td> <td>61.17 </td> <td>62.88 </td> <td>61.17 </td>\n",
       "        </tr>\n",
       "    </tbody>\n",
       "        <tr>\n",
       "            <td>Debreu  </td> <td>4      </td> <td>Beachfront</td> <td>4           </td> <td>COOLWATER           </td> <td>41      </td> <td>1     </td> <td>43    </td> <td>42.39 </td> <td>50.25 </td> <td>43    </td>\n",
       "        </tr>\n",
       "    </tbody>\n",
       "        <tr>\n",
       "            <td>Debreu  </td> <td>4      </td> <td>Beachfront</td> <td>4           </td> <td>ETIWANDA_1-4        </td> <td>42      </td> <td>1     </td> <td>43    </td> <td>42.67 </td> <td>56.25 </td> <td>43    </td>\n",
       "        </tr>\n",
       "    </tbody>\n",
       "        <tr>\n",
       "            <td>Debreu  </td> <td>4      </td> <td>Beachfront</td> <td>4           </td> <td>ETIWANDA_5          </td> <td>43      </td> <td>1     </td> <td>62.89 </td> <td>62.89 </td> <td>62.89 </td> <td>62.89 </td>\n",
       "        </tr>\n",
       "    </tbody>\n",
       "        <tr>\n",
       "            <td>Debreu  </td> <td>4      </td> <td>Beachfront</td> <td>4           </td> <td>ELLWOOD             </td> <td>44      </td> <td>1     </td> <td>75.61 </td> <td>75.61 </td> <td>75.61 </td> <td>75.61 </td>\n",
       "        </tr>\n",
       "    </tbody>\n",
       "        <tr>\n",
       "            <td>Debreu  </td> <td>4      </td> <td>Beachfront</td> <td>4           </td> <td>MANDALAY_1-2        </td> <td>45      </td> <td>1     </td> <td>40.94 </td> <td>42.39 </td> <td>58.25 </td> <td>41.67 </td>\n",
       "        </tr>\n",
       "    </tbody>\n",
       "        <tr>\n",
       "            <td>Debreu  </td> <td>4      </td> <td>Beachfront</td> <td>4           </td> <td>MANDALAY_3          </td> <td>46      </td> <td>1     </td> <td>52.06 </td> <td>52.06 </td> <td>58.25 </td> <td>52.06 </td>\n",
       "        </tr>\n",
       "    </tbody>\n",
       "        <tr>\n",
       "            <td>Debreu  </td> <td>4      </td> <td>Beachfront</td> <td>4           </td> <td>ORMOND_BEACH_1      </td> <td>47      </td> <td>1     </td> <td>40.94 </td> <td>42.39 </td> <td>58.25 </td> <td>41.67 </td>\n",
       "        </tr>\n",
       "    </tbody>\n",
       "        <tr>\n",
       "            <td>Debreu  </td> <td>4      </td> <td>Beachfront</td> <td>4           </td> <td>ORMOND_BEACH_2      </td> <td>48      </td> <td>1     </td> <td>40.94 </td> <td>42.39 </td> <td>58.25 </td> <td>41.67 </td>\n",
       "        </tr>\n",
       "    </tbody>\n",
       "        <tr>\n",
       "            <td>Arrow   </td> <td>1      </td> <td>Big_Coal  </td> <td>1           </td> <td>Four Corners        </td> <td>11      </td> <td>1     </td> <td>45    </td> <td>47    </td> <td>40    </td> <td>40    </td>\n",
       "        </tr>\n",
       "    </tbody>\n",
       "        <tr>\n",
       "            <td>Arrow   </td> <td>1      </td> <td>Big_Coal  </td> <td>1           </td> <td>ALAMITOS_7          </td> <td>12      </td> <td>1     </td> <td>73.72 </td> <td>73.72 </td> <td>73.72 </td> <td>73.72 </td>\n",
       "        </tr>\n",
       "    </tbody>\n",
       "        <tr>\n",
       "            <td>Arrow   </td> <td>1      </td> <td>Big_Coal  </td> <td>1           </td> <td>HUNTINGTON_BEACH_1-2</td> <td>13      </td> <td>1     </td> <td>50    </td> <td>52    </td> <td>42    </td> <td>43    </td>\n",
       "        </tr>\n",
       "    </tbody>\n",
       "        <tr>\n",
       "            <td>Arrow   </td> <td>1      </td> <td>Big_Coal  </td> <td>1           </td> <td>HUNTINGTON_BEACH_5  </td> <td>14      </td> <td>1     </td> <td>66.5  </td> <td>66.5  </td> <td>66.5  </td> <td>66.5  </td>\n",
       "        </tr>\n",
       "    </tbody>\n",
       "        <tr>\n",
       "            <td>Arrow   </td> <td>1      </td> <td>Big_Coal  </td> <td>1           </td> <td>REDONDO_5-6         </td> <td>15      </td> <td>1     </td> <td>51    </td> <td>53    </td> <td>44    </td> <td>43    </td>\n",
       "        </tr>\n",
       "    </tbody>\n",
       "        <tr>\n",
       "            <td>Arrow   </td> <td>1      </td> <td>Big_Coal  </td> <td>1           </td> <td>REDONDO_7-8         </td> <td>16      </td> <td>1     </td> <td>48    </td> <td>50    </td> <td>44    </td> <td>43    </td>\n",
       "        </tr>\n",
       "    </tbody>\n",
       "        <tr>\n",
       "            <td>Becker  </td> <td>2      </td> <td>Big_Gas   </td> <td>2           </td> <td>EL_SEGUNDO_1-2      </td> <td>21      </td> <td>1     </td> <td>44.83 </td> <td>44.83 </td> <td>56    </td> <td>44.83 </td>\n",
       "        </tr>\n",
       "    </tbody>\n",
       "        <tr>\n",
       "            <td>Becker  </td> <td>2      </td> <td>Big_Gas   </td> <td>2           </td> <td>EL_SEGUNDO_3-4      </td> <td>22      </td> <td>1     </td> <td>41.22 </td> <td>42.2  </td> <td>56    </td> <td>41.67 </td>\n",
       "        </tr>\n",
       "    </tbody>\n",
       "        <tr>\n",
       "            <td>Becker  </td> <td>2      </td> <td>Big_Gas   </td> <td>2           </td> <td>LONG_BEACH          </td> <td>23      </td> <td>1     </td> <td>52.5  </td> <td>52.5  </td> <td>56    </td> <td>52.5  </td>\n",
       "        </tr>\n",
       "    </tbody>\n",
       "        <tr>\n",
       "            <td>Becker  </td> <td>2      </td> <td>Big_Gas   </td> <td>2           </td> <td>NORTH_ISLAND        </td> <td>24      </td> <td>1     </td> <td>65.5  </td> <td>65.5  </td> <td>65.5  </td> <td>65.5  </td>\n",
       "        </tr>\n",
       "    </tbody>\n",
       "        <tr>\n",
       "            <td>Becker  </td> <td>2      </td> <td>Big_Gas   </td> <td>2           </td> <td>ENCINA              </td> <td>25      </td> <td>1     </td> <td>41.67 </td> <td>42.2  </td> <td>58    </td> <td>41.67 </td>\n",
       "        </tr>\n",
       "    </tbody>\n",
       "        <tr>\n",
       "            <td>Becker  </td> <td>2      </td> <td>Big_Gas   </td> <td>2           </td> <td>KEARNY              </td> <td>26      </td> <td>1     </td> <td>90.06 </td> <td>90.06 </td> <td>90.06 </td> <td>90.06 </td>\n",
       "        </tr>\n",
       "    </tbody>\n",
       "        <tr>\n",
       "            <td>Becker  </td> <td>2      </td> <td>Big_Gas   </td> <td>2           </td> <td>SOUTH_BAY           </td> <td>27      </td> <td>1     </td> <td>43.83 </td> <td>43.83 </td> <td>56    </td> <td>43.83 </td>\n",
       "        </tr>\n",
       "    </tbody>\n",
       "        <tr>\n",
       "            <td>Friedman</td> <td>5      </td> <td>East_Bay  </td> <td>5           </td> <td>PITTSBURGH_1-4      </td> <td>51      </td> <td>1     </td> <td>50    </td> <td>42.38 </td> <td>58.27 </td> <td>43    </td>\n",
       "        </tr>\n",
       "    </tbody>\n",
       "        <tr>\n",
       "            <td>Friedman</td> <td>5      </td> <td>East_Bay  </td> <td>5           </td> <td>PITTSBURGH_5-6      </td> <td>52      </td> <td>1     </td> <td>40    </td> <td>42.38 </td> <td>58.27 </td> <td>41    </td>\n",
       "        </tr>\n",
       "    </tbody>\n",
       "        <tr>\n",
       "            <td>Friedman</td> <td>5      </td> <td>East_Bay  </td> <td>5           </td> <td>PITTSBURG_7         </td> <td>53      </td> <td>1     </td> <td>59.73 </td> <td>59.73 </td> <td>59.73 </td> <td>59.73 </td>\n",
       "        </tr>\n",
       "    </tbody>\n",
       "        <tr>\n",
       "            <td>Friedman</td> <td>5      </td> <td>East_Bay  </td> <td>5           </td> <td>CONTRA_COSTA_4-5    </td> <td>54      </td> <td>1     </td> <td>58.29 </td> <td>58.29 </td> <td>58.27 </td> <td>58.29 </td>\n",
       "        </tr>\n",
       "    </tbody>\n",
       "        <tr>\n",
       "            <td>Friedman</td> <td>5      </td> <td>East_Bay  </td> <td>5           </td> <td>CONTRA_COSTA_6-7    </td> <td>55      </td> <td>1     </td> <td>50    </td> <td>42.38 </td> <td>58.27 </td> <td>43    </td>\n",
       "        </tr>\n",
       "    </tbody>\n",
       "        <tr>\n",
       "            <td>Friedman</td> <td>5      </td> <td>East_Bay  </td> <td>5           </td> <td>POTRERO_HILL        </td> <td>56      </td> <td>1     </td> <td>69.84 </td> <td>69.84 </td> <td>80    </td> <td>69.84 </td>\n",
       "        </tr>\n",
       "    </tbody>\n",
       "        <tr>\n",
       "            <td>Krugman </td> <td>7      </td> <td>Low_Fossil</td> <td>7           </td> <td>HUMBOLDT            </td> <td>71      </td> <td>1     </td> <td>38    </td> <td>47.44 </td> <td>47.44 </td> <td>38    </td>\n",
       "        </tr>\n",
       "    </tbody>\n",
       "        <tr>\n",
       "            <td>Krugman </td> <td>7      </td> <td>Low_Fossil</td> <td>7           </td> <td>HELMS               </td> <td>72      </td> <td>1     </td> <td>37    </td> <td>0.5   </td> <td>0.5   </td> <td>37    </td>\n",
       "        </tr>\n",
       "    </tbody>\n",
       "        <tr>\n",
       "            <td>Krugman </td> <td>7      </td> <td>Low_Fossil</td> <td>7           </td> <td>HUNTERS_POINT_1-2   </td> <td>73      </td> <td>1     </td> <td>38.5  </td> <td>49.17 </td> <td>49.17 </td> <td>38.5  </td>\n",
       "        </tr>\n",
       "    </tbody>\n",
       "        <tr>\n",
       "            <td>Krugman </td> <td>7      </td> <td>Low_Fossil</td> <td>7           </td> <td>HUNTERS_POINT_4     </td> <td>74      </td> <td>1     </td> <td>40    </td> <td>75.89 </td> <td>75.89 </td> <td>40    </td>\n",
       "        </tr>\n",
       "    </tbody>\n",
       "        <tr>\n",
       "            <td>Krugman </td> <td>7      </td> <td>Low_Fossil</td> <td>7           </td> <td>DIABLO_CANYON_1     </td> <td>75      </td> <td>1     </td> <td>37.5  </td> <td>11.5  </td> <td>11.5  </td> <td>37.5  </td>\n",
       "        </tr>\n",
       "    </tbody>\n",
       "        <tr>\n",
       "            <td>Heckman </td> <td>6      </td> <td>Old_Timers</td> <td>6           </td> <td>BIG_CREEK           </td> <td>61      </td> <td>1     </td> <td>0.49  </td> <td>0.49  </td> <td>0.49  </td> <td>0.49  </td>\n",
       "        </tr>\n",
       "    </tbody>\n",
       "        <tr>\n",
       "            <td>Heckman </td> <td>6      </td> <td>Old_Timers</td> <td>6           </td> <td>MOHAVE_1            </td> <td>62      </td> <td>1     </td> <td>36.49 </td> <td>36.49 </td> <td>36.49 </td> <td>36.49 </td>\n",
       "        </tr>\n",
       "    </tbody>\n",
       "        <tr>\n",
       "            <td>Heckman </td> <td>6      </td> <td>Old_Timers</td> <td>6           </td> <td>MOHAVE_2            </td> <td>63      </td> <td>1     </td> <td>36.49 </td> <td>36.49 </td> <td>36.49 </td> <td>36.49 </td>\n",
       "        </tr>\n",
       "    </tbody>\n",
       "        <tr>\n",
       "            <td>Heckman </td> <td>6      </td> <td>Old_Timers</td> <td>6           </td> <td>HIGHGROVE           </td> <td>64      </td> <td>1     </td> <td>52.05 </td> <td>52.05 </td> <td>52.05 </td> <td>52.05 </td>\n",
       "        </tr>\n",
       "    </tbody>\n",
       "        <tr>\n",
       "            <td>Heckman </td> <td>6      </td> <td>Old_Timers</td> <td>6           </td> <td>SAN_BERNARDINO      </td> <td>65      </td> <td>1     </td> <td>58.27 </td> <td>58.27 </td> <td>58.27 </td> <td>58.27 </td>\n",
       "        </tr>\n",
       "    </tbody>\n",
       "</table>"
      ],
      "text/plain": [
       "<IPython.core.display.HTML object>"
      ]
     },
     "metadata": {},
     "output_type": "display_data"
    }
   ],
   "source": [
    "bids = globals()['bids_' + str(section)]\n",
    "bids.show()"
   ]
  },
  {
   "cell_type": "markdown",
   "metadata": {},
   "source": [
    "Recall the table ESG, which we used in the introductory notebook. The first few rows are shown below."
   ]
  },
  {
   "cell_type": "code",
   "execution_count": 6,
   "metadata": {},
   "outputs": [
    {
     "data": {
      "text/html": [
       "<table border=\"1\" class=\"dataframe\">\n",
       "    <thead>\n",
       "        <tr>\n",
       "            <th>Group</th> <th>Group_num</th> <th>UNIT NAME</th> <th>Capacity_MW</th> <th>Heat_Rate_MMBTUperMWh</th> <th>Fuel_Price_USDperMMBTU</th> <th>Fuel_Cost_USDperMWH</th> <th>Var_OandM_USDperMWH</th> <th>Total_Var_Cost_USDperMWH</th> <th>Carbon_tonsperMWH</th> <th>FixedCst_OandM_perDay</th> <th>Plant_ID</th>\n",
       "        </tr>\n",
       "    </thead>\n",
       "    <tbody>\n",
       "        <tr>\n",
       "            <td>Big Coal</td> <td>1        </td> <td>FOUR CORNERS        </td> <td>1900       </td> <td>11.67                </td> <td>3                     </td> <td>35                 </td> <td>1.5                </td> <td>36.5                    </td> <td>1.1              </td> <td>$8,000               </td> <td>11      </td>\n",
       "        </tr>\n",
       "    </tbody>\n",
       "        <tr>\n",
       "            <td>Big Coal</td> <td>1        </td> <td>ALAMITOS 7          </td> <td>250        </td> <td>16.05                </td> <td>4.5                   </td> <td>72.22              </td> <td>1.5                </td> <td>73.72                   </td> <td>0.85             </td> <td>$0                   </td> <td>12      </td>\n",
       "        </tr>\n",
       "    </tbody>\n",
       "        <tr>\n",
       "            <td>Big Coal</td> <td>1        </td> <td>HUNTINGTON BEACH 1&2</td> <td>300        </td> <td>8.67                 </td> <td>4.5                   </td> <td>39                 </td> <td>1.5                </td> <td>40.5                    </td> <td>0.46             </td> <td>$2,000               </td> <td>13      </td>\n",
       "        </tr>\n",
       "    </tbody>\n",
       "        <tr>\n",
       "            <td>Big Coal</td> <td>1        </td> <td>HUNTINGTON BEACH 5  </td> <td>150        </td> <td>14.44                </td> <td>4.5                   </td> <td>65                 </td> <td>1.5                </td> <td>66.5                    </td> <td>0.77             </td> <td>$2,000               </td> <td>14      </td>\n",
       "        </tr>\n",
       "    </tbody>\n",
       "        <tr>\n",
       "            <td>Big Coal</td> <td>1        </td> <td>REDONDO 5&6         </td> <td>350        </td> <td>8.99                 </td> <td>4.5                   </td> <td>40.44              </td> <td>1.5                </td> <td>41.94                   </td> <td>0.48             </td> <td>$3,000               </td> <td>15      </td>\n",
       "        </tr>\n",
       "    </tbody>\n",
       "</table>\n",
       "<p>... (37 rows omitted)</p>"
      ],
      "text/plain": [
       "<IPython.core.display.HTML object>"
      ]
     },
     "metadata": {},
     "output_type": "display_data"
    }
   ],
   "source": [
    "ESG.show(5)"
   ]
  },
  {
   "cell_type": "markdown",
   "metadata": {},
   "source": [
    "We will need both of these tables to generate an analysis of how our round went, so in the following cell we will join the tables based on the column **Plant_ID**:"
   ]
  },
  {
   "cell_type": "code",
   "execution_count": 7,
   "metadata": {
    "scrolled": true
   },
   "outputs": [
    {
     "data": {
      "text/html": [
       "<table border=\"1\" class=\"dataframe\">\n",
       "    <thead>\n",
       "        <tr>\n",
       "            <th>PLANT_ID</th> <th>TEAM</th> <th>TEAM_ID</th> <th>PORTFOLIO</th> <th>PORTFOLIO_ID</th> <th>PLANT</th> <th>PERIOD</th> <th>PRICE1</th> <th>PRICE2</th> <th>PRICE3</th> <th>PRICE4</th> <th>Group</th> <th>Group_num</th> <th>UNIT NAME</th> <th>Capacity_MW</th> <th>Heat_Rate_MMBTUperMWh</th> <th>Fuel_Price_USDperMMBTU</th> <th>Fuel_Cost_USDperMWH</th> <th>Var_OandM_USDperMWH</th> <th>Total_Var_Cost_USDperMWH</th> <th>Carbon_tonsperMWH</th> <th>FixedCst_OandM_perDay</th>\n",
       "        </tr>\n",
       "    </thead>\n",
       "    <tbody>\n",
       "        <tr>\n",
       "            <td>61      </td> <td>Heckman</td> <td>6      </td> <td>Old_Timers</td> <td>6           </td> <td>BIG_CREEK      </td> <td>1     </td> <td>0.49  </td> <td>0.49  </td> <td>0.49  </td> <td>0.49  </td> <td>Old Timers  </td> <td>7        </td> <td>BIG CREEK      </td> <td>1000       </td> <td>nan                  </td> <td>0                     </td> <td>0                  </td> <td>0                  </td> <td>0                       </td> <td>0                </td> <td>$15,000              </td>\n",
       "        </tr>\n",
       "    </tbody>\n",
       "        <tr>\n",
       "            <td>72      </td> <td>Krugman</td> <td>7      </td> <td>Low_Fossil</td> <td>7           </td> <td>HELMS          </td> <td>1     </td> <td>37    </td> <td>0.5   </td> <td>0.5   </td> <td>37    </td> <td>Fossil Light</td> <td>8        </td> <td>HELMS          </td> <td>800        </td> <td>nan                  </td> <td>0                     </td> <td>0                  </td> <td>0.5                </td> <td>0.5                     </td> <td>0                </td> <td>$15,000              </td>\n",
       "        </tr>\n",
       "    </tbody>\n",
       "        <tr>\n",
       "            <td>75      </td> <td>Krugman</td> <td>7      </td> <td>Low_Fossil</td> <td>7           </td> <td>DIABLO_CANYON_1</td> <td>1     </td> <td>37.5  </td> <td>11.5  </td> <td>11.5  </td> <td>37.5  </td> <td>Fossil Light</td> <td>8        </td> <td>DIABLO CANYON 1</td> <td>1000       </td> <td>1                    </td> <td>7.5                   </td> <td>7.5                </td> <td>4                  </td> <td>11.5                    </td> <td>0                </td> <td>$20,000              </td>\n",
       "        </tr>\n",
       "    </tbody>\n",
       "        <tr>\n",
       "            <td>62      </td> <td>Heckman</td> <td>6      </td> <td>Old_Timers</td> <td>6           </td> <td>MOHAVE_1       </td> <td>1     </td> <td>36.49 </td> <td>36.49 </td> <td>36.49 </td> <td>36.49 </td> <td>Old Timers  </td> <td>7        </td> <td>MOHAVE 1       </td> <td>750        </td> <td>10                   </td> <td>3                     </td> <td>30                 </td> <td>4.5                </td> <td>34.5                    </td> <td>0.94             </td> <td>$15,000              </td>\n",
       "        </tr>\n",
       "    </tbody>\n",
       "        <tr>\n",
       "            <td>63      </td> <td>Heckman</td> <td>6      </td> <td>Old_Timers</td> <td>6           </td> <td>MOHAVE_2       </td> <td>1     </td> <td>36.49 </td> <td>36.49 </td> <td>36.49 </td> <td>36.49 </td> <td>Old Timers  </td> <td>7        </td> <td>MOHAVE 2       </td> <td>750        </td> <td>10                   </td> <td>3                     </td> <td>30                 </td> <td>4.5                </td> <td>34.5                    </td> <td>0.94             </td> <td>$15,000              </td>\n",
       "        </tr>\n",
       "    </tbody>\n",
       "</table>\n",
       "<p>... (37 rows omitted)</p>"
      ],
      "text/plain": [
       "<IPython.core.display.HTML object>"
      ]
     },
     "metadata": {},
     "output_type": "display_data"
    }
   ],
   "source": [
    "sorted_joined_table = bids.join(\"PLANT_ID\", ESG, \"Plant_ID\").sort(\"PRICE\" + str(hour), descending = False)\n",
    "sorted_joined_table.show(5)"
   ]
  },
  {
   "cell_type": "markdown",
   "metadata": {},
   "source": [
    "Great! Now we have a table that has our bids for this round as well as information about the capacity of our plants as well as their marginal cost of production. Now we can continue and make plots similar to those in the introductory notebook, that will allow us to examine how we performed in this given hour. Run the following series of cells to generate a legend as well as a plot of plant capacity versus plant bid price, with bids ordered from least to greatest."
   ]
  },
  {
   "cell_type": "code",
   "execution_count": 8,
   "metadata": {
    "collapsed": true
   },
   "outputs": [],
   "source": [
    "def find_x_pos(widths):\n",
    "    cumulative_widths = [0]\n",
    "    cumulative_widths.extend(np.cumsum(widths))\n",
    "    half_widths = [i/2 for i in widths]\n",
    "    x_pos = []\n",
    "    for i in range(0, len(half_widths)):\n",
    "        x_pos.append(half_widths[i] + cumulative_widths[i])\n",
    "    return x_pos\n"
   ]
  },
  {
   "cell_type": "code",
   "execution_count": 9,
   "metadata": {
    "collapsed": true
   },
   "outputs": [],
   "source": [
    "width = sorted_joined_table.column(\"Capacity_MW\")\n",
    "width\n",
    "height = sorted_joined_table.column('PRICE' + str(hour))\n",
    "height\n",
    "new_x = find_x_pos(width)"
   ]
  },
  {
   "cell_type": "code",
   "execution_count": 10,
   "metadata": {
    "collapsed": true
   },
   "outputs": [],
   "source": [
    "energy_colors_dict = {}\n",
    "count = 0\n",
    "colors = ['#EC5F67', '#F29056', '#F9C863', '#99C794', '#5FB3B3', '#6699CC', '#C594C5']\n",
    "for i in set(sorted_joined_table['Group']):\n",
    "    energy_colors_dict[i] = colors[count]\n",
    "    count += 1"
   ]
  },
  {
   "cell_type": "code",
   "execution_count": 11,
   "metadata": {
    "collapsed": true
   },
   "outputs": [],
   "source": [
    "colors_mapped = list(pd.Series(sorted_joined_table['Group']).map(energy_colors_dict))\n",
    "sorted_joined_table = sorted_joined_table.with_column('Color', colors_mapped)"
   ]
  },
  {
   "cell_type": "code",
   "execution_count": 12,
   "metadata": {},
   "outputs": [
    {
     "data": {
      "image/png": "[encoded data removed]",
      "text/plain": [
       "<Figure size 360x72 with 1 Axes>"
      ]
     },
     "metadata": {},
     "output_type": "display_data"
    }
   ],
   "source": [
    "plt.figure(figsize=(5,1))\n",
    "plt.bar(energy_colors_dict.keys(), 1, color = energy_colors_dict.values())\n",
    "plt.xticks(rotation=60)\n",
    "plt.title('Legend')\n",
    "plt.show()"
   ]
  },
  {
   "cell_type": "code",
   "execution_count": 13,
   "metadata": {},
   "outputs": [
    {
     "data": {
      "image/png": "[encoded data removed]",
      "text/plain": [
       "<Figure size 648x432 with 1 Axes>"
      ]
     },
     "metadata": {},
     "output_type": "display_data"
    }
   ],
   "source": [
    "# Make the plot\n",
    "plt.figure(figsize=(9,6))\n",
    "plt.bar(new_x, height, width=width, color=sorted_joined_table['Color'], edgecolor = \"black\")\n",
    "#plt.xticks(y_pos, bars)\n",
    "# Add title and axis names\n",
    "plt.title('All Energy Sources')\n",
    "plt.xlabel('Capacity_MW')\n",
    "plt.ylabel('Variable Cost')\n",
    "\n",
    "plt.show()"
   ]
  },
  {
   "cell_type": "markdown",
   "metadata": {},
   "source": [
    "Now we can examine the plot above to determine our market price using the capacity demanded that we entered at the top of this notebook."
   ]
  },
  {
   "cell_type": "code",
   "execution_count": 14,
   "metadata": {
    "collapsed": true
   },
   "outputs": [],
   "source": [
    "def price_calc(demand, sorted_table):\n",
    "    price = 0\n",
    "    sum_cap = 0\n",
    "    for i in range(0,len(sorted_table['Capacity_MW'])):\n",
    "        if sum_cap + sorted_table['Capacity_MW'][i] > demand:\n",
    "            price = sorted_table['PRICE' + str(hour)][i]\n",
    "            break\n",
    "        else:\n",
    "            sum_cap += sorted_table['Capacity_MW'][i]\n",
    "            price = sorted_table['PRICE' + str(hour)][i]\n",
    "    return price"
   ]
  },
  {
   "cell_type": "code",
   "execution_count": 15,
   "metadata": {
    "collapsed": true
   },
   "outputs": [],
   "source": [
    "def price_line_plot(price):\n",
    "    plt.axhline(y=price, color='r', linewidth = 2)\n",
    "    print(\"Price: \" + str(price))"
   ]
  },
  {
   "cell_type": "code",
   "execution_count": 16,
   "metadata": {
    "collapsed": true
   },
   "outputs": [],
   "source": [
    "def demand_plot(demand):\n",
    "    plt.axvline(x=demand, color='r', linewidth = 2)\n",
    "    print(\"Capacity: \" + str(demand))"
   ]
  },
  {
   "cell_type": "code",
   "execution_count": 19,
   "metadata": {},
   "outputs": [
    {
     "ename": "ValueError",
     "evalue": "The column \"PRICE2\" is not in the table. The table contains these columns: Group, Group_num, UNIT NAME, Capacity_MW, Heat_Rate_MMBTUperMWh, Fuel_Price_USDperMMBTU, Fuel_Cost_USDperMWH, Var_OandM_USDperMWH, Total_Var_Cost_USDperMWH, Carbon_tonsperMWH, FixedCst_OandM_perDay, Plant_ID",
     "output_type": "error",
     "traceback": [
      "\u001b[0;31m---------------------------------------------------------------------------\u001b[0m",
      "\u001b[0;31mValueError\u001b[0m                                Traceback (most recent call last)",
      "\u001b[0;32m<ipython-input-19-9cf49999a23a>\u001b[0m in \u001b[0;36m<module>\u001b[0;34m()\u001b[0m\n\u001b[1;32m      1\u001b[0m \u001b[0;31m# Make the plot\u001b[0m\u001b[0;34m\u001b[0m\u001b[0;34m\u001b[0m\u001b[0m\n\u001b[0;32m----> 2\u001b[0;31m \u001b[0mprice_calc\u001b[0m\u001b[0;34m(\u001b[0m\u001b[0mdemand\u001b[0m\u001b[0;34m,\u001b[0m \u001b[0mESG\u001b[0m\u001b[0;34m)\u001b[0m\u001b[0;34m\u001b[0m\u001b[0m\n\u001b[0m\u001b[1;32m      3\u001b[0m \u001b[0mplt\u001b[0m\u001b[0;34m.\u001b[0m\u001b[0mfigure\u001b[0m\u001b[0;34m(\u001b[0m\u001b[0mfigsize\u001b[0m\u001b[0;34m=\u001b[0m\u001b[0;34m(\u001b[0m\u001b[0;36m9\u001b[0m\u001b[0;34m,\u001b[0m\u001b[0;36m6\u001b[0m\u001b[0;34m)\u001b[0m\u001b[0;34m)\u001b[0m\u001b[0;34m\u001b[0m\u001b[0m\n\u001b[1;32m      4\u001b[0m \u001b[0mplt\u001b[0m\u001b[0;34m.\u001b[0m\u001b[0mbar\u001b[0m\u001b[0;34m(\u001b[0m\u001b[0mnew_x\u001b[0m\u001b[0;34m,\u001b[0m \u001b[0mheight\u001b[0m\u001b[0;34m,\u001b[0m \u001b[0mwidth\u001b[0m\u001b[0;34m=\u001b[0m\u001b[0mwidth\u001b[0m\u001b[0;34m,\u001b[0m \u001b[0mcolor\u001b[0m\u001b[0;34m=\u001b[0m\u001b[0msorted_joined_table\u001b[0m\u001b[0;34m[\u001b[0m\u001b[0;34m'Color'\u001b[0m\u001b[0;34m]\u001b[0m\u001b[0;34m,\u001b[0m \u001b[0medgecolor\u001b[0m \u001b[0;34m=\u001b[0m \u001b[0;34m\"black\"\u001b[0m\u001b[0;34m)\u001b[0m\u001b[0;34m\u001b[0m\u001b[0m\n\u001b[1;32m      5\u001b[0m \u001b[0mplt\u001b[0m\u001b[0;34m.\u001b[0m\u001b[0mtitle\u001b[0m\u001b[0;34m(\u001b[0m\u001b[0;34m'All Energy Sources'\u001b[0m\u001b[0;34m)\u001b[0m\u001b[0;34m\u001b[0m\u001b[0m\n",
      "\u001b[0;32m<ipython-input-14-3084427a3ac7>\u001b[0m in \u001b[0;36mprice_calc\u001b[0;34m(demand, sorted_table)\u001b[0m\n\u001b[1;32m      8\u001b[0m         \u001b[0;32melse\u001b[0m\u001b[0;34m:\u001b[0m\u001b[0;34m\u001b[0m\u001b[0m\n\u001b[1;32m      9\u001b[0m             \u001b[0msum_cap\u001b[0m \u001b[0;34m+=\u001b[0m \u001b[0msorted_table\u001b[0m\u001b[0;34m[\u001b[0m\u001b[0;34m'Capacity_MW'\u001b[0m\u001b[0;34m]\u001b[0m\u001b[0;34m[\u001b[0m\u001b[0mi\u001b[0m\u001b[0;34m]\u001b[0m\u001b[0;34m\u001b[0m\u001b[0m\n\u001b[0;32m---> 10\u001b[0;31m             \u001b[0mprice\u001b[0m \u001b[0;34m=\u001b[0m \u001b[0msorted_table\u001b[0m\u001b[0;34m[\u001b[0m\u001b[0;34m'PRICE'\u001b[0m \u001b[0;34m+\u001b[0m \u001b[0mstr\u001b[0m\u001b[0;34m(\u001b[0m\u001b[0mhour\u001b[0m\u001b[0;34m)\u001b[0m\u001b[0;34m]\u001b[0m\u001b[0;34m[\u001b[0m\u001b[0mi\u001b[0m\u001b[0;34m]\u001b[0m\u001b[0;34m\u001b[0m\u001b[0m\n\u001b[0m\u001b[1;32m     11\u001b[0m     \u001b[0;32mreturn\u001b[0m \u001b[0mprice\u001b[0m\u001b[0;34m\u001b[0m\u001b[0m\n",
      "\u001b[0;32m~/datascience/anaconda3/envs/ds100/lib/python3.5/site-packages/datascience/tables.py\u001b[0m in \u001b[0;36m__getitem__\u001b[0;34m(self, index_or_label)\u001b[0m\n\u001b[1;32m    166\u001b[0m \u001b[0;34m\u001b[0m\u001b[0m\n\u001b[1;32m    167\u001b[0m     \u001b[0;32mdef\u001b[0m \u001b[0m__getitem__\u001b[0m\u001b[0;34m(\u001b[0m\u001b[0mself\u001b[0m\u001b[0;34m,\u001b[0m \u001b[0mindex_or_label\u001b[0m\u001b[0;34m)\u001b[0m\u001b[0;34m:\u001b[0m\u001b[0;34m\u001b[0m\u001b[0m\n\u001b[0;32m--> 168\u001b[0;31m         \u001b[0;32mreturn\u001b[0m \u001b[0mself\u001b[0m\u001b[0;34m.\u001b[0m\u001b[0mcolumn\u001b[0m\u001b[0;34m(\u001b[0m\u001b[0mindex_or_label\u001b[0m\u001b[0;34m)\u001b[0m\u001b[0;34m\u001b[0m\u001b[0m\n\u001b[0m\u001b[1;32m    169\u001b[0m \u001b[0;34m\u001b[0m\u001b[0m\n\u001b[1;32m    170\u001b[0m     \u001b[0;32mdef\u001b[0m \u001b[0m__setitem__\u001b[0m\u001b[0;34m(\u001b[0m\u001b[0mself\u001b[0m\u001b[0;34m,\u001b[0m \u001b[0mindex_or_label\u001b[0m\u001b[0;34m,\u001b[0m \u001b[0mvalues\u001b[0m\u001b[0;34m)\u001b[0m\u001b[0;34m:\u001b[0m\u001b[0;34m\u001b[0m\u001b[0m\n",
      "\u001b[0;32m~/datascience/anaconda3/envs/ds100/lib/python3.5/site-packages/datascience/tables.py\u001b[0m in \u001b[0;36mcolumn\u001b[0;34m(self, index_or_label)\u001b[0m\n\u001b[1;32m    273\u001b[0m                 \u001b[0;34m'The column \"{}\" is not in the table. The table contains '\u001b[0m\u001b[0;34m\u001b[0m\u001b[0m\n\u001b[1;32m    274\u001b[0m                 \u001b[0;34m'these columns: {}'\u001b[0m\u001b[0;34m\u001b[0m\u001b[0m\n\u001b[0;32m--> 275\u001b[0;31m                 \u001b[0;34m.\u001b[0m\u001b[0mformat\u001b[0m\u001b[0;34m(\u001b[0m\u001b[0mindex_or_label\u001b[0m\u001b[0;34m,\u001b[0m \u001b[0;34m', '\u001b[0m\u001b[0;34m.\u001b[0m\u001b[0mjoin\u001b[0m\u001b[0;34m(\u001b[0m\u001b[0mself\u001b[0m\u001b[0;34m.\u001b[0m\u001b[0mlabels\u001b[0m\u001b[0;34m)\u001b[0m\u001b[0;34m)\u001b[0m\u001b[0;34m\u001b[0m\u001b[0m\n\u001b[0m\u001b[1;32m    276\u001b[0m             )\n\u001b[1;32m    277\u001b[0m         if (isinstance(index_or_label, int)\n",
      "\u001b[0;31mValueError\u001b[0m: The column \"PRICE2\" is not in the table. The table contains these columns: Group, Group_num, UNIT NAME, Capacity_MW, Heat_Rate_MMBTUperMWh, Fuel_Price_USDperMMBTU, Fuel_Cost_USDperMWH, Var_OandM_USDperMWH, Total_Var_Cost_USDperMWH, Carbon_tonsperMWH, FixedCst_OandM_perDay, Plant_ID"
     ]
    }
   ],
   "source": [
    "# Make the plot\n",
    "price_calc(demand, so)\n",
    "plt.figure(figsize=(9,6))\n",
    "plt.bar(new_x, height, width=width, color=sorted_joined_table['Color'], edgecolor = \"black\")\n",
    "plt.title('All Energy Sources')\n",
    "plt.xlabel('Capacity_MW')\n",
    "plt.ylabel('Variable Cost')\n",
    "\n",
    "print('Hour: ' + str(hour))\n",
    "price_line_plot(price)\n",
    "demand_plot(demand)\n",
    "\n",
    "plt.show()"
   ]
  },
  {
   "cell_type": "markdown",
   "metadata": {},
   "source": [
    "Finally, we have a market price. Let us construct the same plot, but this time only considering the plants that are part of our portfolio."
   ]
  },
  {
   "cell_type": "code",
   "execution_count": null,
   "metadata": {
    "collapsed": true
   },
   "outputs": [],
   "source": [
    "your_source = sorted_joined_table.where(\"Group\", YOUR_PORTFOLIO)\n",
    "width_yours = your_source.column(\"Capacity_MW\")\n",
    "height_yours = your_source.column('PRICE' + str(hour))\n",
    "height_yours_marginal_cost = your_source.column(\"Total_Var_Cost_USDperMWH\")\n",
    "new_x_yours = find_x_pos(width_yours)"
   ]
  },
  {
   "cell_type": "code",
   "execution_count": null,
   "metadata": {
    "collapsed": true
   },
   "outputs": [],
   "source": [
    "# Make the plot\n",
    "plt.figure(figsize=(9,6))\n",
    "plt.bar(new_x_yours, height_yours, width=width_yours, color = energy_colors_dict[YOUR_PORTFOLIO], edgecolor = \"black\")\n",
    "plt.title(YOUR_PORTFOLIO)\n",
    "plt.xlabel('Capacity_MW')\n",
    "plt.ylabel('Price')\n",
    "price_line_plot(price)\n",
    "\n",
    "plt.show()"
   ]
  },
  {
   "cell_type": "markdown",
   "metadata": {},
   "source": [
    "Let's reduce our problem further to only include the plants that are actually operational under the new market price. Run the following cell to see the plants that will operate given our market price, and then we can begin the process of calculating our profit."
   ]
  },
  {
   "cell_type": "code",
   "execution_count": 18,
   "metadata": {},
   "outputs": [
    {
     "ename": "NameError",
     "evalue": "name 'your_source' is not defined",
     "output_type": "error",
     "traceback": [
      "\u001b[0;31m---------------------------------------------------------------------------\u001b[0m",
      "\u001b[0;31mNameError\u001b[0m                                 Traceback (most recent call last)",
      "\u001b[0;32m<ipython-input-18-d3f19fc07ffb>\u001b[0m in \u001b[0;36m<module>\u001b[0;34m()\u001b[0m\n\u001b[1;32m      1\u001b[0m \u001b[0mplt\u001b[0m\u001b[0;34m.\u001b[0m\u001b[0mfigure\u001b[0m\u001b[0;34m(\u001b[0m\u001b[0mfigsize\u001b[0m\u001b[0;34m=\u001b[0m\u001b[0;34m(\u001b[0m\u001b[0;36m9\u001b[0m\u001b[0;34m,\u001b[0m\u001b[0;36m6\u001b[0m\u001b[0;34m)\u001b[0m\u001b[0;34m)\u001b[0m\u001b[0;34m\u001b[0m\u001b[0m\n\u001b[0;32m----> 2\u001b[0;31m \u001b[0mnum_x\u001b[0m \u001b[0;34m=\u001b[0m \u001b[0mlen\u001b[0m\u001b[0;34m(\u001b[0m\u001b[0myour_source\u001b[0m\u001b[0;34m.\u001b[0m\u001b[0mwhere\u001b[0m\u001b[0;34m(\u001b[0m\u001b[0;34m'PRICE'\u001b[0m \u001b[0;34m+\u001b[0m \u001b[0mstr\u001b[0m\u001b[0;34m(\u001b[0m\u001b[0mhour\u001b[0m\u001b[0;34m)\u001b[0m\u001b[0;34m,\u001b[0m \u001b[0mare\u001b[0m\u001b[0;34m.\u001b[0m\u001b[0mbelow\u001b[0m\u001b[0;34m(\u001b[0m\u001b[0mprice\u001b[0m\u001b[0;34m)\u001b[0m\u001b[0;34m)\u001b[0m\u001b[0;34m[\u001b[0m\u001b[0;36m1\u001b[0m\u001b[0;34m]\u001b[0m\u001b[0;34m)\u001b[0m\u001b[0;34m\u001b[0m\u001b[0m\n\u001b[0m\u001b[1;32m      3\u001b[0m plt.bar(new_x_yours[:num_x], height_yours[:num_x], width=width_yours[:num_x], \n\u001b[1;32m      4\u001b[0m         \u001b[0mcolor\u001b[0m \u001b[0;34m=\u001b[0m \u001b[0menergy_colors_dict\u001b[0m\u001b[0;34m[\u001b[0m\u001b[0mYOUR_PORTFOLIO\u001b[0m\u001b[0;34m]\u001b[0m\u001b[0;34m,\u001b[0m\u001b[0;34m\u001b[0m\u001b[0m\n\u001b[1;32m      5\u001b[0m         edgecolor = \"black\")\n",
      "\u001b[0;31mNameError\u001b[0m: name 'your_source' is not defined"
     ]
    },
    {
     "data": {
      "text/plain": [
       "<Figure size 648x432 with 0 Axes>"
      ]
     },
     "metadata": {},
     "output_type": "display_data"
    }
   ],
   "source": [
    "plt.figure(figsize=(9,6))\n",
    "num_x = len(your_source.where('PRICE' + str(hour), are.below(price))[1])\n",
    "plt.bar(new_x_yours[:num_x], height_yours[:num_x], width=width_yours[:num_x], \n",
    "        color = energy_colors_dict[YOUR_PORTFOLIO],\n",
    "        edgecolor = \"black\")\n",
    "plt.title(YOUR_PORTFOLIO)\n",
    "plt.xlabel('Capacity_MW')\n",
    "plt.ylabel('Price')\n",
    "price_line_plot(price)\n",
    "\n",
    "\n",
    "plt.show()"
   ]
  },
  {
   "cell_type": "markdown",
   "metadata": {},
   "source": [
    "The plot above allows us to see how the prices we have set correspond to the market price. However, in order to look at the profits that we are making, we should look at our marginal cost rather than our bid prices. We do this in the plot below, allowing us to compare the market price of energy in this hour to the marginal costs for running the plants that have a bid price that was below the market price."
   ]
  },
  {
   "cell_type": "code",
   "execution_count": null,
   "metadata": {
    "collapsed": true
   },
   "outputs": [],
   "source": [
    "plt.figure(figsize=(9,6))\n",
    "num_x = len(your_source.where('PRICE' + str(hour), are.below(price))[1])\n",
    "plt.bar(new_x_yours[:num_x], height_yours_marginal_cost[:num_x], width=width_yours[:num_x], \n",
    "        color = energy_colors_dict[YOUR_PORTFOLIO],\n",
    "        edgecolor = \"black\")\n",
    "plt.title(YOUR_PORTFOLIO)\n",
    "plt.xlabel('Capacity_MW')\n",
    "plt.ylabel('Marginal Cost')\n",
    "price_line_plot(price)\n",
    "\n",
    "plt.show()"
   ]
  },
  {
   "cell_type": "markdown",
   "metadata": {},
   "source": [
    "Now we can finally calculate profit. The graphic above should show the market price line along with the marginal costs for operating our plants. Thus we can calculate profit by calculating the area between the red line and the blue boxes, as that will give us the total revenue - total cost. The function defined below is designed to perform that calculation."
   ]
  },
  {
   "cell_type": "code",
   "execution_count": null,
   "metadata": {
    "collapsed": true
   },
   "outputs": [],
   "source": [
    "def profit(sorted_table, price):\n",
    "    capacity_subset = sum(sorted_table.where('PRICE' + str(hour), are.below(price))[\"Capacity_MW\"])\n",
    "    revenue = capacity_subset * price\n",
    "    cost = 0\n",
    "    for i in range(len(sorted_table.where('PRICE' + str(hour), are.below(price))[\"Total_Var_Cost_USDperMWH\"])):\n",
    "        cost += sorted_table.where('PRICE' + str(hour), are.below(price))[\"Total_Var_Cost_USDperMWH\"][i]\\\n",
    "        * sorted_table.where('PRICE' + str(hour), are.below(price))[\"Capacity_MW\"][i]\n",
    "    return revenue - cost"
   ]
  },
  {
   "cell_type": "code",
   "execution_count": null,
   "metadata": {
    "collapsed": true
   },
   "outputs": [],
   "source": [
    "profit(your_source, price)"
   ]
  },
  {
   "cell_type": "markdown",
   "metadata": {},
   "source": [
    "We now have the ability to estimate the amount of profit our plants will generate based on a given amount of demand! Again, this does not include considerations of credit or carbon emmissions, but it should give you a general sens of how your plants performed for this hour. Try going back to the start of the notebook and changing the hour you are examining, or add more cells to do a deeper analysis of your performance on your own to make better decisions for your team in the future."
   ]
  },
  {
   "cell_type": "markdown",
   "metadata": {},
   "source": [
    "# Conclusion and Resources"
   ]
  },
  {
   "cell_type": "markdown",
   "metadata": {},
   "source": [
    "Congratulations! You have completed your Jupyter Notebook for the ESG. If you have questions, please do not hesitate to post them on the dedicated Piazza thread (https://piazza.com/class/jr2lknh4q311x1?cid=41)."
   ]
  },
  {
   "cell_type": "markdown",
   "metadata": {},
   "source": [
    "Module Developers: Alec Kan (alec.kan@berkeley.edu), Alma Pineda, Aarish Irfan, Elaine Chien, and Octavian Sima.\n",
    "\n",
    "Data Science Modules: http://data.berkeley.edu/education/modules"
   ]
  }
 ],
 "metadata": {
  "kernelspec": {
   "display_name": "Python 3",
   "language": "python",
   "name": "python3"
  },
  "language_info": {
   "codemirror_mode": {
    "name": "ipython",
    "version": 3
   },
   "file_extension": ".py",
   "mimetype": "text/x-python",
   "name": "python",
   "nbconvert_exporter": "python",
   "pygments_lexer": "ipython3",
   "version": "3.5.4"
  }
 },
 "nbformat": 4,
 "nbformat_minor": 2
}
