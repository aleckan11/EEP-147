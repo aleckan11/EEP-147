{
 "cells": [
  {
   "cell_type": "code",
   "execution_count": 19,
   "metadata": {},
   "outputs": [],
   "source": [
    "from datascience import *\n",
    "import matplotlib.pyplot as plt\n",
    "%matplotlib inline\n",
    "import numpy as np\n",
    "import pandas as pd"
   ]
  },
  {
   "cell_type": "code",
   "execution_count": 24,
   "metadata": {},
   "outputs": [],
   "source": [
    "bids = Table.read_table('F2_bids_5.csv').sort('PORTFOLIO')\n",
    "ESG = Table.read_table('ESGPorfolios_forcsv.csv')"
   ]
  },
  {
   "cell_type": "code",
   "execution_count": 26,
   "metadata": {},
   "outputs": [
    {
     "data": {
      "text/html": [
       "<table border=\"1\" class=\"dataframe\">\n",
       "    <thead>\n",
       "        <tr>\n",
       "            <th>TEAM</th> <th>TEAM_ID</th> <th>PORTFOLIO</th> <th>PORTFOLIO_ID</th> <th>PLANT</th> <th>PLANT_ID</th> <th>PERIOD</th> <th>PRICE1</th> <th>PRICE2</th> <th>PRICE3</th> <th>PRICE4</th>\n",
       "        </tr>\n",
       "    </thead>\n",
       "    <tbody>\n",
       "        <tr>\n",
       "            <td>Krugman</td> <td>7      </td> <td>Big_Coal </td> <td>1           </td> <td>Four Corners        </td> <td>11      </td> <td>5     </td> <td>346.5 </td> <td>36.5  </td> <td>36.5  </td> <td>346.5 </td>\n",
       "        </tr>\n",
       "        <tr>\n",
       "            <td>Krugman</td> <td>7      </td> <td>Big_Coal </td> <td>1           </td> <td>ALAMITOS_7          </td> <td>12      </td> <td>5     </td> <td>75    </td> <td>75    </td> <td>75    </td> <td>75    </td>\n",
       "        </tr>\n",
       "        <tr>\n",
       "            <td>Krugman</td> <td>7      </td> <td>Big_Coal </td> <td>1           </td> <td>HUNTINGTON_BEACH_1-2</td> <td>13      </td> <td>5     </td> <td>40.5  </td> <td>40.5  </td> <td>40.5  </td> <td>40.5  </td>\n",
       "        </tr>\n",
       "        <tr>\n",
       "            <td>Krugman</td> <td>7      </td> <td>Big_Coal </td> <td>1           </td> <td>HUNTINGTON_BEACH_5  </td> <td>14      </td> <td>5     </td> <td>67    </td> <td>67    </td> <td>367   </td> <td>67    </td>\n",
       "        </tr>\n",
       "        <tr>\n",
       "            <td>Krugman</td> <td>7      </td> <td>Big_Coal </td> <td>1           </td> <td>REDONDO_5-6         </td> <td>15      </td> <td>5     </td> <td>42.3  </td> <td>41.94 </td> <td>41.94 </td> <td>42.3  </td>\n",
       "        </tr>\n",
       "        <tr>\n",
       "            <td>Krugman</td> <td>7      </td> <td>Big_Coal </td> <td>1           </td> <td>REDONDO_7-8         </td> <td>16      </td> <td>5     </td> <td>242   </td> <td>242   </td> <td>41.94 </td> <td>242   </td>\n",
       "        </tr>\n",
       "        <tr>\n",
       "            <td>Becker </td> <td>2      </td> <td>Big_Gas  </td> <td>2           </td> <td>EL_SEGUNDO_1-2      </td> <td>21      </td> <td>5     </td> <td>44.97 </td> <td>44.97 </td> <td>61.97 </td> <td>44.97 </td>\n",
       "        </tr>\n",
       "        <tr>\n",
       "            <td>Becker </td> <td>2      </td> <td>Big_Gas  </td> <td>2           </td> <td>EL_SEGUNDO_3-4      </td> <td>22      </td> <td>5     </td> <td>41.97 </td> <td>44.97 </td> <td>61.97 </td> <td>44.97 </td>\n",
       "        </tr>\n",
       "        <tr>\n",
       "            <td>Becker </td> <td>2      </td> <td>Big_Gas  </td> <td>2           </td> <td>LONG_BEACH          </td> <td>23      </td> <td>5     </td> <td>52.97 </td> <td>52.97 </td> <td>61.97 </td> <td>52.97 </td>\n",
       "        </tr>\n",
       "        <tr>\n",
       "            <td>Becker </td> <td>2      </td> <td>Big_Gas  </td> <td>2           </td> <td>NORTH_ISLAND        </td> <td>24      </td> <td>5     </td> <td>65.97 </td> <td>65.97 </td> <td>65.97 </td> <td>65.97 </td>\n",
       "        </tr>\n",
       "    </tbody>\n",
       "</table>\n",
       "<p>... (32 rows omitted)</p>"
      ],
      "text/plain": [
       "TEAM    | TEAM_ID | PORTFOLIO | PORTFOLIO_ID | PLANT                | PLANT_ID | PERIOD | PRICE1 | PRICE2 | PRICE3 | PRICE4\n",
       "Krugman | 7       | Big_Coal  | 1            | Four Corners         | 11       | 5      | 346.5  | 36.5   | 36.5   | 346.5\n",
       "Krugman | 7       | Big_Coal  | 1            | ALAMITOS_7           | 12       | 5      | 75     | 75     | 75     | 75\n",
       "Krugman | 7       | Big_Coal  | 1            | HUNTINGTON_BEACH_1-2 | 13       | 5      | 40.5   | 40.5   | 40.5   | 40.5\n",
       "Krugman | 7       | Big_Coal  | 1            | HUNTINGTON_BEACH_5   | 14       | 5      | 67     | 67     | 367    | 67\n",
       "Krugman | 7       | Big_Coal  | 1            | REDONDO_5-6          | 15       | 5      | 42.3   | 41.94  | 41.94  | 42.3\n",
       "Krugman | 7       | Big_Coal  | 1            | REDONDO_7-8          | 16       | 5      | 242    | 242    | 41.94  | 242\n",
       "Becker  | 2       | Big_Gas   | 2            | EL_SEGUNDO_1-2       | 21       | 5      | 44.97  | 44.97  | 61.97  | 44.97\n",
       "Becker  | 2       | Big_Gas   | 2            | EL_SEGUNDO_3-4       | 22       | 5      | 41.97  | 44.97  | 61.97  | 44.97\n",
       "Becker  | 2       | Big_Gas   | 2            | LONG_BEACH           | 23       | 5      | 52.97  | 52.97  | 61.97  | 52.97\n",
       "Becker  | 2       | Big_Gas   | 2            | NORTH_ISLAND         | 24       | 5      | 65.97  | 65.97  | 65.97  | 65.97\n",
       "... (32 rows omitted)"
      ]
     },
     "execution_count": 26,
     "metadata": {},
     "output_type": "execute_result"
    }
   ],
   "source": [
    "bids.sort(\"PLANT_ID\")"
   ]
  },
  {
   "cell_type": "code",
   "execution_count": 28,
   "metadata": {},
   "outputs": [
    {
     "data": {
      "text/html": [
       "<table border=\"1\" class=\"dataframe\">\n",
       "    <thead>\n",
       "        <tr>\n",
       "            <th>Group</th> <th>Group_num</th> <th>UNIT NAME</th> <th>Capacity_MW</th> <th>Heat_Rate_MMBTUperMWh</th> <th>Fuel_Price_USDperMMBTU</th> <th>Fuel_Cost_USDperMWH</th> <th>Var_OandM_USDperMWH</th> <th>Total_Var_Cost_USDperMWH</th> <th>Carbon_tonsperMWH</th> <th>FixedCst_OandM_perDay</th> <th>Plant_ID</th>\n",
       "        </tr>\n",
       "    </thead>\n",
       "    <tbody>\n",
       "        <tr>\n",
       "            <td>Big Coal</td> <td>1        </td> <td>FOUR CORNERS        </td> <td>1900       </td> <td>11.67                </td> <td>3                     </td> <td>35                 </td> <td>1.5                </td> <td>36.5                    </td> <td>1.1              </td> <td>$8,000               </td> <td>11      </td>\n",
       "        </tr>\n",
       "        <tr>\n",
       "            <td>Big Coal</td> <td>1        </td> <td>ALAMITOS 7          </td> <td>250        </td> <td>16.05                </td> <td>4.5                   </td> <td>72.22              </td> <td>1.5                </td> <td>73.72                   </td> <td>0.85             </td> <td>$0                   </td> <td>12      </td>\n",
       "        </tr>\n",
       "        <tr>\n",
       "            <td>Big Coal</td> <td>1        </td> <td>HUNTINGTON BEACH 1&2</td> <td>300        </td> <td>8.67                 </td> <td>4.5                   </td> <td>39                 </td> <td>1.5                </td> <td>40.5                    </td> <td>0.46             </td> <td>$2,000               </td> <td>13      </td>\n",
       "        </tr>\n",
       "        <tr>\n",
       "            <td>Big Coal</td> <td>1        </td> <td>HUNTINGTON BEACH 5  </td> <td>150        </td> <td>14.44                </td> <td>4.5                   </td> <td>65                 </td> <td>1.5                </td> <td>66.5                    </td> <td>0.77             </td> <td>$2,000               </td> <td>14      </td>\n",
       "        </tr>\n",
       "        <tr>\n",
       "            <td>Big Coal</td> <td>1        </td> <td>REDONDO 5&6         </td> <td>350        </td> <td>8.99                 </td> <td>4.5                   </td> <td>40.44              </td> <td>1.5                </td> <td>41.94                   </td> <td>0.48             </td> <td>$3,000               </td> <td>15      </td>\n",
       "        </tr>\n",
       "        <tr>\n",
       "            <td>Big Coal</td> <td>1        </td> <td>REDONDO 7&8         </td> <td>950        </td> <td>8.99                 </td> <td>4.5                   </td> <td>40.44              </td> <td>1.5                </td> <td>41.94                   </td> <td>0.48             </td> <td>$5,000               </td> <td>16      </td>\n",
       "        </tr>\n",
       "        <tr>\n",
       "            <td>Big Gas </td> <td>2        </td> <td>EL SEGUNDO 1&2      </td> <td>400        </td> <td>9.63                 </td> <td>4.5                   </td> <td>43.33              </td> <td>1.5                </td> <td>44.83                   </td> <td>0.51             </td> <td>$1,000               </td> <td>21      </td>\n",
       "        </tr>\n",
       "        <tr>\n",
       "            <td>Big Gas </td> <td>2        </td> <td>EL SEGUNDO 3&4      </td> <td>650        </td> <td>8.83                 </td> <td>4.5                   </td> <td>39.72              </td> <td>1.5                </td> <td>41.22                   </td> <td>0.47             </td> <td>$1,000               </td> <td>22      </td>\n",
       "        </tr>\n",
       "        <tr>\n",
       "            <td>Big Gas </td> <td>2        </td> <td>LONG BEACH          </td> <td>550        </td> <td>11.56                </td> <td>4.5                   </td> <td>52                 </td> <td>0.5                </td> <td>52.5                    </td> <td>0.61             </td> <td>$2,000               </td> <td>23      </td>\n",
       "        </tr>\n",
       "        <tr>\n",
       "            <td>Big Gas </td> <td>2        </td> <td>NORTH ISLAND        </td> <td>150        </td> <td>14.44                </td> <td>4.5                   </td> <td>65                 </td> <td>0.5                </td> <td>65.5                    </td> <td>0.77             </td> <td>$0                   </td> <td>24      </td>\n",
       "        </tr>\n",
       "    </tbody>\n",
       "</table>\n",
       "<p>... (32 rows omitted)</p>"
      ],
      "text/plain": [
       "Group    | Group_num | UNIT NAME            | Capacity_MW | Heat_Rate_MMBTUperMWh | Fuel_Price_USDperMMBTU | Fuel_Cost_USDperMWH | Var_OandM_USDperMWH | Total_Var_Cost_USDperMWH | Carbon_tonsperMWH | FixedCst_OandM_perDay | Plant_ID\n",
       "Big Coal | 1         | FOUR CORNERS         | 1900        | 11.67                 | 3                      | 35                  | 1.5                 | 36.5                     | 1.1               | $8,000                | 11\n",
       "Big Coal | 1         | ALAMITOS 7           | 250         | 16.05                 | 4.5                    | 72.22               | 1.5                 | 73.72                    | 0.85              | $0                    | 12\n",
       "Big Coal | 1         | HUNTINGTON BEACH 1&2 | 300         | 8.67                  | 4.5                    | 39                  | 1.5                 | 40.5                     | 0.46              | $2,000                | 13\n",
       "Big Coal | 1         | HUNTINGTON BEACH 5   | 150         | 14.44                 | 4.5                    | 65                  | 1.5                 | 66.5                     | 0.77              | $2,000                | 14\n",
       "Big Coal | 1         | REDONDO 5&6          | 350         | 8.99                  | 4.5                    | 40.44               | 1.5                 | 41.94                    | 0.48              | $3,000                | 15\n",
       "Big Coal | 1         | REDONDO 7&8          | 950         | 8.99                  | 4.5                    | 40.44               | 1.5                 | 41.94                    | 0.48              | $5,000                | 16\n",
       "Big Gas  | 2         | EL SEGUNDO 1&2       | 400         | 9.63                  | 4.5                    | 43.33               | 1.5                 | 44.83                    | 0.51              | $1,000                | 21\n",
       "Big Gas  | 2         | EL SEGUNDO 3&4       | 650         | 8.83                  | 4.5                    | 39.72               | 1.5                 | 41.22                    | 0.47              | $1,000                | 22\n",
       "Big Gas  | 2         | LONG BEACH           | 550         | 11.56                 | 4.5                    | 52                  | 0.5                 | 52.5                     | 0.61              | $2,000                | 23\n",
       "Big Gas  | 2         | NORTH ISLAND         | 150         | 14.44                 | 4.5                    | 65                  | 0.5                 | 65.5                     | 0.77              | $0                    | 24\n",
       "... (32 rows omitted)"
      ]
     },
     "execution_count": 28,
     "metadata": {},
     "output_type": "execute_result"
    }
   ],
   "source": [
    "ESG.sort(\"Plant_ID\")"
   ]
  },
  {
   "cell_type": "code",
   "execution_count": 17,
   "metadata": {},
   "outputs": [
    {
     "data": {
      "text/plain": [
       "'\\nbids = Table.read_table(\\'F2_bids_5.csv\\').sort(\\'PORTFOLIO\\')\\nbids\\nplants = bids.column(\"PLANT\")\\nplants_stripped = []\\nfor p in plants:\\n    plants_stripped.append(\\'\\'.join(letter for letter in p if letter.isalnum()))\\nprint(plants, plants_stripped)\\nbids = bids.with_column(\"PLANT\", plants_stripped)\\nbids\\n'"
      ]
     },
     "execution_count": 17,
     "metadata": {},
     "output_type": "execute_result"
    }
   ],
   "source": [
    "\"\"\"\n",
    "bids = Table.read_table('F2_bids_5.csv').sort('PORTFOLIO')\n",
    "bids\n",
    "plants = bids.column(\"PLANT\")\n",
    "plants_stripped = []\n",
    "for p in plants:\n",
    "    plants_stripped.append(''.join(letter for letter in p if letter.isalnum()))\n",
    "print(plants, plants_stripped)\n",
    "bids = bids.with_column(\"PLANT\", plants_stripped)\n",
    "bids\n",
    "\"\"\""
   ]
  },
  {
   "cell_type": "code",
   "execution_count": 18,
   "metadata": {},
   "outputs": [
    {
     "data": {
      "text/plain": [
       "'\\n# if you sort both tables by PORTFOLIO and Group respectively, you can see that the columns line up\\n\\nESG = Table.read_table(\\'ESGPorfolios_.csv\\').sort(\"Group\")\\nESG\\nunits = ESG.column(\"UNIT NAME\")\\nunits_stripped = []\\nfor u in units:\\n    units_stripped.append(\\'\\'.join(letter for letter in u if letter.isalnum()))\\nprint(units, units_stripped)\\nESG = ESG.with_column(\"UNIT NAME\", units_stripped)\\nESG\\n'"
      ]
     },
     "execution_count": 18,
     "metadata": {},
     "output_type": "execute_result"
    }
   ],
   "source": [
    "\"\"\"\n",
    "# if you sort both tables by PORTFOLIO and Group respectively, you can see that the columns line up\n",
    "\n",
    "ESG = Table.read_table('ESGPorfolios_.csv').sort(\"Group\")\n",
    "ESG\n",
    "units = ESG.column(\"UNIT NAME\")\n",
    "units_stripped = []\n",
    "for u in units:\n",
    "    units_stripped.append(''.join(letter for letter in u if letter.isalnum()))\n",
    "print(units, units_stripped)\n",
    "ESG = ESG.with_column(\"UNIT NAME\", units_stripped)\n",
    "ESG\n",
    "\"\"\""
   ]
  },
  {
   "cell_type": "code",
   "execution_count": 77,
   "metadata": {},
   "outputs": [
    {
     "data": {
      "text/html": [
       "<table border=\"1\" class=\"dataframe\">\n",
       "    <thead>\n",
       "        <tr>\n",
       "            <th>PLANT_ID</th> <th>TEAM</th> <th>TEAM_ID</th> <th>PORTFOLIO</th> <th>PORTFOLIO_ID</th> <th>PLANT</th> <th>PERIOD</th> <th>PRICE1</th> <th>PRICE2</th> <th>PRICE3</th> <th>PRICE4</th> <th>Group</th> <th>Group_num</th> <th>UNIT NAME</th> <th>Capacity_MW</th> <th>Heat_Rate_MMBTUperMWh</th> <th>Fuel_Price_USDperMMBTU</th> <th>Fuel_Cost_USDperMWH</th> <th>Var_OandM_USDperMWH</th> <th>Total_Var_Cost_USDperMWH</th> <th>Carbon_tonsperMWH</th> <th>FixedCst_OandM_perDay</th>\n",
       "        </tr>\n",
       "    </thead>\n",
       "    <tbody>\n",
       "        <tr>\n",
       "            <td>61      </td> <td>Coase   </td> <td>3      </td> <td>Old_Timers</td> <td>6           </td> <td>BIG_CREEK           </td> <td>5     </td> <td>0     </td> <td>0     </td> <td>0     </td> <td>0     </td> <td>Old Timers  </td> <td>7        </td> <td>BIG CREEK           </td> <td>1000       </td> <td>nan                  </td> <td>0                     </td> <td>0                  </td> <td>0                  </td> <td>0                       </td> <td>0                </td> <td>$15,000              </td>\n",
       "        </tr>\n",
       "        <tr>\n",
       "            <td>72      </td> <td>Arrow   </td> <td>1      </td> <td>Low_Fossil</td> <td>7           </td> <td>HELMS               </td> <td>5     </td> <td>0.5   </td> <td>0.5   </td> <td>0.5   </td> <td>0.5   </td> <td>Fossil Light</td> <td>8        </td> <td>HELMS               </td> <td>800        </td> <td>nan                  </td> <td>0                     </td> <td>0                  </td> <td>0.5                </td> <td>0.5                     </td> <td>0                </td> <td>$15,000              </td>\n",
       "        </tr>\n",
       "        <tr>\n",
       "            <td>75      </td> <td>Arrow   </td> <td>1      </td> <td>Low_Fossil</td> <td>7           </td> <td>DIABLO_CANYON_1     </td> <td>5     </td> <td>11.5  </td> <td>11.5  </td> <td>11.5  </td> <td>11.5  </td> <td>Fossil Light</td> <td>8        </td> <td>DIABLO CANYON 1     </td> <td>1000       </td> <td>1                    </td> <td>7.5                   </td> <td>7.5                </td> <td>4                  </td> <td>11.5                    </td> <td>0                </td> <td>$20,000              </td>\n",
       "        </tr>\n",
       "        <tr>\n",
       "            <td>62      </td> <td>Coase   </td> <td>3      </td> <td>Old_Timers</td> <td>6           </td> <td>MOHAVE_1            </td> <td>5     </td> <td>34.5  </td> <td>34.5  </td> <td>34.5  </td> <td>34.5  </td> <td>Old Timers  </td> <td>7        </td> <td>MOHAVE 1            </td> <td>750        </td> <td>10                   </td> <td>3                     </td> <td>30                 </td> <td>4.5                </td> <td>34.5                    </td> <td>0.94             </td> <td>$15,000              </td>\n",
       "        </tr>\n",
       "        <tr>\n",
       "            <td>33      </td> <td>Friedman</td> <td>5      </td> <td>Bay_Views </td> <td>3           </td> <td>MOSS_LANDING_6      </td> <td>5     </td> <td>40    </td> <td>40    </td> <td>40    </td> <td>40    </td> <td>Bay Views   </td> <td>4        </td> <td>MOSS LANDING 6      </td> <td>750        </td> <td>6.9                  </td> <td>4.5                   </td> <td>31.06              </td> <td>1.5                </td> <td>32.56                   </td> <td>0.37             </td> <td>$8,000               </td>\n",
       "        </tr>\n",
       "        <tr>\n",
       "            <td>34      </td> <td>Friedman</td> <td>5      </td> <td>Bay_Views </td> <td>3           </td> <td>MOSS_LANDING_7      </td> <td>5     </td> <td>40    </td> <td>40    </td> <td>40    </td> <td>40    </td> <td>Bay Views   </td> <td>4        </td> <td>MOSS LANDING 7      </td> <td>750        </td> <td>6.9                  </td> <td>4.5                   </td> <td>31.06              </td> <td>1.5                </td> <td>32.56                   </td> <td>0.37             </td> <td>$8,000               </td>\n",
       "        </tr>\n",
       "        <tr>\n",
       "            <td>13      </td> <td>Krugman </td> <td>7      </td> <td>Big_Coal  </td> <td>1           </td> <td>HUNTINGTON_BEACH_1-2</td> <td>5     </td> <td>40.5  </td> <td>40.5  </td> <td>40.5  </td> <td>40.5  </td> <td>Big Coal    </td> <td>1        </td> <td>HUNTINGTON BEACH 1&2</td> <td>300        </td> <td>8.67                 </td> <td>4.5                   </td> <td>39                 </td> <td>1.5                </td> <td>40.5                    </td> <td>0.46             </td> <td>$2,000               </td>\n",
       "        </tr>\n",
       "        <tr>\n",
       "            <td>22      </td> <td>Becker  </td> <td>2      </td> <td>Big_Gas   </td> <td>2           </td> <td>EL_SEGUNDO_3-4      </td> <td>5     </td> <td>41.97 </td> <td>44.97 </td> <td>61.97 </td> <td>44.97 </td> <td>Big Gas     </td> <td>2        </td> <td>EL SEGUNDO 3&4      </td> <td>650        </td> <td>8.83                 </td> <td>4.5                   </td> <td>39.72              </td> <td>1.5                </td> <td>41.22                   </td> <td>0.47             </td> <td>$1,000               </td>\n",
       "        </tr>\n",
       "        <tr>\n",
       "            <td>25      </td> <td>Becker  </td> <td>2      </td> <td>Big_Gas   </td> <td>2           </td> <td>ENCINA              </td> <td>5     </td> <td>41.97 </td> <td>44.97 </td> <td>61.97 </td> <td>44.97 </td> <td>Big Gas     </td> <td>2        </td> <td>ENCINA              </td> <td>950        </td> <td>9.15                 </td> <td>4.5                   </td> <td>41.17              </td> <td>0.5                </td> <td>41.67                   </td> <td>0.49             </td> <td>$2,000               </td>\n",
       "        </tr>\n",
       "        <tr>\n",
       "            <td>15      </td> <td>Krugman </td> <td>7      </td> <td>Big_Coal  </td> <td>1           </td> <td>REDONDO_5-6         </td> <td>5     </td> <td>42.3  </td> <td>41.94 </td> <td>41.94 </td> <td>42.3  </td> <td>Big Coal    </td> <td>1        </td> <td>REDONDO 5&6         </td> <td>350        </td> <td>8.99                 </td> <td>4.5                   </td> <td>40.44              </td> <td>1.5                </td> <td>41.94                   </td> <td>0.48             </td> <td>$3,000               </td>\n",
       "        </tr>\n",
       "        <tr>\n",
       "            <td>27      </td> <td>Becker  </td> <td>2      </td> <td>Big_Gas   </td> <td>2           </td> <td>SOUTH_BAY           </td> <td>5     </td> <td>43.97 </td> <td>44.97 </td> <td>61.97 </td> <td>44.97 </td> <td>Big Gas     </td> <td>2        </td> <td>SOUTH BAY           </td> <td>700        </td> <td>9.63                 </td> <td>4.5                   </td> <td>43.33              </td> <td>0.5                </td> <td>43.83                   </td> <td>0.51             </td> <td>$2,000               </td>\n",
       "        </tr>\n",
       "        <tr>\n",
       "            <td>21      </td> <td>Becker  </td> <td>2      </td> <td>Big_Gas   </td> <td>2           </td> <td>EL_SEGUNDO_1-2      </td> <td>5     </td> <td>44.97 </td> <td>44.97 </td> <td>61.97 </td> <td>44.97 </td> <td>Big Gas     </td> <td>2        </td> <td>EL SEGUNDO 1&2      </td> <td>400        </td> <td>9.63                 </td> <td>4.5                   </td> <td>43.33              </td> <td>1.5                </td> <td>44.83                   </td> <td>0.51             </td> <td>$1,000               </td>\n",
       "        </tr>\n",
       "        <tr>\n",
       "            <td>32      </td> <td>Friedman</td> <td>5      </td> <td>Bay_Views </td> <td>3           </td> <td>MORRO_BAY_3-4       </td> <td>5     </td> <td>45    </td> <td>45    </td> <td>45    </td> <td>45    </td> <td>Bay Views   </td> <td>4        </td> <td>MORRO BAY 3&4       </td> <td>665        </td> <td>8.02                 </td> <td>4.5                   </td> <td>36.11              </td> <td>0.5                </td> <td>36.61                   </td> <td>0.43             </td> <td>$4,000               </td>\n",
       "        </tr>\n",
       "        <tr>\n",
       "            <td>31      </td> <td>Friedman</td> <td>5      </td> <td>Bay_Views </td> <td>3           </td> <td>MORRO_BAY_1-2       </td> <td>5     </td> <td>47.33 </td> <td>47.33 </td> <td>47.33 </td> <td>47.33 </td> <td>Bay Views   </td> <td>3        </td> <td>MORRO BAY 1&2       </td> <td>335        </td> <td>8.51                 </td> <td>4.5                   </td> <td>38.28              </td> <td>0.5                </td> <td>38.78                   </td> <td>0.45             </td> <td>$2,000               </td>\n",
       "        </tr>\n",
       "        <tr>\n",
       "            <td>52      </td> <td>Heckman </td> <td>6      </td> <td>East_Bay  </td> <td>5           </td> <td>PITTSBURGH_5-6      </td> <td>5     </td> <td>50    </td> <td>50    </td> <td>55    </td> <td>50    </td> <td>East Bay    </td> <td>6        </td> <td>PITTSBURGH 5&6      </td> <td>650        </td> <td>8.02                 </td> <td>4.5                   </td> <td>36.11              </td> <td>0.5                </td> <td>36.61                   </td> <td>0.43             </td> <td>$2,500               </td>\n",
       "        </tr>\n",
       "        <tr>\n",
       "            <td>23      </td> <td>Becker  </td> <td>2      </td> <td>Big_Gas   </td> <td>2           </td> <td>LONG_BEACH          </td> <td>5     </td> <td>52.97 </td> <td>52.97 </td> <td>61.97 </td> <td>52.97 </td> <td>Big Gas     </td> <td>2        </td> <td>LONG BEACH          </td> <td>550        </td> <td>11.56                </td> <td>4.5                   </td> <td>52                 </td> <td>0.5                </td> <td>52.5                    </td> <td>0.61             </td> <td>$2,000               </td>\n",
       "        </tr>\n",
       "        <tr>\n",
       "            <td>51      </td> <td>Heckman </td> <td>6      </td> <td>East_Bay  </td> <td>5           </td> <td>PITTSBURGH_1-4      </td> <td>5     </td> <td>54    </td> <td>54    </td> <td>60    </td> <td>54    </td> <td>East Bay    </td> <td>6        </td> <td>PITTSBURGH 1-4      </td> <td>650        </td> <td>8.99                 </td> <td>4.5                   </td> <td>40.44              </td> <td>0.5                </td> <td>40.94                   </td> <td>0.48             </td> <td>$2,500               </td>\n",
       "        </tr>\n",
       "        <tr>\n",
       "            <td>55      </td> <td>Heckman </td> <td>6      </td> <td>East_Bay  </td> <td>5           </td> <td>CONTRA_COSTA_6-7    </td> <td>5     </td> <td>54    </td> <td>54    </td> <td>59    </td> <td>54    </td> <td>East Bay    </td> <td>6        </td> <td>CONTRA COSTA 6&7    </td> <td>700        </td> <td>8.67                 </td> <td>4.5                   </td> <td>39                 </td> <td>0.5                </td> <td>39.5                    </td> <td>0.46             </td> <td>$6,000               </td>\n",
       "        </tr>\n",
       "        <tr>\n",
       "            <td>47      </td> <td>Debreu  </td> <td>4      </td> <td>Beachfront</td> <td>4           </td> <td>ORMOND_BEACH_1      </td> <td>5     </td> <td>55.65 </td> <td>55.65 </td> <td>60.05 </td> <td>60.05 </td> <td>Beachfront  </td> <td>5        </td> <td>ORMOND BEACH 1      </td> <td>700        </td> <td>8.35                 </td> <td>4.5                   </td> <td>37.56              </td> <td>0.5                </td> <td>38.06                   </td> <td>0.44             </td> <td>$7,000               </td>\n",
       "        </tr>\n",
       "        <tr>\n",
       "            <td>48      </td> <td>Debreu  </td> <td>4      </td> <td>Beachfront</td> <td>4           </td> <td>ORMOND_BEACH_2      </td> <td>5     </td> <td>55.65 </td> <td>55.65 </td> <td>60.05 </td> <td>60.05 </td> <td>Beachfront  </td> <td>5        </td> <td>ORMOND BEACH 2      </td> <td>700        </td> <td>8.35                 </td> <td>4.5                   </td> <td>37.56              </td> <td>0.5                </td> <td>38.06                   </td> <td>0.44             </td> <td>$7,000               </td>\n",
       "        </tr>\n",
       "        <tr>\n",
       "            <td>45      </td> <td>Debreu  </td> <td>4      </td> <td>Beachfront</td> <td>4           </td> <td>MANDALAY_1-2        </td> <td>5     </td> <td>56.65 </td> <td>56.65 </td> <td>61.05 </td> <td>61.05 </td> <td>Beachfront  </td> <td>5        </td> <td>MANDALAY 1&2        </td> <td>300        </td> <td>8.35                 </td> <td>4.5                   </td> <td>37.56              </td> <td>1.5                </td> <td>39.06                   </td> <td>0.44             </td> <td>$1,000               </td>\n",
       "        </tr>\n",
       "        <tr>\n",
       "            <td>41      </td> <td>Debreu  </td> <td>4      </td> <td>Beachfront</td> <td>4           </td> <td>COOLWATER           </td> <td>5     </td> <td>61.99 </td> <td>61.99 </td> <td>66.89 </td> <td>66.89 </td> <td>Beachfront  </td> <td>5        </td> <td>COOLWATER           </td> <td>650        </td> <td>9.31                 </td> <td>4.5                   </td> <td>41.89              </td> <td>0.5                </td> <td>42.39                   </td> <td>0.49             </td> <td>$2,000               </td>\n",
       "        </tr>\n",
       "        <tr>\n",
       "            <td>42      </td> <td>Debreu  </td> <td>4      </td> <td>Beachfront</td> <td>4           </td> <td>ETIWANDA_1-4        </td> <td>5     </td> <td>62.27 </td> <td>62.27 </td> <td>67.16 </td> <td>67.16 </td> <td>Beachfront  </td> <td>5        </td> <td>ETIWANDA 1-4        </td> <td>850        </td> <td>9.15                 </td> <td>4.5                   </td> <td>41.17              </td> <td>1.5                </td> <td>42.67                   </td> <td>0.49             </td> <td>$8,000               </td>\n",
       "        </tr>\n",
       "        <tr>\n",
       "            <td>24      </td> <td>Becker  </td> <td>2      </td> <td>Big_Gas   </td> <td>2           </td> <td>NORTH_ISLAND        </td> <td>5     </td> <td>65.97 </td> <td>65.97 </td> <td>65.97 </td> <td>65.97 </td> <td>Big Gas     </td> <td>2        </td> <td>NORTH ISLAND        </td> <td>150        </td> <td>14.44                </td> <td>4.5                   </td> <td>65                 </td> <td>0.5                </td> <td>65.5                    </td> <td>0.77             </td> <td>$0                   </td>\n",
       "        </tr>\n",
       "        <tr>\n",
       "            <td>14      </td> <td>Krugman </td> <td>7      </td> <td>Big_Coal  </td> <td>1           </td> <td>HUNTINGTON_BEACH_5  </td> <td>5     </td> <td>67    </td> <td>67    </td> <td>367   </td> <td>67    </td> <td>Big Coal    </td> <td>1        </td> <td>HUNTINGTON BEACH 5  </td> <td>150        </td> <td>14.44                </td> <td>4.5                   </td> <td>65                 </td> <td>1.5                </td> <td>66.5                    </td> <td>0.77             </td> <td>$2,000               </td>\n",
       "        </tr>\n",
       "        <tr>\n",
       "            <td>71      </td> <td>Arrow   </td> <td>1      </td> <td>Low_Fossil</td> <td>7           </td> <td>HUMBOLDT            </td> <td>5     </td> <td>74.94 </td> <td>74.94 </td> <td>74.94 </td> <td>74.94 </td> <td>Fossil Light</td> <td>8        </td> <td>HUMBOLDT            </td> <td>150        </td> <td>10.43                </td> <td>4.5                   </td> <td>46.94              </td> <td>0.5                </td> <td>47.44                   </td> <td>0.55             </td> <td>$0                   </td>\n",
       "        </tr>\n",
       "        <tr>\n",
       "            <td>12      </td> <td>Krugman </td> <td>7      </td> <td>Big_Coal  </td> <td>1           </td> <td>ALAMITOS_7          </td> <td>5     </td> <td>75    </td> <td>75    </td> <td>75    </td> <td>75    </td> <td>Big Coal    </td> <td>1        </td> <td>ALAMITOS 7          </td> <td>250        </td> <td>16.05                </td> <td>4.5                   </td> <td>72.22              </td> <td>1.5                </td> <td>73.72                   </td> <td>0.85             </td> <td>$0                   </td>\n",
       "        </tr>\n",
       "        <tr>\n",
       "            <td>46      </td> <td>Debreu  </td> <td>4      </td> <td>Beachfront</td> <td>4           </td> <td>MANDALAY_3          </td> <td>5     </td> <td>76.05 </td> <td>76.05 </td> <td>82.05 </td> <td>82.05 </td> <td>Beachfront  </td> <td>5        </td> <td>MANDALAY 3          </td> <td>150        </td> <td>11.23                </td> <td>4.5                   </td> <td>50.56              </td> <td>1.5                </td> <td>52.06                   </td> <td>0.6              </td> <td>$1,000               </td>\n",
       "        </tr>\n",
       "        <tr>\n",
       "            <td>73      </td> <td>Arrow   </td> <td>1      </td> <td>Low_Fossil</td> <td>7           </td> <td>HUNTERS_POINT_1-2   </td> <td>5     </td> <td>77.17 </td> <td>77.17 </td> <td>77.17 </td> <td>77.17 </td> <td>Fossil Light</td> <td>8        </td> <td>HUNTERS POINT 1&2   </td> <td>150        </td> <td>10.59                </td> <td>4.5                   </td> <td>47.67              </td> <td>1.5                </td> <td>49.17                   </td> <td>0.56             </td> <td>$1,000               </td>\n",
       "        </tr>\n",
       "        <tr>\n",
       "            <td>54      </td> <td>Heckman </td> <td>6      </td> <td>East_Bay  </td> <td>5           </td> <td>CONTRA_COSTA_4-5    </td> <td>5     </td> <td>79    </td> <td>79    </td> <td>79    </td> <td>79    </td> <td>East Bay    </td> <td>6        </td> <td>CONTRA COSTA 4&5    </td> <td>150        </td> <td>12.84                </td> <td>4.5                   </td> <td>57.78              </td> <td>0.5                </td> <td>58.28                   </td> <td>0.68             </td> <td>$1,000               </td>\n",
       "        </tr>\n",
       "        <tr>\n",
       "            <td>53      </td> <td>Heckman </td> <td>6      </td> <td>East_Bay  </td> <td>5           </td> <td>PITTSBURG_7         </td> <td>5     </td> <td>81    </td> <td>81    </td> <td>81    </td> <td>81    </td> <td>East Bay    </td> <td>6        </td> <td>PITTSBURGH 7        </td> <td>700        </td> <td>13.16                </td> <td>4.5                   </td> <td>59.22              </td> <td>0.5                </td> <td>59.72                   </td> <td>0.7              </td> <td>$4,000               </td>\n",
       "        </tr>\n",
       "        <tr>\n",
       "            <td>26      </td> <td>Becker  </td> <td>2      </td> <td>Big_Gas   </td> <td>2           </td> <td>KEARNY              </td> <td>5     </td> <td>90.97 </td> <td>90.97 </td> <td>61.97 </td> <td>44.97 </td> <td>Big Gas     </td> <td>2        </td> <td>KEARNY              </td> <td>200        </td> <td>19.9                 </td> <td>4.5                   </td> <td>89.56              </td> <td>0.5                </td> <td>90.06                   </td> <td>1.06             </td> <td>$0                   </td>\n",
       "        </tr>\n",
       "        <tr>\n",
       "            <td>43      </td> <td>Debreu  </td> <td>4      </td> <td>Beachfront</td> <td>4           </td> <td>ETIWANDA_5          </td> <td>5     </td> <td>91.69 </td> <td>91.69 </td> <td>98.89 </td> <td>98.89 </td> <td>Beachfront  </td> <td>5        </td> <td>ETIWANDA 5          </td> <td>150        </td> <td>13.64                </td> <td>4.5                   </td> <td>61.39              </td> <td>1.5                </td> <td>62.89                   </td> <td>0.72             </td> <td>$1,000               </td>\n",
       "        </tr>\n",
       "        <tr>\n",
       "            <td>56      </td> <td>Heckman </td> <td>6      </td> <td>East_Bay  </td> <td>5           </td> <td>POTRERO_HILL        </td> <td>5     </td> <td>95    </td> <td>95    </td> <td>95    </td> <td>95    </td> <td>East Bay    </td> <td>6        </td> <td>POTRERO HILL        </td> <td>150        </td> <td>15.41                </td> <td>4.5                   </td> <td>69.33              </td> <td>0.5                </td> <td>69.83                   </td> <td>0.82             </td> <td>$0                   </td>\n",
       "        </tr>\n",
       "        <tr>\n",
       "            <td>44      </td> <td>Debreu  </td> <td>4      </td> <td>Beachfront</td> <td>4           </td> <td>ELLWOOD             </td> <td>5     </td> <td>111.21</td> <td>111.21</td> <td>120.11</td> <td>120.11</td> <td>Beachfront  </td> <td>5        </td> <td>ELLWOOD             </td> <td>300        </td> <td>16.69                </td> <td>4.5                   </td> <td>75.11              </td> <td>0.5                </td> <td>75.61                   </td> <td>0.89             </td> <td>$0                   </td>\n",
       "        </tr>\n",
       "        <tr>\n",
       "            <td>74      </td> <td>Arrow   </td> <td>1      </td> <td>Low_Fossil</td> <td>7           </td> <td>HUNTERS_POINT_4     </td> <td>5     </td> <td>119.89</td> <td>119.89</td> <td>119.89</td> <td>119.89</td> <td>Fossil Light</td> <td>8        </td> <td>HUNTERS POINT 4     </td> <td>250        </td> <td>16.53                </td> <td>4.5                   </td> <td>74.39              </td> <td>1.5                </td> <td>75.89                   </td> <td>0.88             </td> <td>$1,000               </td>\n",
       "        </tr>\n",
       "        <tr>\n",
       "            <td>64      </td> <td>Coase   </td> <td>3      </td> <td>Old_Timers</td> <td>6           </td> <td>HIGHGROVE           </td> <td>5     </td> <td>136.61</td> <td>136.61</td> <td>136.61</td> <td>136.61</td> <td>Old Timers  </td> <td>7        </td> <td>HIGHGROVE           </td> <td>150        </td> <td>10.91                </td> <td>4.5                   </td> <td>49.11              </td> <td>0.5                </td> <td>49.61                   </td> <td>0.58             </td> <td>$0                   </td>\n",
       "        </tr>\n",
       "        <tr>\n",
       "            <td>65      </td> <td>Coase   </td> <td>3      </td> <td>Old_Timers</td> <td>6           </td> <td>SAN_BERNARDINO      </td> <td>5     </td> <td>148.44</td> <td>148.44</td> <td>148.44</td> <td>148.44</td> <td>Old Timers  </td> <td>7        </td> <td>SAN BERNADINO       </td> <td>100        </td> <td>11.88                </td> <td>4.5                   </td> <td>53.44              </td> <td>0.5                </td> <td>53.94                   </td> <td>0.63             </td> <td>$0                   </td>\n",
       "        </tr>\n",
       "        <tr>\n",
       "            <td>35      </td> <td>Friedman</td> <td>5      </td> <td>Bay_Views </td> <td>3           </td> <td>OAKLAND             </td> <td>5     </td> <td>150   </td> <td>150   </td> <td>150   </td> <td>150   </td> <td>Bay Views   </td> <td>4        </td> <td>OAKLAND             </td> <td>150        </td> <td>13.48                </td> <td>4.5                   </td> <td>60.67              </td> <td>0.5                </td> <td>61.17                   </td> <td>0.72             </td> <td>$0                   </td>\n",
       "        </tr>\n",
       "        <tr>\n",
       "            <td>63      </td> <td>Coase   </td> <td>3      </td> <td>Old_Timers</td> <td>6           </td> <td>MOHAVE_2            </td> <td>5     </td> <td>175.5 </td> <td>175.5 </td> <td>175.5 </td> <td>175.5 </td> <td>Old Timers  </td> <td>7        </td> <td>MOHAVE 2            </td> <td>750        </td> <td>10                   </td> <td>3                     </td> <td>30                 </td> <td>4.5                </td> <td>34.5                    </td> <td>0.94             </td> <td>$15,000              </td>\n",
       "        </tr>\n",
       "        <tr>\n",
       "            <td>16      </td> <td>Krugman </td> <td>7      </td> <td>Big_Coal  </td> <td>1           </td> <td>REDONDO_7-8         </td> <td>5     </td> <td>242   </td> <td>242   </td> <td>41.94 </td> <td>242   </td> <td>Big Coal    </td> <td>1        </td> <td>REDONDO 7&8         </td> <td>950        </td> <td>8.99                 </td> <td>4.5                   </td> <td>40.44              </td> <td>1.5                </td> <td>41.94                   </td> <td>0.48             </td> <td>$5,000               </td>\n",
       "        </tr>\n",
       "        <tr>\n",
       "            <td>11      </td> <td>Krugman </td> <td>7      </td> <td>Big_Coal  </td> <td>1           </td> <td>Four Corners        </td> <td>5     </td> <td>346.5 </td> <td>36.5  </td> <td>36.5  </td> <td>346.5 </td> <td>Big Coal    </td> <td>1        </td> <td>FOUR CORNERS        </td> <td>1900       </td> <td>11.67                </td> <td>3                     </td> <td>35                 </td> <td>1.5                </td> <td>36.5                    </td> <td>1.1              </td> <td>$8,000               </td>\n",
       "        </tr>\n",
       "    </tbody>\n",
       "</table>"
      ],
      "text/plain": [
       "<IPython.core.display.HTML object>"
      ]
     },
     "metadata": {},
     "output_type": "display_data"
    }
   ],
   "source": [
    "#ESG_Sort = ESG.sort(\"Total_Var_Cost_USDperMWH\", descending = False)\n",
    "\n",
    "sorted_joined_table = bids.join(\"PLANT_ID\", ESG, \"Plant_ID\").sort(\"PRICE1\", descending = False)\n",
    "sorted_joined_table.show(42)"
   ]
  },
  {
   "cell_type": "code",
   "execution_count": null,
   "metadata": {},
   "outputs": [],
   "source": [
    "def find_x_pos(widths):\n",
    "    cumulative_widths = [0]\n",
    "    cumulative_widths.extend(np.cumsum(widths))\n",
    "    half_widths = [i/2 for i in widths]\n",
    "    x_pos = []\n",
    "    for i in range(0, len(half_widths)):\n",
    "        x_pos.append(half_widths[i] + cumulative_widths[i])\n",
    "    return x_pos\n"
   ]
  },
  {
   "cell_type": "code",
   "execution_count": null,
   "metadata": {},
   "outputs": [],
   "source": [
    "width = ESG_sorted.column(\"Capacity_MW\")\n",
    "width\n",
    "height = ESG_sorted.column(\"Total_Var_Cost_USDperMWH\")\n",
    "height"
   ]
  },
  {
   "cell_type": "code",
   "execution_count": 78,
   "metadata": {},
   "outputs": [],
   "source": [
    "demand = 20000"
   ]
  },
  {
   "cell_type": "code",
   "execution_count": 79,
   "metadata": {},
   "outputs": [],
   "source": [
    "def price_calc(demand, sorted_table):\n",
    "    price = 0\n",
    "    sum_cap = 0\n",
    "    for i in range(0,len(sorted_table['Capacity_MW'])):\n",
    "        print(sum_cap)\n",
    "        if sum_cap + sorted_table['Capacity_MW'][i] > demand:\n",
    "            price = sorted_table['PRICE1'][i]\n",
    "            break\n",
    "        else:\n",
    "            sum_cap += sorted_table['Capacity_MW'][i]\n",
    "            price = sorted_table['PRICE1'][i]\n",
    "    return price"
   ]
  },
  {
   "cell_type": "code",
   "execution_count": 80,
   "metadata": {},
   "outputs": [
    {
     "name": "stdout",
     "output_type": "stream",
     "text": [
      "0\n",
      "1000\n",
      "1800\n",
      "2800\n",
      "3550\n",
      "4300\n",
      "5050\n",
      "5350\n",
      "6000\n",
      "6950\n",
      "7300\n",
      "8000\n",
      "8400\n",
      "9065\n",
      "9400\n",
      "10050\n",
      "10600\n",
      "11250\n",
      "11950\n",
      "12650\n",
      "13350\n",
      "13650\n",
      "14300\n",
      "15150\n",
      "15300\n",
      "15450\n",
      "15600\n",
      "15850\n",
      "16000\n",
      "16150\n",
      "16300\n",
      "17000\n",
      "17200\n",
      "17350\n",
      "17500\n",
      "17800\n",
      "18050\n",
      "18200\n",
      "18300\n",
      "18450\n",
      "19200\n"
     ]
    },
    {
     "data": {
      "text/plain": [
       "242.0"
      ]
     },
     "execution_count": 80,
     "metadata": {},
     "output_type": "execute_result"
    }
   ],
   "source": [
    "price = price_calc(demand, sorted_joined_table)\n",
    "price"
   ]
  },
  {
   "cell_type": "code",
   "execution_count": 65,
   "metadata": {},
   "outputs": [],
   "source": [
    "BIG_Coal = sorted_joined_table.where(\"Group\", \"Big Coal\")"
   ]
  },
  {
   "cell_type": "code",
   "execution_count": 66,
   "metadata": {},
   "outputs": [],
   "source": [
    "def profit(sorted_table, price):\n",
    "    capacity_subset = sum(sorted_table.where(\"Total_Var_Cost_USDperMWH\", are.below(price))[\"Capacity_MW\"])\n",
    "    revenue = capacity_subset * price\n",
    "    cost = 0\n",
    "    for i in range(len(sorted_table.where(\"Total_Var_Cost_USDperMWH\", are.below(price))[\"Total_Var_Cost_USDperMWH\"])):\n",
    "        cost += sorted_table.where(\"Total_Var_Cost_USDperMWH\", are.below(price))[\"Total_Var_Cost_USDperMWH\"][i]\\\n",
    "        * sorted_table.where(\"Total_Var_Cost_USDperMWH\", are.below(price))[\"Capacity_MW\"][i]\n",
    "    return revenue - cost"
   ]
  },
  {
   "cell_type": "code",
   "execution_count": 67,
   "metadata": {},
   "outputs": [
    {
     "data": {
      "text/plain": [
       "72998.0"
      ]
     },
     "execution_count": 67,
     "metadata": {},
     "output_type": "execute_result"
    }
   ],
   "source": [
    "profit(BIG_Coal, price)"
   ]
  },
  {
   "cell_type": "code",
   "execution_count": null,
   "metadata": {},
   "outputs": [],
   "source": []
  }
 ],
 "metadata": {
  "kernelspec": {
   "display_name": "Python 3",
   "language": "python",
   "name": "python3"
  },
  "language_info": {
   "codemirror_mode": {
    "name": "ipython",
    "version": 3
   },
   "file_extension": ".py",
   "mimetype": "text/x-python",
   "name": "python",
   "nbconvert_exporter": "python",
   "pygments_lexer": "ipython3",
   "version": "3.6.4"
  }
 },
 "nbformat": 4,
 "nbformat_minor": 2
}
